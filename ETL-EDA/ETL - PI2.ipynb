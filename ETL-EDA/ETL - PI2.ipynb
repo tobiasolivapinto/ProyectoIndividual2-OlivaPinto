{
 "cells": [
  {
   "attachments": {},
   "cell_type": "markdown",
   "metadata": {},
   "source": [
    "Proyecto Individual N°2 - Henry - Oliva Pinto\n",
    "\n",
    "ETL - EXtraccion, Transformacion, Carga\n",
    "\n",
    "El siguiente analisis se efectua con el objetivo de preparar y acondicionar la base de datos, para luego porder llevar a cabo anlisis mas profundos que permiten brindar informacion importante para mejorar la toma de decisiones."
   ]
  },
  {
   "attachments": {},
   "cell_type": "markdown",
   "metadata": {},
   "source": [
    "Es buena practica observar tanto las primeras como las ultimas filas del archivo para tener un panorama genral del Data Frame, y ademas, identificar posibles anomalias. "
   ]
  },
  {
   "cell_type": "code",
   "execution_count": 1,
   "metadata": {},
   "outputs": [],
   "source": [
    "#Importamos las librerias necesarias\n",
    "import pandas as pd\n",
    "import numpy as np"
   ]
  },
  {
   "cell_type": "code",
   "execution_count": 2,
   "metadata": {},
   "outputs": [
    {
     "data": {
      "text/html": [
       "<div>\n",
       "<style scoped>\n",
       "    .dataframe tbody tr th:only-of-type {\n",
       "        vertical-align: middle;\n",
       "    }\n",
       "\n",
       "    .dataframe tbody tr th {\n",
       "        vertical-align: top;\n",
       "    }\n",
       "\n",
       "    .dataframe thead th {\n",
       "        text-align: right;\n",
       "    }\n",
       "</style>\n",
       "<table border=\"1\" class=\"dataframe\">\n",
       "  <thead>\n",
       "    <tr style=\"text-align: right;\">\n",
       "      <th></th>\n",
       "      <th>Unnamed: 0</th>\n",
       "      <th>fecha</th>\n",
       "      <th>HORA declarada</th>\n",
       "      <th>Ruta</th>\n",
       "      <th>OperadOR</th>\n",
       "      <th>flight_no</th>\n",
       "      <th>route</th>\n",
       "      <th>ac_type</th>\n",
       "      <th>registration</th>\n",
       "      <th>cn_ln</th>\n",
       "      <th>all_aboard</th>\n",
       "      <th>PASAJEROS A BORDO</th>\n",
       "      <th>crew_aboard</th>\n",
       "      <th>cantidad de fallecidos</th>\n",
       "      <th>passenger_fatalities</th>\n",
       "      <th>crew_fatalities</th>\n",
       "      <th>ground</th>\n",
       "      <th>summary</th>\n",
       "    </tr>\n",
       "  </thead>\n",
       "  <tbody>\n",
       "    <tr>\n",
       "      <th>0</th>\n",
       "      <td>0</td>\n",
       "      <td>September 17, 1908</td>\n",
       "      <td>1718</td>\n",
       "      <td>Fort Myer, Virginia</td>\n",
       "      <td>Military - U.S. Army</td>\n",
       "      <td>?</td>\n",
       "      <td>Demonstration</td>\n",
       "      <td>Wright Flyer III</td>\n",
       "      <td>?</td>\n",
       "      <td>1</td>\n",
       "      <td>2</td>\n",
       "      <td>1</td>\n",
       "      <td>1</td>\n",
       "      <td>1</td>\n",
       "      <td>1</td>\n",
       "      <td>0</td>\n",
       "      <td>0</td>\n",
       "      <td>During a demonstration flight, a U.S. Army fly...</td>\n",
       "    </tr>\n",
       "    <tr>\n",
       "      <th>1</th>\n",
       "      <td>1</td>\n",
       "      <td>September 07, 1909</td>\n",
       "      <td>?</td>\n",
       "      <td>Juvisy-sur-Orge, France</td>\n",
       "      <td>?</td>\n",
       "      <td>?</td>\n",
       "      <td>Air show</td>\n",
       "      <td>Wright Byplane</td>\n",
       "      <td>SC1</td>\n",
       "      <td>?</td>\n",
       "      <td>1</td>\n",
       "      <td>0</td>\n",
       "      <td>1</td>\n",
       "      <td>1</td>\n",
       "      <td>0</td>\n",
       "      <td>0</td>\n",
       "      <td>0</td>\n",
       "      <td>Eugene Lefebvre was the first pilot to ever be...</td>\n",
       "    </tr>\n",
       "    <tr>\n",
       "      <th>2</th>\n",
       "      <td>2</td>\n",
       "      <td>July 12, 1912</td>\n",
       "      <td>0630</td>\n",
       "      <td>Atlantic City, New Jersey</td>\n",
       "      <td>Military - U.S. Navy</td>\n",
       "      <td>?</td>\n",
       "      <td>Test flight</td>\n",
       "      <td>Dirigible</td>\n",
       "      <td>?</td>\n",
       "      <td>?</td>\n",
       "      <td>5</td>\n",
       "      <td>0</td>\n",
       "      <td>5</td>\n",
       "      <td>5</td>\n",
       "      <td>0</td>\n",
       "      <td>5</td>\n",
       "      <td>0</td>\n",
       "      <td>First U.S. dirigible Akron exploded just offsh...</td>\n",
       "    </tr>\n",
       "    <tr>\n",
       "      <th>3</th>\n",
       "      <td>3</td>\n",
       "      <td>August 06, 1913</td>\n",
       "      <td>?</td>\n",
       "      <td>Victoria, British Columbia, Canada</td>\n",
       "      <td>Private</td>\n",
       "      <td>?</td>\n",
       "      <td>?</td>\n",
       "      <td>Curtiss seaplane</td>\n",
       "      <td>?</td>\n",
       "      <td>?</td>\n",
       "      <td>1</td>\n",
       "      <td>0</td>\n",
       "      <td>1</td>\n",
       "      <td>1</td>\n",
       "      <td>0</td>\n",
       "      <td>1</td>\n",
       "      <td>0</td>\n",
       "      <td>The first fatal airplane accident in Canada oc...</td>\n",
       "    </tr>\n",
       "    <tr>\n",
       "      <th>4</th>\n",
       "      <td>4</td>\n",
       "      <td>September 09, 1913</td>\n",
       "      <td>1830</td>\n",
       "      <td>Over the North Sea</td>\n",
       "      <td>Military - German Navy</td>\n",
       "      <td>?</td>\n",
       "      <td>?</td>\n",
       "      <td>Zeppelin L-1 (airship)</td>\n",
       "      <td>?</td>\n",
       "      <td>?</td>\n",
       "      <td>20</td>\n",
       "      <td>?</td>\n",
       "      <td>?</td>\n",
       "      <td>14</td>\n",
       "      <td>?</td>\n",
       "      <td>?</td>\n",
       "      <td>0</td>\n",
       "      <td>The airship flew into a thunderstorm and encou...</td>\n",
       "    </tr>\n",
       "  </tbody>\n",
       "</table>\n",
       "</div>"
      ],
      "text/plain": [
       "   Unnamed: 0               fecha HORA declarada  \\\n",
       "0           0  September 17, 1908           1718   \n",
       "1           1  September 07, 1909              ?   \n",
       "2           2       July 12, 1912           0630   \n",
       "3           3     August 06, 1913              ?   \n",
       "4           4  September 09, 1913           1830   \n",
       "\n",
       "                                 Ruta                OperadOR flight_no  \\\n",
       "0                 Fort Myer, Virginia    Military - U.S. Army         ?   \n",
       "1             Juvisy-sur-Orge, France                       ?         ?   \n",
       "2           Atlantic City, New Jersey    Military - U.S. Navy         ?   \n",
       "3  Victoria, British Columbia, Canada                 Private         ?   \n",
       "4                  Over the North Sea  Military - German Navy         ?   \n",
       "\n",
       "           route                 ac_type registration cn_ln all_aboard  \\\n",
       "0  Demonstration        Wright Flyer III            ?     1          2   \n",
       "1       Air show          Wright Byplane          SC1     ?          1   \n",
       "2    Test flight               Dirigible            ?     ?          5   \n",
       "3              ?        Curtiss seaplane            ?     ?          1   \n",
       "4              ?  Zeppelin L-1 (airship)            ?     ?         20   \n",
       "\n",
       "  PASAJEROS A BORDO crew_aboard cantidad de fallecidos passenger_fatalities  \\\n",
       "0                 1           1                      1                    1   \n",
       "1                 0           1                      1                    0   \n",
       "2                 0           5                      5                    0   \n",
       "3                 0           1                      1                    0   \n",
       "4                 ?           ?                     14                    ?   \n",
       "\n",
       "  crew_fatalities ground                                            summary  \n",
       "0               0      0  During a demonstration flight, a U.S. Army fly...  \n",
       "1               0      0  Eugene Lefebvre was the first pilot to ever be...  \n",
       "2               5      0  First U.S. dirigible Akron exploded just offsh...  \n",
       "3               1      0  The first fatal airplane accident in Canada oc...  \n",
       "4               ?      0  The airship flew into a thunderstorm and encou...  "
      ]
     },
     "execution_count": 2,
     "metadata": {},
     "output_type": "execute_result"
    }
   ],
   "source": [
    "#Cargamos el archivo como un Data Frame y visualizamos\n",
    "aviones_db = pd.read_csv(\"/Users/tobiasolivapinto/Downloads/AccidentesAviones.csv\")\n",
    "#La funcion head nos permite ver las primeras filas\n",
    "aviones_db.head()"
   ]
  },
  {
   "cell_type": "code",
   "execution_count": 3,
   "metadata": {},
   "outputs": [
    {
     "data": {
      "text/html": [
       "<div>\n",
       "<style scoped>\n",
       "    .dataframe tbody tr th:only-of-type {\n",
       "        vertical-align: middle;\n",
       "    }\n",
       "\n",
       "    .dataframe tbody tr th {\n",
       "        vertical-align: top;\n",
       "    }\n",
       "\n",
       "    .dataframe thead th {\n",
       "        text-align: right;\n",
       "    }\n",
       "</style>\n",
       "<table border=\"1\" class=\"dataframe\">\n",
       "  <thead>\n",
       "    <tr style=\"text-align: right;\">\n",
       "      <th></th>\n",
       "      <th>Unnamed: 0</th>\n",
       "      <th>fecha</th>\n",
       "      <th>HORA declarada</th>\n",
       "      <th>Ruta</th>\n",
       "      <th>OperadOR</th>\n",
       "      <th>flight_no</th>\n",
       "      <th>route</th>\n",
       "      <th>ac_type</th>\n",
       "      <th>registration</th>\n",
       "      <th>cn_ln</th>\n",
       "      <th>all_aboard</th>\n",
       "      <th>PASAJEROS A BORDO</th>\n",
       "      <th>crew_aboard</th>\n",
       "      <th>cantidad de fallecidos</th>\n",
       "      <th>passenger_fatalities</th>\n",
       "      <th>crew_fatalities</th>\n",
       "      <th>ground</th>\n",
       "      <th>summary</th>\n",
       "    </tr>\n",
       "  </thead>\n",
       "  <tbody>\n",
       "    <tr>\n",
       "      <th>5003</th>\n",
       "      <td>5003</td>\n",
       "      <td>March 28, 2021</td>\n",
       "      <td>1835</td>\n",
       "      <td>Near Butte, Alaska</td>\n",
       "      <td>Soloy Helicopters</td>\n",
       "      <td>?</td>\n",
       "      <td>Sightseeing Charter</td>\n",
       "      <td>Eurocopter AS350B3 Ecureuil</td>\n",
       "      <td>N351SH</td>\n",
       "      <td>4598</td>\n",
       "      <td>6</td>\n",
       "      <td>5</td>\n",
       "      <td>1</td>\n",
       "      <td>5</td>\n",
       "      <td>4</td>\n",
       "      <td>1</td>\n",
       "      <td>0</td>\n",
       "      <td>The sightseeing helicopter crashed after missi...</td>\n",
       "    </tr>\n",
       "    <tr>\n",
       "      <th>5004</th>\n",
       "      <td>5004</td>\n",
       "      <td>May 21, 2021</td>\n",
       "      <td>1800</td>\n",
       "      <td>Near Kaduna, Nigeria</td>\n",
       "      <td>Military - Nigerian Air Force</td>\n",
       "      <td>?</td>\n",
       "      <td>?</td>\n",
       "      <td>Beechcraft B300 King Air 350i</td>\n",
       "      <td>NAF203</td>\n",
       "      <td>FL-891</td>\n",
       "      <td>11</td>\n",
       "      <td>7</td>\n",
       "      <td>4</td>\n",
       "      <td>11</td>\n",
       "      <td>7</td>\n",
       "      <td>4</td>\n",
       "      <td>0</td>\n",
       "      <td>While on final approach, in poor weather condi...</td>\n",
       "    </tr>\n",
       "    <tr>\n",
       "      <th>5005</th>\n",
       "      <td>5005</td>\n",
       "      <td>June 10, 2021</td>\n",
       "      <td>0800</td>\n",
       "      <td>Near Pyin Oo Lwin, Myanmar</td>\n",
       "      <td>Military - Myanmar Air Force</td>\n",
       "      <td>?</td>\n",
       "      <td>Naypyidaw - Anisakan</td>\n",
       "      <td>Beechcraft 1900D</td>\n",
       "      <td>4610</td>\n",
       "      <td>E-325</td>\n",
       "      <td>14</td>\n",
       "      <td>12</td>\n",
       "      <td>2</td>\n",
       "      <td>12</td>\n",
       "      <td>11</td>\n",
       "      <td>1</td>\n",
       "      <td>0</td>\n",
       "      <td>The plane was carrying military personnel and ...</td>\n",
       "    </tr>\n",
       "    <tr>\n",
       "      <th>5006</th>\n",
       "      <td>5006</td>\n",
       "      <td>July 04, 2021</td>\n",
       "      <td>11:30</td>\n",
       "      <td>Patikul, Sulu, Philippines</td>\n",
       "      <td>Military - Philippine Air Force</td>\n",
       "      <td>?</td>\n",
       "      <td>Cagayan de Oro-Lumbia - Jolo</td>\n",
       "      <td>Lockheed C-130H Hercules</td>\n",
       "      <td>5125</td>\n",
       "      <td>5125</td>\n",
       "      <td>96</td>\n",
       "      <td>88</td>\n",
       "      <td>8</td>\n",
       "      <td>50</td>\n",
       "      <td>?</td>\n",
       "      <td>?</td>\n",
       "      <td>3</td>\n",
       "      <td>While attempting to land at Jolo Airport, the ...</td>\n",
       "    </tr>\n",
       "    <tr>\n",
       "      <th>5007</th>\n",
       "      <td>5007</td>\n",
       "      <td>July 06, 2021</td>\n",
       "      <td>1500</td>\n",
       "      <td>Palana, Russia</td>\n",
       "      <td>Kamchatka Aviation Enterprise</td>\n",
       "      <td>251</td>\n",
       "      <td>Petropavlovsk - Palana</td>\n",
       "      <td>Antonov An 26B-100</td>\n",
       "      <td>RA-26085</td>\n",
       "      <td>12310</td>\n",
       "      <td>28</td>\n",
       "      <td>22</td>\n",
       "      <td>6</td>\n",
       "      <td>28</td>\n",
       "      <td>22</td>\n",
       "      <td>6</td>\n",
       "      <td>0</td>\n",
       "      <td>The passenger plane crashed into the top of a ...</td>\n",
       "    </tr>\n",
       "  </tbody>\n",
       "</table>\n",
       "</div>"
      ],
      "text/plain": [
       "      Unnamed: 0           fecha HORA declarada                        Ruta  \\\n",
       "5003        5003  March 28, 2021           1835          Near Butte, Alaska   \n",
       "5004        5004    May 21, 2021           1800        Near Kaduna, Nigeria   \n",
       "5005        5005   June 10, 2021           0800  Near Pyin Oo Lwin, Myanmar   \n",
       "5006        5006   July 04, 2021          11:30  Patikul, Sulu, Philippines   \n",
       "5007        5007   July 06, 2021           1500              Palana, Russia   \n",
       "\n",
       "                             OperadOR flight_no                         route  \\\n",
       "5003                Soloy Helicopters         ?           Sightseeing Charter   \n",
       "5004    Military - Nigerian Air Force         ?                             ?   \n",
       "5005     Military - Myanmar Air Force         ?          Naypyidaw - Anisakan   \n",
       "5006  Military - Philippine Air Force         ?  Cagayan de Oro-Lumbia - Jolo   \n",
       "5007    Kamchatka Aviation Enterprise       251        Petropavlovsk - Palana   \n",
       "\n",
       "                            ac_type registration   cn_ln all_aboard  \\\n",
       "5003    Eurocopter AS350B3 Ecureuil       N351SH    4598          6   \n",
       "5004  Beechcraft B300 King Air 350i       NAF203  FL-891         11   \n",
       "5005               Beechcraft 1900D         4610   E-325         14   \n",
       "5006       Lockheed C-130H Hercules         5125    5125         96   \n",
       "5007             Antonov An 26B-100     RA-26085   12310         28   \n",
       "\n",
       "     PASAJEROS A BORDO crew_aboard cantidad de fallecidos  \\\n",
       "5003                 5           1                      5   \n",
       "5004                 7           4                     11   \n",
       "5005                12           2                     12   \n",
       "5006                88           8                     50   \n",
       "5007                22           6                     28   \n",
       "\n",
       "     passenger_fatalities crew_fatalities ground  \\\n",
       "5003                    4               1      0   \n",
       "5004                    7               4      0   \n",
       "5005                   11               1      0   \n",
       "5006                    ?               ?      3   \n",
       "5007                   22               6      0   \n",
       "\n",
       "                                                summary  \n",
       "5003  The sightseeing helicopter crashed after missi...  \n",
       "5004  While on final approach, in poor weather condi...  \n",
       "5005  The plane was carrying military personnel and ...  \n",
       "5006  While attempting to land at Jolo Airport, the ...  \n",
       "5007  The passenger plane crashed into the top of a ...  "
      ]
     },
     "execution_count": 3,
     "metadata": {},
     "output_type": "execute_result"
    }
   ],
   "source": [
    "#Visualizamos las ultimas filas del archivo\n",
    "aviones_db.tail()"
   ]
  },
  {
   "cell_type": "code",
   "execution_count": 4,
   "metadata": {},
   "outputs": [
    {
     "name": "stdout",
     "output_type": "stream",
     "text": [
      "<class 'pandas.core.frame.DataFrame'>\n",
      "RangeIndex: 5008 entries, 0 to 5007\n",
      "Data columns (total 18 columns):\n",
      " #   Column                  Non-Null Count  Dtype \n",
      "---  ------                  --------------  ----- \n",
      " 0   Unnamed: 0              5008 non-null   int64 \n",
      " 1   fecha                   5008 non-null   object\n",
      " 2   HORA declarada          5008 non-null   object\n",
      " 3   Ruta                    5008 non-null   object\n",
      " 4   OperadOR                5008 non-null   object\n",
      " 5   flight_no               5008 non-null   object\n",
      " 6   route                   5008 non-null   object\n",
      " 7   ac_type                 5008 non-null   object\n",
      " 8   registration            5008 non-null   object\n",
      " 9   cn_ln                   5008 non-null   object\n",
      " 10  all_aboard              5008 non-null   object\n",
      " 11  PASAJEROS A BORDO       5008 non-null   object\n",
      " 12  crew_aboard             5008 non-null   object\n",
      " 13  cantidad de fallecidos  5008 non-null   object\n",
      " 14  passenger_fatalities    5008 non-null   object\n",
      " 15  crew_fatalities         5008 non-null   object\n",
      " 16  ground                  5008 non-null   object\n",
      " 17  summary                 5008 non-null   object\n",
      "dtypes: int64(1), object(17)\n",
      "memory usage: 704.4+ KB\n"
     ]
    }
   ],
   "source": [
    "#Visualizamos informacion general del Data Frame (Cant. de filas, tipos de datos, etc)\n",
    "aviones_db.info()"
   ]
  },
  {
   "cell_type": "code",
   "execution_count": 5,
   "metadata": {},
   "outputs": [
    {
     "data": {
      "text/plain": [
       "Unnamed: 0                0\n",
       "fecha                     0\n",
       "HORA declarada            0\n",
       "Ruta                      0\n",
       "OperadOR                  0\n",
       "flight_no                 0\n",
       "route                     0\n",
       "ac_type                   0\n",
       "registration              0\n",
       "cn_ln                     0\n",
       "all_aboard                0\n",
       "PASAJEROS A BORDO         0\n",
       "crew_aboard               0\n",
       "cantidad de fallecidos    0\n",
       "passenger_fatalities      0\n",
       "crew_fatalities           0\n",
       "ground                    0\n",
       "summary                   0\n",
       "dtype: int64"
      ]
     },
     "execution_count": 5,
     "metadata": {},
     "output_type": "execute_result"
    }
   ],
   "source": [
    "#Visualizamos nulos \n",
    "aviones_db.isnull().sum()"
   ]
  },
  {
   "attachments": {},
   "cell_type": "markdown",
   "metadata": {},
   "source": [
    "Luego de este primer paneo del Data Frame podemos sacar varias conclusiones. \n",
    "\n",
    "Primero, que la primer columna es un indice duplicado, por lo que no hace falta. Segundo, que hay una gran falta de datos al principio del DF que seguramente de debe a que son datos de asi casi 100 años y en ese entonces no habia las mismas regulaciones que ahora, pero al final del DF cuando los datos son mas recientes, la informacion esta mas completa. Ademas, podemos ver que no hay nulos, pero que hay gran cantidad de signos de preguntas, que en este caso pueden significar lo mismo, es decir, falta de datos. Por utilmo, los tipos de datos no son los correctos para todas las columnas, se deben corregir. \n",
    "\n",
    "Para sacar mas conclusiones, es necesario continuar analisando. Vamos a empezar por corregir lo que acabamos de marcar. "
   ]
  },
  {
   "attachments": {},
   "cell_type": "markdown",
   "metadata": {},
   "source": [
    "Antes que nada debemos volver hacer el conteo de nulos por columna, es decir, de \"?\"."
   ]
  },
  {
   "cell_type": "code",
   "execution_count": 6,
   "metadata": {},
   "outputs": [],
   "source": [
    "#Cambiamos los \"?\", por nulos\n",
    "aviones_db = aviones_db.replace(\"?\", np.nan)"
   ]
  },
  {
   "cell_type": "code",
   "execution_count": 7,
   "metadata": {},
   "outputs": [
    {
     "data": {
      "text/plain": [
       "Unnamed: 0                   0\n",
       "fecha                        0\n",
       "HORA declarada            1504\n",
       "Ruta                         5\n",
       "OperadOR                    10\n",
       "flight_no                 3682\n",
       "route                      762\n",
       "ac_type                     13\n",
       "registration               272\n",
       "cn_ln                      667\n",
       "all_aboard                  17\n",
       "PASAJEROS A BORDO          221\n",
       "crew_aboard                219\n",
       "cantidad de fallecidos       8\n",
       "passenger_fatalities       235\n",
       "crew_fatalities            235\n",
       "ground                      44\n",
       "summary                     59\n",
       "dtype: int64"
      ]
     },
     "execution_count": 7,
     "metadata": {},
     "output_type": "execute_result"
    }
   ],
   "source": [
    "#Visualizamos los nulos nuevamente\n",
    "aviones_db.isnull().sum()"
   ]
  },
  {
   "attachments": {},
   "cell_type": "markdown",
   "metadata": {},
   "source": [
    "Vemos que de 5008 filas, mas de 3500 no tienen el numero de vuelo, por lo que no vale la pena conservar la columna. "
   ]
  },
  {
   "cell_type": "code",
   "execution_count": 8,
   "metadata": {},
   "outputs": [],
   "source": [
    "#Eliminamos la primer columna\n",
    "aviones_db.drop(\"flight_no\", axis=1, inplace=True)"
   ]
  },
  {
   "attachments": {},
   "cell_type": "markdown",
   "metadata": {},
   "source": [
    "Para las columnas numericas vamos a cambiar el \"?\" por 0. Para las columnas alfanumericas vamos a cambiar el \"?\" por \"Sin Dato\". "
   ]
  },
  {
   "cell_type": "code",
   "execution_count": 9,
   "metadata": {},
   "outputs": [],
   "source": [
    "#Vamos a cambiar el \"?\" por 0\n",
    "aviones_db[\"all_aboard\"] = aviones_db[\"all_aboard\"].replace(np.nan, 0)\n",
    "aviones_db[\"PASAJEROS A BORDO\"] = aviones_db[\"PASAJEROS A BORDO\"].replace(np.nan, 0)\n",
    "aviones_db[\"crew_aboard\"] = aviones_db[\"crew_aboard\"].replace(np.nan, 0)\n",
    "aviones_db[\"cantidad de fallecidos\"] = aviones_db[\"cantidad de fallecidos\"].replace(np.nan, 0)\n",
    "aviones_db[\"passenger_fatalities\"] = aviones_db[\"passenger_fatalities\"].replace(np.nan, 0)\n",
    "aviones_db[\"crew_fatalities\"] = aviones_db[\"crew_fatalities\"].replace(np.nan, 0)\n",
    "aviones_db[\"ground\"] = aviones_db[\"ground\"].replace(np.nan, 0)"
   ]
  },
  {
   "cell_type": "code",
   "execution_count": 10,
   "metadata": {},
   "outputs": [],
   "source": [
    "#Vamos a cambiar el \"?\" por \"Sin Dato\"\n",
    "aviones_db[\"Ruta\"] = aviones_db[\"Ruta\"].replace(np.nan, \"Sin Dato\")\n",
    "aviones_db[\"OperadOR\"] = aviones_db[\"OperadOR\"].replace(np.nan, \"Sin Dato\")\n",
    "aviones_db[\"route\"] = aviones_db[\"route\"].replace(np.nan, \"Sin Dato\")\n",
    "aviones_db[\"ac_type\"] = aviones_db[\"ac_type\"].replace(np.nan, \"Sin Dato\")\n",
    "aviones_db[\"registration\"] = aviones_db[\"registration\"].replace(np.nan, \"Sin Dato\")\n",
    "aviones_db[\"cn_ln\"] = aviones_db[\"cn_ln\"].replace(np.nan, \"Sin Dato\")\n",
    "aviones_db[\"summary\"] = aviones_db[\"summary\"].replace(np.nan, \"Sin Dato\")"
   ]
  },
  {
   "cell_type": "code",
   "execution_count": 11,
   "metadata": {},
   "outputs": [],
   "source": [
    "#Eliminamos la primer columna\n",
    "aviones_db.drop(\"Unnamed: 0\", axis=1, inplace=True)"
   ]
  },
  {
   "cell_type": "code",
   "execution_count": 12,
   "metadata": {},
   "outputs": [],
   "source": [
    "#cambiamos la feacha a formato fecha\n",
    "aviones_db[\"fecha\"] = pd.to_datetime(aviones_db[\"fecha\"])"
   ]
  },
  {
   "cell_type": "code",
   "execution_count": 13,
   "metadata": {},
   "outputs": [],
   "source": [
    "#Cambiamos la hora a formato hora\n",
    "aviones_db[\"HORA declarada\"] = pd.to_datetime(aviones_db[\"HORA declarada\"], format=\"%H%M\", errors=\"coerce\").dt.time"
   ]
  },
  {
   "cell_type": "code",
   "execution_count": 14,
   "metadata": {},
   "outputs": [],
   "source": [
    "#Cambiamos las columnas numericas por tipo int\n",
    "aviones_db[\"all_aboard\"] = aviones_db[\"all_aboard\"].astype(int)\n",
    "aviones_db[\"all_aboard\"] = aviones_db[\"all_aboard\"].astype(int)\n",
    "aviones_db[\"PASAJEROS A BORDO\"] = aviones_db[\"PASAJEROS A BORDO\"].astype(int)\n",
    "aviones_db[\"crew_aboard\"] = aviones_db[\"crew_aboard\"].astype(int)\n",
    "aviones_db[\"cantidad de fallecidos\"] = aviones_db[\"cantidad de fallecidos\"].astype(int)\n",
    "aviones_db[\"passenger_fatalities\"] = aviones_db[\"passenger_fatalities\"].astype(int)\n",
    "aviones_db[\"crew_fatalities\"] = aviones_db[\"crew_fatalities\"].astype(int)\n",
    "aviones_db[\"ground\"] = aviones_db[\"ground\"].astype(int)"
   ]
  },
  {
   "cell_type": "code",
   "execution_count": 15,
   "metadata": {},
   "outputs": [
    {
     "data": {
      "text/html": [
       "<div>\n",
       "<style scoped>\n",
       "    .dataframe tbody tr th:only-of-type {\n",
       "        vertical-align: middle;\n",
       "    }\n",
       "\n",
       "    .dataframe tbody tr th {\n",
       "        vertical-align: top;\n",
       "    }\n",
       "\n",
       "    .dataframe thead th {\n",
       "        text-align: right;\n",
       "    }\n",
       "</style>\n",
       "<table border=\"1\" class=\"dataframe\">\n",
       "  <thead>\n",
       "    <tr style=\"text-align: right;\">\n",
       "      <th></th>\n",
       "      <th>fecha</th>\n",
       "      <th>HORA declarada</th>\n",
       "      <th>Ruta</th>\n",
       "      <th>OperadOR</th>\n",
       "      <th>route</th>\n",
       "      <th>ac_type</th>\n",
       "      <th>registration</th>\n",
       "      <th>cn_ln</th>\n",
       "      <th>all_aboard</th>\n",
       "      <th>PASAJEROS A BORDO</th>\n",
       "      <th>crew_aboard</th>\n",
       "      <th>cantidad de fallecidos</th>\n",
       "      <th>passenger_fatalities</th>\n",
       "      <th>crew_fatalities</th>\n",
       "      <th>ground</th>\n",
       "      <th>summary</th>\n",
       "    </tr>\n",
       "  </thead>\n",
       "  <tbody>\n",
       "    <tr>\n",
       "      <th>0</th>\n",
       "      <td>1908-09-17</td>\n",
       "      <td>17:18:00</td>\n",
       "      <td>Fort Myer, Virginia</td>\n",
       "      <td>Military - U.S. Army</td>\n",
       "      <td>Demonstration</td>\n",
       "      <td>Wright Flyer III</td>\n",
       "      <td>Sin Dato</td>\n",
       "      <td>1</td>\n",
       "      <td>2</td>\n",
       "      <td>1</td>\n",
       "      <td>1</td>\n",
       "      <td>1</td>\n",
       "      <td>1</td>\n",
       "      <td>0</td>\n",
       "      <td>0</td>\n",
       "      <td>During a demonstration flight, a U.S. Army fly...</td>\n",
       "    </tr>\n",
       "    <tr>\n",
       "      <th>1</th>\n",
       "      <td>1909-09-07</td>\n",
       "      <td>NaT</td>\n",
       "      <td>Juvisy-sur-Orge, France</td>\n",
       "      <td>Sin Dato</td>\n",
       "      <td>Air show</td>\n",
       "      <td>Wright Byplane</td>\n",
       "      <td>SC1</td>\n",
       "      <td>Sin Dato</td>\n",
       "      <td>1</td>\n",
       "      <td>0</td>\n",
       "      <td>1</td>\n",
       "      <td>1</td>\n",
       "      <td>0</td>\n",
       "      <td>0</td>\n",
       "      <td>0</td>\n",
       "      <td>Eugene Lefebvre was the first pilot to ever be...</td>\n",
       "    </tr>\n",
       "    <tr>\n",
       "      <th>2</th>\n",
       "      <td>1912-07-12</td>\n",
       "      <td>06:30:00</td>\n",
       "      <td>Atlantic City, New Jersey</td>\n",
       "      <td>Military - U.S. Navy</td>\n",
       "      <td>Test flight</td>\n",
       "      <td>Dirigible</td>\n",
       "      <td>Sin Dato</td>\n",
       "      <td>Sin Dato</td>\n",
       "      <td>5</td>\n",
       "      <td>0</td>\n",
       "      <td>5</td>\n",
       "      <td>5</td>\n",
       "      <td>0</td>\n",
       "      <td>5</td>\n",
       "      <td>0</td>\n",
       "      <td>First U.S. dirigible Akron exploded just offsh...</td>\n",
       "    </tr>\n",
       "    <tr>\n",
       "      <th>3</th>\n",
       "      <td>1913-08-06</td>\n",
       "      <td>NaT</td>\n",
       "      <td>Victoria, British Columbia, Canada</td>\n",
       "      <td>Private</td>\n",
       "      <td>Sin Dato</td>\n",
       "      <td>Curtiss seaplane</td>\n",
       "      <td>Sin Dato</td>\n",
       "      <td>Sin Dato</td>\n",
       "      <td>1</td>\n",
       "      <td>0</td>\n",
       "      <td>1</td>\n",
       "      <td>1</td>\n",
       "      <td>0</td>\n",
       "      <td>1</td>\n",
       "      <td>0</td>\n",
       "      <td>The first fatal airplane accident in Canada oc...</td>\n",
       "    </tr>\n",
       "    <tr>\n",
       "      <th>4</th>\n",
       "      <td>1913-09-09</td>\n",
       "      <td>18:30:00</td>\n",
       "      <td>Over the North Sea</td>\n",
       "      <td>Military - German Navy</td>\n",
       "      <td>Sin Dato</td>\n",
       "      <td>Zeppelin L-1 (airship)</td>\n",
       "      <td>Sin Dato</td>\n",
       "      <td>Sin Dato</td>\n",
       "      <td>20</td>\n",
       "      <td>0</td>\n",
       "      <td>0</td>\n",
       "      <td>14</td>\n",
       "      <td>0</td>\n",
       "      <td>0</td>\n",
       "      <td>0</td>\n",
       "      <td>The airship flew into a thunderstorm and encou...</td>\n",
       "    </tr>\n",
       "  </tbody>\n",
       "</table>\n",
       "</div>"
      ],
      "text/plain": [
       "       fecha HORA declarada                                Ruta  \\\n",
       "0 1908-09-17       17:18:00                 Fort Myer, Virginia   \n",
       "1 1909-09-07            NaT             Juvisy-sur-Orge, France   \n",
       "2 1912-07-12       06:30:00           Atlantic City, New Jersey   \n",
       "3 1913-08-06            NaT  Victoria, British Columbia, Canada   \n",
       "4 1913-09-09       18:30:00                  Over the North Sea   \n",
       "\n",
       "                 OperadOR          route                 ac_type registration  \\\n",
       "0    Military - U.S. Army  Demonstration        Wright Flyer III     Sin Dato   \n",
       "1                Sin Dato       Air show          Wright Byplane          SC1   \n",
       "2    Military - U.S. Navy    Test flight               Dirigible     Sin Dato   \n",
       "3                 Private       Sin Dato        Curtiss seaplane     Sin Dato   \n",
       "4  Military - German Navy       Sin Dato  Zeppelin L-1 (airship)     Sin Dato   \n",
       "\n",
       "      cn_ln  all_aboard  PASAJEROS A BORDO  crew_aboard  \\\n",
       "0         1           2                  1            1   \n",
       "1  Sin Dato           1                  0            1   \n",
       "2  Sin Dato           5                  0            5   \n",
       "3  Sin Dato           1                  0            1   \n",
       "4  Sin Dato          20                  0            0   \n",
       "\n",
       "   cantidad de fallecidos  passenger_fatalities  crew_fatalities  ground  \\\n",
       "0                       1                     1                0       0   \n",
       "1                       1                     0                0       0   \n",
       "2                       5                     0                5       0   \n",
       "3                       1                     0                1       0   \n",
       "4                      14                     0                0       0   \n",
       "\n",
       "                                             summary  \n",
       "0  During a demonstration flight, a U.S. Army fly...  \n",
       "1  Eugene Lefebvre was the first pilot to ever be...  \n",
       "2  First U.S. dirigible Akron exploded just offsh...  \n",
       "3  The first fatal airplane accident in Canada oc...  \n",
       "4  The airship flew into a thunderstorm and encou...  "
      ]
     },
     "execution_count": 15,
     "metadata": {},
     "output_type": "execute_result"
    }
   ],
   "source": [
    "#Visualizamos el DF luego de las transformaciones\n",
    "aviones_db.head()"
   ]
  },
  {
   "cell_type": "code",
   "execution_count": 16,
   "metadata": {},
   "outputs": [
    {
     "name": "stdout",
     "output_type": "stream",
     "text": [
      "<class 'pandas.core.frame.DataFrame'>\n",
      "RangeIndex: 5008 entries, 0 to 5007\n",
      "Data columns (total 16 columns):\n",
      " #   Column                  Non-Null Count  Dtype         \n",
      "---  ------                  --------------  -----         \n",
      " 0   fecha                   5008 non-null   datetime64[ns]\n",
      " 1   HORA declarada          3287 non-null   object        \n",
      " 2   Ruta                    5008 non-null   object        \n",
      " 3   OperadOR                5008 non-null   object        \n",
      " 4   route                   5008 non-null   object        \n",
      " 5   ac_type                 5008 non-null   object        \n",
      " 6   registration            5008 non-null   object        \n",
      " 7   cn_ln                   5008 non-null   object        \n",
      " 8   all_aboard              5008 non-null   int64         \n",
      " 9   PASAJEROS A BORDO       5008 non-null   int64         \n",
      " 10  crew_aboard             5008 non-null   int64         \n",
      " 11  cantidad de fallecidos  5008 non-null   int64         \n",
      " 12  passenger_fatalities    5008 non-null   int64         \n",
      " 13  crew_fatalities         5008 non-null   int64         \n",
      " 14  ground                  5008 non-null   int64         \n",
      " 15  summary                 5008 non-null   object        \n",
      "dtypes: datetime64[ns](1), int64(7), object(8)\n",
      "memory usage: 626.1+ KB\n"
     ]
    }
   ],
   "source": [
    "#Visualizamos informacion general\n",
    "aviones_db.info()"
   ]
  },
  {
   "cell_type": "code",
   "execution_count": 17,
   "metadata": {},
   "outputs": [
    {
     "data": {
      "text/plain": [
       "fecha                        0\n",
       "HORA declarada            1721\n",
       "Ruta                         0\n",
       "OperadOR                     0\n",
       "route                        0\n",
       "ac_type                      0\n",
       "registration                 0\n",
       "cn_ln                        0\n",
       "all_aboard                   0\n",
       "PASAJEROS A BORDO            0\n",
       "crew_aboard                  0\n",
       "cantidad de fallecidos       0\n",
       "passenger_fatalities         0\n",
       "crew_fatalities              0\n",
       "ground                       0\n",
       "summary                      0\n",
       "dtype: int64"
      ]
     },
     "execution_count": 17,
     "metadata": {},
     "output_type": "execute_result"
    }
   ],
   "source": [
    "#Visualizamos nulos\n",
    "aviones_db.isnull().sum()"
   ]
  },
  {
   "attachments": {},
   "cell_type": "markdown",
   "metadata": {},
   "source": [
    "Vemos que hay una gran cantidad de nulos en la hora declarada. Por ahora no vamos hacer modificaciones."
   ]
  },
  {
   "cell_type": "code",
   "execution_count": 18,
   "metadata": {},
   "outputs": [
    {
     "name": "stdout",
     "output_type": "stream",
     "text": [
      "Empty DataFrame\n",
      "Columns: [fecha, HORA declarada, Ruta, OperadOR, route, ac_type, registration, cn_ln, all_aboard, PASAJEROS A BORDO, crew_aboard, cantidad de fallecidos, passenger_fatalities, crew_fatalities, ground, summary]\n",
      "Index: []\n"
     ]
    }
   ],
   "source": [
    "#Buscamos filas duplicadas\n",
    "filas_duplicadas = aviones_db.duplicated()\n",
    "print(aviones_db[filas_duplicadas])"
   ]
  },
  {
   "attachments": {},
   "cell_type": "markdown",
   "metadata": {},
   "source": [
    "Es un buena practica, observar los datos dentro de cada columna, en busca de anomalias. "
   ]
  },
  {
   "cell_type": "code",
   "execution_count": 19,
   "metadata": {},
   "outputs": [
    {
     "data": {
      "text/plain": [
       "[1908-09-17, 1909-09-07, 1912-07-12, 1913-08-06, 1913-09-09, ..., 2021-03-28, 2021-05-21, 2021-06-10, 2021-07-04, 2021-07-06]\n",
       "Length: 5008\n",
       "Categories (4577, datetime64[ns]): [1908-09-17, 1909-09-07, 1912-07-12, 1913-08-06, ..., 2021-05-21, 2021-06-10, 2021-07-04, 2021-07-06]"
      ]
     },
     "execution_count": 19,
     "metadata": {},
     "output_type": "execute_result"
    }
   ],
   "source": [
    "#Chequeamos los datos de cada columna\n",
    "pd.Categorical(aviones_db[\"fecha\"])"
   ]
  },
  {
   "cell_type": "code",
   "execution_count": 20,
   "metadata": {},
   "outputs": [
    {
     "data": {
      "text/plain": [
       "[17:18:00, NaN, 06:30:00, NaN, 18:30:00, ..., 18:35:00, 18:00:00, 08:00:00, NaN, 15:00:00]\n",
       "Length: 5008\n",
       "Categories (1036, object): [00:00:00, 00:01:00, 00:02:00, 00:04:00, ..., 23:56:00, 23:57:00, 23:58:00, 23:59:00]"
      ]
     },
     "execution_count": 20,
     "metadata": {},
     "output_type": "execute_result"
    }
   ],
   "source": [
    "#Chequeamos los datos de cada columna\n",
    "pd.Categorical(aviones_db[\"HORA declarada\"])"
   ]
  },
  {
   "cell_type": "code",
   "execution_count": 21,
   "metadata": {},
   "outputs": [
    {
     "data": {
      "text/plain": [
       "['Fort Myer, Virginia', 'Juvisy-sur-Orge, France', 'Atlantic City, New Jersey', 'Victoria, British Columbia, Canada', 'Over the North Sea', ..., 'Near Butte, Alaska', 'Near Kaduna, Nigeria', 'Near Pyin Oo Lwin, Myanmar', 'Patikul, Sulu, Philippines', 'Palana, Russia']\n",
       "Length: 5008\n",
       "Categories (4125, object): ['1,200 miles off Dakar, Atlantic Ocean', '110 miles SW of Sochi, Russia', '125 miles ENE of Tokyo, Japan', '175 miles off the Egyptian coast', ..., 'Zifta, Egypt', 'Zurich, Switzerland', 'Zwingle, Iowa', 'near Craigavad, Northern Ireland']"
      ]
     },
     "execution_count": 21,
     "metadata": {},
     "output_type": "execute_result"
    }
   ],
   "source": [
    "#Chequeamos los datos de cada columna\n",
    "pd.Categorical(aviones_db[\"Ruta\"])"
   ]
  },
  {
   "cell_type": "code",
   "execution_count": 22,
   "metadata": {},
   "outputs": [
    {
     "data": {
      "text/plain": [
       "['Military - U.S. Army', 'Sin Dato', 'Military - U.S. Navy', 'Private', 'Military - German Navy', ..., 'Soloy Helicopters', 'Military - Nigerian Air Force', 'Military - Myanmar Air Force', 'Military - Philippine Air Force', 'Kamchatka Aviation Enterprise']\n",
       "Length: 5008\n",
       "Categories (2268, object): ['46826/109', 'A B Aerotransport', 'AB Aerotransport', 'ACES Colombia', ..., 'de Havilland Air Service', 'de Havilland Dove', 'u.s. Air Force', 'èkoda (India) Ltd']"
      ]
     },
     "execution_count": 22,
     "metadata": {},
     "output_type": "execute_result"
    }
   ],
   "source": [
    "#Chequeamos los datos de cada columna\n",
    "pd.Categorical(aviones_db[\"OperadOR\"])"
   ]
  },
  {
   "cell_type": "code",
   "execution_count": 23,
   "metadata": {},
   "outputs": [
    {
     "data": {
      "text/plain": [
       "['Demonstration', 'Air show', 'Test flight', 'Sin Dato', 'Sin Dato', ..., 'Sightseeing Charter', 'Sin Dato', 'Naypyidaw - Anisakan', 'Cagayan de Oro-Lumbia - Jolo', 'Petropavlovsk - Palana']\n",
       "Length: 5008\n",
       "Categories (3839, object): ['14099', ':  Comox-Port Hardy', 'Abadan - Tehran', 'Abakan - Petropavlosk - Kamchatsky', ..., 'bang - Bandar Lampung - Jakarta', 'on - Quang Ngai', 'test flight', 'thampton - Lisbon - Funchal']"
      ]
     },
     "execution_count": 23,
     "metadata": {},
     "output_type": "execute_result"
    }
   ],
   "source": [
    "#Chequeamos los datos de cada columna\n",
    "pd.Categorical(aviones_db[\"route\"])"
   ]
  },
  {
   "cell_type": "code",
   "execution_count": 24,
   "metadata": {},
   "outputs": [
    {
     "data": {
      "text/plain": [
       "['Wright Flyer III', 'Wright Byplane', 'Dirigible', 'Curtiss seaplane', 'Zeppelin L-1 (airship)', ..., 'Eurocopter AS350B3 Ecureuil', 'Beechcraft B300 King Air 350i', 'Beechcraft 1900D', 'Lockheed C-130H Hercules', 'Antonov An 26B-100']\n",
       "Length: 5008\n",
       "Categories (2469, object): ['A-7D Corsair', 'AAC-1 Toucan', 'AEGK', 'AT L98 Carvair', ..., 'de Hvilland 89A Dragon Rapide', 'de havilland 89 Dragon Rapide', 'de havilland Canada Twin Otter 200', 'deHavilland DH-86']"
      ]
     },
     "execution_count": 24,
     "metadata": {},
     "output_type": "execute_result"
    }
   ],
   "source": [
    "#Chequeamos los datos de cada columna\n",
    "pd.Categorical(aviones_db[\"ac_type\"])"
   ]
  },
  {
   "cell_type": "code",
   "execution_count": 25,
   "metadata": {},
   "outputs": [
    {
     "data": {
      "text/plain": [
       "['Sin Dato', 'SC1', 'Sin Dato', 'Sin Dato', 'Sin Dato', ..., 'N351SH', 'NAF203', '4610', '5125', 'RA-26085']\n",
       "Length: 5008\n",
       "Categories (4701, object): ['00-0173', '011', '01710 / 69113', '019', ..., 'ZS-OYI', 'ZS-PDV', 'ZS-SAS', 'ZS-UAS']"
      ]
     },
     "execution_count": 25,
     "metadata": {},
     "output_type": "execute_result"
    }
   ],
   "source": [
    "#Chequeamos los datos de cada columna\n",
    "pd.Categorical(aviones_db[\"registration\"])"
   ]
  },
  {
   "cell_type": "code",
   "execution_count": 26,
   "metadata": {},
   "outputs": [
    {
     "data": {
      "text/plain": [
       "['1', 'Sin Dato', 'Sin Dato', 'Sin Dato', 'Sin Dato', ..., '4598', 'FL-891', 'E-325', '5125', '12310']\n",
       "Length: 5008\n",
       "Categories (3908, object): ['0001', '0001A', '001', '0012', ..., 'W8-7', 'X0101', 'ZR726001', 'ZZX3201']"
      ]
     },
     "execution_count": 26,
     "metadata": {},
     "output_type": "execute_result"
    }
   ],
   "source": [
    "#Chequeamos los datos de cada columna\n",
    "pd.Categorical(aviones_db[\"cn_ln\"])"
   ]
  },
  {
   "cell_type": "code",
   "execution_count": 27,
   "metadata": {},
   "outputs": [
    {
     "data": {
      "text/plain": [
       "[2, 1, 5, 1, 20, ..., 6, 11, 14, 96, 28]\n",
       "Length: 5008\n",
       "Categories (244, int64): [0, 1, 2, 3, ..., 394, 517, 524, 644]"
      ]
     },
     "execution_count": 27,
     "metadata": {},
     "output_type": "execute_result"
    }
   ],
   "source": [
    "#Chequeamos los datos de cada columna\n",
    "pd.Categorical(aviones_db[\"all_aboard\"])"
   ]
  },
  {
   "cell_type": "code",
   "execution_count": 28,
   "metadata": {},
   "outputs": [
    {
     "data": {
      "text/plain": [
       "[1, 0, 0, 0, 0, ..., 5, 7, 12, 88, 22]\n",
       "Length: 5008\n",
       "Categories (234, int64): [0, 1, 2, 3, ..., 381, 503, 509, 614]"
      ]
     },
     "execution_count": 28,
     "metadata": {},
     "output_type": "execute_result"
    }
   ],
   "source": [
    "#Chequeamos los datos de cada columna\n",
    "pd.Categorical(aviones_db[\"PASAJEROS A BORDO\"])"
   ]
  },
  {
   "cell_type": "code",
   "execution_count": 29,
   "metadata": {},
   "outputs": [
    {
     "data": {
      "text/plain": [
       "[1, 1, 5, 1, 0, ..., 1, 4, 2, 8, 6]\n",
       "Length: 5008\n",
       "Categories (34, int64): [0, 1, 2, 3, ..., 43, 49, 61, 83]"
      ]
     },
     "execution_count": 29,
     "metadata": {},
     "output_type": "execute_result"
    }
   ],
   "source": [
    "#Chequeamos los datos de cada columna\n",
    "pd.Categorical(aviones_db[\"crew_aboard\"])"
   ]
  },
  {
   "cell_type": "code",
   "execution_count": 30,
   "metadata": {},
   "outputs": [
    {
     "data": {
      "text/plain": [
       "[1, 1, 5, 1, 14, ..., 5, 11, 12, 50, 28]\n",
       "Length: 5008\n",
       "Categories (199, int64): [0, 1, 2, 3, ..., 346, 349, 520, 583]"
      ]
     },
     "execution_count": 30,
     "metadata": {},
     "output_type": "execute_result"
    }
   ],
   "source": [
    "#Chequeamos los datos de cada columna\n",
    "pd.Categorical(aviones_db[\"cantidad de fallecidos\"])"
   ]
  },
  {
   "cell_type": "code",
   "execution_count": 31,
   "metadata": {},
   "outputs": [
    {
     "data": {
      "text/plain": [
       "[1, 0, 0, 0, 0, ..., 4, 7, 11, 0, 22]\n",
       "Length: 5008\n",
       "Categories (190, int64): [0, 1, 2, 3, ..., 316, 335, 505, 560]"
      ]
     },
     "execution_count": 31,
     "metadata": {},
     "output_type": "execute_result"
    }
   ],
   "source": [
    "#Chequeamos los datos de cada columna\n",
    "pd.Categorical(aviones_db[\"passenger_fatalities\"])"
   ]
  },
  {
   "cell_type": "code",
   "execution_count": 32,
   "metadata": {},
   "outputs": [
    {
     "data": {
      "text/plain": [
       "[0, 0, 5, 1, 0, ..., 1, 4, 1, 0, 6]\n",
       "Length: 5008\n",
       "Categories (28, int64): [0, 1, 2, 3, ..., 25, 27, 33, 43]"
      ]
     },
     "execution_count": 32,
     "metadata": {},
     "output_type": "execute_result"
    }
   ],
   "source": [
    "#Chequeamos los datos de cada columna\n",
    "pd.Categorical(aviones_db[\"crew_fatalities\"])"
   ]
  },
  {
   "cell_type": "code",
   "execution_count": 33,
   "metadata": {},
   "outputs": [
    {
     "data": {
      "text/plain": [
       "[0, 0, 0, 0, 0, ..., 0, 0, 0, 3, 0]\n",
       "Length: 5008\n",
       "Categories (51, int64): [0, 1, 2, 3, ..., 113, 125, 225, 2750]"
      ]
     },
     "execution_count": 33,
     "metadata": {},
     "output_type": "execute_result"
    }
   ],
   "source": [
    "#Chequeamos los datos de cada columna\n",
    "pd.Categorical(aviones_db[\"ground\"])"
   ]
  },
  {
   "cell_type": "code",
   "execution_count": 34,
   "metadata": {},
   "outputs": [
    {
     "data": {
      "text/plain": [
       "['During a demonstration flight, a U.S. Army fl..., 'Eugene Lefebvre was the first pilot to ever b..., 'First U.S. dirigible Akron exploded just offs..., 'The first fatal airplane accident in Canada o..., 'The airship flew into a thunderstorm and enco..., ..., 'The sightseeing helicopter crashed after miss..., 'While on final approach, in poor weather cond..., 'The plane was carrying military personnel and..., 'While attempting to land at Jolo Airport, the..., 'The passenger plane crashed into the top of a...]\n",
       "Length: 5008\n",
       "Categories (4858, object): ['A 16 month old child was asphyxiated by a sea..., 'A Boeing 777-200 airliner operating as  Malay..., 'A Catalina seaplane was hijacked by a group a..., 'A Japan Air Self Defense Force F-86F fighter ..., ..., 'he United Nations-chartered plane was shot do..., 'the aircraft hit the slope of mountain locate..., 'the airplane hit the slope of the Cerro del C..., 'the crew failed to realize their altitude was...]"
      ]
     },
     "execution_count": 34,
     "metadata": {},
     "output_type": "execute_result"
    }
   ],
   "source": [
    "#Chequeamos los datos de cada columna\n",
    "pd.Categorical(aviones_db[\"summary\"])"
   ]
  },
  {
   "attachments": {},
   "cell_type": "markdown",
   "metadata": {},
   "source": [
    "Cuando observamos cuantas categorias distintas de datos hay y como son algunas de ellas nos podemos dar una mejor idea de lo que contienen las columnas. \n",
    "En registracion veo una gran variabilidad entre las distintas categorias, por lo que van a ser dificiles de analizar. En cn_nl, pasa lo mismo que el caso anterior. Ademas, nos damos cuenta que la columna ruta y la columna route, a pesar de tener el mismo significado, dentro possen datos distintos. Por ultimo, nos damos cuenta que hay ciertos resumenes del hecho que estan repetidos, lo debemos tener en cuenta. "
   ]
  },
  {
   "attachments": {},
   "cell_type": "markdown",
   "metadata": {},
   "source": [
    "Luego de una breve investigacion, averiguamos que la columna registracion se refiere un numero de identificacion que le da la IACO a ciertos aviones que cumplen con determiandos requisitos y que se comenzo a llevar a cabo hace menos de 100 años. En cuanto a cn_ln, se refiere al numero de serie del avion. "
   ]
  },
  {
   "attachments": {},
   "cell_type": "markdown",
   "metadata": {},
   "source": [
    "Columna \"summmary\"\n",
    "Vamos a analizar la cantidad de duplicados de esta columna, los registros que tengan el mismo resumen seran elimininados, ya que consideramos que es mas probable que se hayan duplicado los datos a que hayan sido dos accidentes identicos. "
   ]
  },
  {
   "cell_type": "code",
   "execution_count": 35,
   "metadata": {},
   "outputs": [
    {
     "name": "stdout",
     "output_type": "stream",
     "text": [
      "Int64Index([  11,   16,   18,   25,   28,   58,   59,   74,   86,  103,\n",
      "            ...\n",
      "            4095, 4115, 4208, 4209, 4254, 4333, 4378, 4466, 4551, 4597],\n",
      "           dtype='int64', length=195)\n"
     ]
    }
   ],
   "source": [
    "#Localizamos todas las filas con el resumen repetido\n",
    "filas_duplicadas = aviones_db[aviones_db.duplicated(subset=[\"summary\"], keep=False)].index\n",
    "print(filas_duplicadas)"
   ]
  },
  {
   "cell_type": "code",
   "execution_count": 36,
   "metadata": {},
   "outputs": [
    {
     "name": "stdout",
     "output_type": "stream",
     "text": [
      "59\n"
     ]
    }
   ],
   "source": [
    "#Visualizamos cuantos de esos registros estan repetidos por ser \"Sin Dato\". Los restantes tienen el resumen repetido. \n",
    "frecuencia_sin_dato = aviones_db[\"summary\"].value_counts()[\"Sin Dato\"]\n",
    "print(frecuencia_sin_dato)"
   ]
  },
  {
   "cell_type": "code",
   "execution_count": 37,
   "metadata": {},
   "outputs": [
    {
     "name": "stdout",
     "output_type": "stream",
     "text": [
      "        fecha HORA declarada              Ruta                OperadOR  \\\n",
      "86 1923-12-06            NaT    Castalia, Ohio  US Aerial Mail Service   \n",
      "74 1922-10-25            NaT  Larache, Morocco  Grands Express Aeriens   \n",
      "\n",
      "       route            ac_type registration     cn_ln  all_aboard  \\\n",
      "86  Sin Dato  De Havilland DH-4          318  Sin Dato           1   \n",
      "74  Sin Dato         Breguet 14     Sin Dato  Sin Dato           2   \n",
      "\n",
      "    PASAJEROS A BORDO  crew_aboard  cantidad de fallecidos  \\\n",
      "86                  0            1                       1   \n",
      "74                  1            1                       2   \n",
      "\n",
      "    passenger_fatalities  crew_fatalities  ground  \\\n",
      "86                     0                1       0   \n",
      "74                     1                1       0   \n",
      "\n",
      "                                 summary  \n",
      "86  Crashed under unknown circumstances.  \n",
      "74  Crashed under unknown circumstances.  \n"
     ]
    }
   ],
   "source": [
    "#Visualizamos algun caso aleatorio para ver el comportamiento real\n",
    "resumen_repetido = aviones_db.iloc[[86, 74]]\n",
    "print(resumen_repetido)"
   ]
  },
  {
   "cell_type": "code",
   "execution_count": 38,
   "metadata": {},
   "outputs": [
    {
     "name": "stdout",
     "output_type": "stream",
     "text": [
      "        fecha HORA declarada                            Ruta  \\\n",
      "16 1917-06-14       08:45:00  Off Vlieland Island, North Sea   \n",
      "18 1917-08-21       07:00:00             Off western Denmark   \n",
      "\n",
      "                  OperadOR     route                  ac_type registration  \\\n",
      "16  Military - German Navy  Sin Dato  Zeppelin L-43 (airship)     Sin Dato   \n",
      "18  Military - German Navy  Sin Dato  Zeppelin L-23 (airship)     Sin Dato   \n",
      "\n",
      "       cn_ln  all_aboard  PASAJEROS A BORDO  crew_aboard  \\\n",
      "16  Sin Dato          24                  0            0   \n",
      "18  Sin Dato          18                  0            0   \n",
      "\n",
      "    cantidad de fallecidos  passenger_fatalities  crew_fatalities  ground  \\\n",
      "16                      24                     0                0       0   \n",
      "18                      18                     0                0       0   \n",
      "\n",
      "                           summary  \n",
      "16  Shot down by British aircraft.  \n",
      "18  Shot down by British aircraft.  \n"
     ]
    }
   ],
   "source": [
    "#Invetigamos otros casos repetidos\n",
    "resumen_repetido = aviones_db.iloc[[16, 18]]\n",
    "print(resumen_repetido)"
   ]
  },
  {
   "attachments": {},
   "cell_type": "markdown",
   "metadata": {},
   "source": [
    "Luego de indagar sobre los resumenes repetidos, vemos que hay casos que ameritan el mismo resumen y son distintos. Por esta razon, no vamos a borrar ningun registro que tenga resumen repetido. "
   ]
  },
  {
   "attachments": {},
   "cell_type": "markdown",
   "metadata": {},
   "source": [
    "Columna \"cn_ln\" y \"regristration\"\n",
    "\n",
    "Vamos a ver si hay datos repetidos."
   ]
  },
  {
   "cell_type": "code",
   "execution_count": 39,
   "metadata": {},
   "outputs": [
    {
     "name": "stdout",
     "output_type": "stream",
     "text": [
      "Int64Index([   0,    1,    2,    3,    4,    5,    6,    7,    8,    9,\n",
      "            ...\n",
      "            4952, 4957, 4959, 4961, 4964, 4967, 4974, 4987, 4989, 4996],\n",
      "           dtype='int64', length=1400)\n"
     ]
    }
   ],
   "source": [
    "#Localizamos todas las filas con \"cn_ln\" repetido\n",
    "duplicados_cn_ln = aviones_db[aviones_db.duplicated(subset=[\"cn_ln\"], keep=False)].index\n",
    "print(duplicados_cn_ln)"
   ]
  },
  {
   "cell_type": "code",
   "execution_count": 40,
   "metadata": {},
   "outputs": [
    {
     "name": "stdout",
     "output_type": "stream",
     "text": [
      "667\n"
     ]
    }
   ],
   "source": [
    "#Visualizamos cuantos de esos registros estan repetidos por ser \"Sin Dato\". Los restantes tienen el resumen repetido. \n",
    "frecuencia_sin_dato = aviones_db[\"cn_ln\"].value_counts()[\"Sin Dato\"]\n",
    "print(frecuencia_sin_dato)"
   ]
  },
  {
   "cell_type": "code",
   "execution_count": 41,
   "metadata": {},
   "outputs": [
    {
     "name": "stdout",
     "output_type": "stream",
     "text": [
      "Int64Index([   0,    1,    2,    3,    4,    5,    6,    7,    8,    9,\n",
      "            ...\n",
      "            4952, 4957, 4959, 4961, 4964, 4967, 4974, 4987, 4989, 4996],\n",
      "           dtype='int64', length=1400)\n"
     ]
    }
   ],
   "source": [
    "#Localizamos todas las filas con \"registration\" repetido\n",
    "duplicados_cn_ln = aviones_db[aviones_db.duplicated(subset=[\"cn_ln\"], keep=False)].index\n",
    "print(duplicados_cn_ln)"
   ]
  },
  {
   "cell_type": "code",
   "execution_count": 42,
   "metadata": {},
   "outputs": [
    {
     "name": "stdout",
     "output_type": "stream",
     "text": [
      "272\n"
     ]
    }
   ],
   "source": [
    "#Visualizamos cuantos de esos registros estan repetidos por ser \"Sin Dato\". Los restantes tienen el resumen repetido. \n",
    "frecuencia_sin_dato = aviones_db[\"registration\"].value_counts()[\"Sin Dato\"]\n",
    "print(frecuencia_sin_dato)"
   ]
  },
  {
   "attachments": {},
   "cell_type": "markdown",
   "metadata": {},
   "source": [
    "El uso que le vamos a dar a estas columnas es el dar la posibilidad posibilidad de buscar informacion extra del caso a la persona que este analisando el informe. Por lo que solo requerimos de una de ellas. Luego de investigar en internet, los datos de la columna \"registration\" nos dieron mejores resultados, sumado a que tiene menos registros sin dato. Por ello, borraremos la columna cn_ln."
   ]
  },
  {
   "cell_type": "code",
   "execution_count": 43,
   "metadata": {},
   "outputs": [],
   "source": [
    "#eliminamos la columna\n",
    "aviones_db.drop([\"cn_ln\"], axis=1, inplace=True)"
   ]
  },
  {
   "attachments": {},
   "cell_type": "markdown",
   "metadata": {},
   "source": [
    "Al haber muchos tipos de aviones (militares, de carga, de pasajeros, etc) y que todos contienen distintos porcentajes de tribulantes y pasajeros, vamos a dejar de lado las columnas que lo especifican, quedandonos solo con el total de pasajeros abordo y de muertes en general. "
   ]
  },
  {
   "cell_type": "code",
   "execution_count": 44,
   "metadata": {},
   "outputs": [
    {
     "name": "stdout",
     "output_type": "stream",
     "text": [
      "22\n"
     ]
    }
   ],
   "source": [
    "#Observamos los datos faltan en los totales\n",
    "frecuencia_ceros = aviones_db[\"all_aboard\"].value_counts().get(0, 0)\n",
    "print(frecuencia_ceros)"
   ]
  },
  {
   "cell_type": "code",
   "execution_count": 45,
   "metadata": {},
   "outputs": [
    {
     "name": "stdout",
     "output_type": "stream",
     "text": [
      "84\n"
     ]
    }
   ],
   "source": [
    "#En esta columna no neceariamente son datos faltantes\n",
    "frecuencia_ceros = aviones_db[\"cantidad de fallecidos\"].value_counts().get(0, 0)\n",
    "print(frecuencia_ceros)"
   ]
  },
  {
   "attachments": {},
   "cell_type": "markdown",
   "metadata": {},
   "source": [
    "Vamos a tratar de minimizar la perdida de datos, para ello en los registros que son igual a cero en los totales, vamos remplazar el cero por la suma de las otras dos columnas."
   ]
  },
  {
   "cell_type": "code",
   "execution_count": 46,
   "metadata": {},
   "outputs": [],
   "source": [
    "#Reemplazar los valores cero en la columna \"all_aboard\" por la suma de \"PASAJEROS A BORDO\" y \"crew_aboard\"\n",
    "aviones_db.loc[aviones_db[\"all_aboard\"] == 0, \"all_aboard\"] = aviones_db[\"PASAJEROS A BORDO\"] + aviones_db[\"crew_aboard\"]"
   ]
  },
  {
   "cell_type": "code",
   "execution_count": 47,
   "metadata": {},
   "outputs": [],
   "source": [
    "#Reemplazar los valores cero en la columna \"cantidad de fallecidos\" por la suma de \"passenger_fatalities\" y \"crew_fatalities\"\n",
    "aviones_db.loc[aviones_db[\"cantidad de fallecidos\"] == 0, \"cantidad de fallecidos\"] = aviones_db[\"passenger_fatalities\"] + aviones_db[\"crew_fatalities\"]"
   ]
  },
  {
   "cell_type": "code",
   "execution_count": 48,
   "metadata": {},
   "outputs": [
    {
     "name": "stdout",
     "output_type": "stream",
     "text": [
      "19\n"
     ]
    }
   ],
   "source": [
    "#Observamos los datos faltan en los totales despues de las modificaciones\n",
    "frecuencia_ceros = aviones_db[\"all_aboard\"].value_counts().get(0, 0)\n",
    "print(frecuencia_ceros)"
   ]
  },
  {
   "cell_type": "code",
   "execution_count": 49,
   "metadata": {},
   "outputs": [
    {
     "name": "stdout",
     "output_type": "stream",
     "text": [
      "80\n"
     ]
    }
   ],
   "source": [
    "#Observamos los datos faltan en los totales despues de las modificaciones\n",
    "frecuencia_ceros = aviones_db[\"cantidad de fallecidos\"].value_counts().get(0, 0)\n",
    "print(frecuencia_ceros)"
   ]
  },
  {
   "attachments": {},
   "cell_type": "markdown",
   "metadata": {},
   "source": [
    "No se vieron grandes cambios, pero si hubo modificaciones. Ademas, era necesario corroborarlo. \n",
    "Ahora eliminamos las columnas que no utilizaremos."
   ]
  },
  {
   "cell_type": "code",
   "execution_count": 50,
   "metadata": {},
   "outputs": [],
   "source": [
    "#Eliminamos las columnas\n",
    "aviones_db.drop([\"PASAJEROS A BORDO\", \"crew_aboard\", \"passenger_fatalities\", \"crew_fatalities\"], axis=1, inplace=True)"
   ]
  },
  {
   "attachments": {},
   "cell_type": "markdown",
   "metadata": {},
   "source": [
    "Visualizamos los registros sin pasajeros. "
   ]
  },
  {
   "cell_type": "code",
   "execution_count": 51,
   "metadata": {},
   "outputs": [
    {
     "data": {
      "text/html": [
       "<div>\n",
       "<style scoped>\n",
       "    .dataframe tbody tr th:only-of-type {\n",
       "        vertical-align: middle;\n",
       "    }\n",
       "\n",
       "    .dataframe tbody tr th {\n",
       "        vertical-align: top;\n",
       "    }\n",
       "\n",
       "    .dataframe thead th {\n",
       "        text-align: right;\n",
       "    }\n",
       "</style>\n",
       "<table border=\"1\" class=\"dataframe\">\n",
       "  <thead>\n",
       "    <tr style=\"text-align: right;\">\n",
       "      <th></th>\n",
       "      <th>fecha</th>\n",
       "      <th>HORA declarada</th>\n",
       "      <th>Ruta</th>\n",
       "      <th>OperadOR</th>\n",
       "      <th>route</th>\n",
       "      <th>ac_type</th>\n",
       "      <th>registration</th>\n",
       "      <th>all_aboard</th>\n",
       "      <th>cantidad de fallecidos</th>\n",
       "      <th>ground</th>\n",
       "      <th>summary</th>\n",
       "    </tr>\n",
       "  </thead>\n",
       "  <tbody>\n",
       "    <tr>\n",
       "      <th>26</th>\n",
       "      <td>1919-07-21</td>\n",
       "      <td>16:55:00</td>\n",
       "      <td>Chicago, Illinois</td>\n",
       "      <td>Wingfoot Air Express Goodyear Tire</td>\n",
       "      <td>Shuttle</td>\n",
       "      <td>FD Type Dirigible</td>\n",
       "      <td>Sin Dato</td>\n",
       "      <td>0</td>\n",
       "      <td>3</td>\n",
       "      <td>10</td>\n",
       "      <td>The dirigible, cruising at 1,200 ft. caught fi...</td>\n",
       "    </tr>\n",
       "    <tr>\n",
       "      <th>103</th>\n",
       "      <td>1925-09-07</td>\n",
       "      <td>NaT</td>\n",
       "      <td>Toul, France</td>\n",
       "      <td>CIDNA</td>\n",
       "      <td>Sin Dato</td>\n",
       "      <td>Spad 33</td>\n",
       "      <td>Sin Dato</td>\n",
       "      <td>0</td>\n",
       "      <td>0</td>\n",
       "      <td>0</td>\n",
       "      <td>Sin Dato</td>\n",
       "    </tr>\n",
       "    <tr>\n",
       "      <th>347</th>\n",
       "      <td>1934-08-10</td>\n",
       "      <td>NaT</td>\n",
       "      <td>Ningbo, China</td>\n",
       "      <td>China National Aviation Corporation</td>\n",
       "      <td>Sin Dato</td>\n",
       "      <td>Sikorsky S-38B</td>\n",
       "      <td>Sin Dato</td>\n",
       "      <td>0</td>\n",
       "      <td>0</td>\n",
       "      <td>0</td>\n",
       "      <td>Sin Dato</td>\n",
       "    </tr>\n",
       "    <tr>\n",
       "      <th>384</th>\n",
       "      <td>1935-08-13</td>\n",
       "      <td>NaT</td>\n",
       "      <td>Hangow, China</td>\n",
       "      <td>China National Aviation Corporation</td>\n",
       "      <td>Sin Dato</td>\n",
       "      <td>Sikorsky S-38B</td>\n",
       "      <td>NV40V</td>\n",
       "      <td>0</td>\n",
       "      <td>0</td>\n",
       "      <td>0</td>\n",
       "      <td>Destoryed in a storm.</td>\n",
       "    </tr>\n",
       "    <tr>\n",
       "      <th>451</th>\n",
       "      <td>1936-12-26</td>\n",
       "      <td>NaT</td>\n",
       "      <td>Nanking, China</td>\n",
       "      <td>China National Aviation Corporation</td>\n",
       "      <td>Sin Dato</td>\n",
       "      <td>Douglas DC-2</td>\n",
       "      <td>NC14269</td>\n",
       "      <td>0</td>\n",
       "      <td>0</td>\n",
       "      <td>0</td>\n",
       "      <td>Sin Dato</td>\n",
       "    </tr>\n",
       "    <tr>\n",
       "      <th>652</th>\n",
       "      <td>1942-10-01</td>\n",
       "      <td>NaT</td>\n",
       "      <td>Kunming, China</td>\n",
       "      <td>China National Aviation Corporation</td>\n",
       "      <td>Sin Dato</td>\n",
       "      <td>Douglas C-47</td>\n",
       "      <td>69</td>\n",
       "      <td>0</td>\n",
       "      <td>0</td>\n",
       "      <td>0</td>\n",
       "      <td>Crashed while attempting to land after losing ...</td>\n",
       "    </tr>\n",
       "    <tr>\n",
       "      <th>754</th>\n",
       "      <td>1944-11-09</td>\n",
       "      <td>NaT</td>\n",
       "      <td>Seljord, Norway</td>\n",
       "      <td>Military - U.S. Army Air Corps</td>\n",
       "      <td>Sin Dato</td>\n",
       "      <td>Sin Dato</td>\n",
       "      <td>42-52196</td>\n",
       "      <td>0</td>\n",
       "      <td>0</td>\n",
       "      <td>0</td>\n",
       "      <td>Sin Dato</td>\n",
       "    </tr>\n",
       "    <tr>\n",
       "      <th>854</th>\n",
       "      <td>1946-03-18</td>\n",
       "      <td>NaT</td>\n",
       "      <td>Between Chungking and Shanghai, China</td>\n",
       "      <td>China National Aviation Corporation</td>\n",
       "      <td>Chunking - Shanghai</td>\n",
       "      <td>Sin Dato</td>\n",
       "      <td>139</td>\n",
       "      <td>0</td>\n",
       "      <td>0</td>\n",
       "      <td>0</td>\n",
       "      <td>Disappeared while en route. Plane never located.</td>\n",
       "    </tr>\n",
       "    <tr>\n",
       "      <th>1231</th>\n",
       "      <td>1951-01-20</td>\n",
       "      <td>NaT</td>\n",
       "      <td>Huilyo, Peru</td>\n",
       "      <td>Military - TAM</td>\n",
       "      <td>Sin Dato</td>\n",
       "      <td>Douglas DC-3</td>\n",
       "      <td>Sin Dato</td>\n",
       "      <td>0</td>\n",
       "      <td>16</td>\n",
       "      <td>0</td>\n",
       "      <td>Sin Dato</td>\n",
       "    </tr>\n",
       "    <tr>\n",
       "      <th>1362</th>\n",
       "      <td>1952-12-22</td>\n",
       "      <td>NaT</td>\n",
       "      <td>Damascus, Syria</td>\n",
       "      <td>Syrian Air</td>\n",
       "      <td>Sin Dato</td>\n",
       "      <td>Douglas DC-3</td>\n",
       "      <td>Sin Dato</td>\n",
       "      <td>0</td>\n",
       "      <td>9</td>\n",
       "      <td>0</td>\n",
       "      <td>Sin Dato</td>\n",
       "    </tr>\n",
       "    <tr>\n",
       "      <th>1386</th>\n",
       "      <td>1953-04-10</td>\n",
       "      <td>NaT</td>\n",
       "      <td>Near Anchieta Island, Brazil</td>\n",
       "      <td>REAL</td>\n",
       "      <td>Sin Dato</td>\n",
       "      <td>Doublas Dc-3</td>\n",
       "      <td>Sin Dato</td>\n",
       "      <td>0</td>\n",
       "      <td>26</td>\n",
       "      <td>0</td>\n",
       "      <td>Sin Dato</td>\n",
       "    </tr>\n",
       "    <tr>\n",
       "      <th>1451</th>\n",
       "      <td>1954-03-13</td>\n",
       "      <td>NaT</td>\n",
       "      <td>Dien Bien Phu, South Vietnam</td>\n",
       "      <td>Aigle Azur</td>\n",
       "      <td>Sin Dato</td>\n",
       "      <td>C-46</td>\n",
       "      <td>Sin Dato</td>\n",
       "      <td>0</td>\n",
       "      <td>0</td>\n",
       "      <td>0</td>\n",
       "      <td>Shot down.</td>\n",
       "    </tr>\n",
       "    <tr>\n",
       "      <th>1577</th>\n",
       "      <td>1956-06-13</td>\n",
       "      <td>NaT</td>\n",
       "      <td>Over North Carolina</td>\n",
       "      <td>Piedmont</td>\n",
       "      <td>Sin Dato</td>\n",
       "      <td>Douglas DC-3</td>\n",
       "      <td>Sin Dato</td>\n",
       "      <td>0</td>\n",
       "      <td>1</td>\n",
       "      <td>0</td>\n",
       "      <td>A passenger fell to his death after the door o...</td>\n",
       "    </tr>\n",
       "    <tr>\n",
       "      <th>1627</th>\n",
       "      <td>1957-04-20</td>\n",
       "      <td>NaT</td>\n",
       "      <td>Jirkouk, Iraq</td>\n",
       "      <td>Air France</td>\n",
       "      <td>Tehran, Iran - Istanbul, Turkey</td>\n",
       "      <td>Lockheed Super Constellation</td>\n",
       "      <td>F-BGNE</td>\n",
       "      <td>0</td>\n",
       "      <td>1</td>\n",
       "      <td>0</td>\n",
       "      <td>Explosive decompression. A passenger was sucke...</td>\n",
       "    </tr>\n",
       "    <tr>\n",
       "      <th>1638</th>\n",
       "      <td>1957-06-24</td>\n",
       "      <td>NaT</td>\n",
       "      <td>Horn Island, Queensland, Australia</td>\n",
       "      <td>Adastra Airways</td>\n",
       "      <td>Sin Dato</td>\n",
       "      <td>L-Hudson</td>\n",
       "      <td>Sin Dato</td>\n",
       "      <td>0</td>\n",
       "      <td>6</td>\n",
       "      <td>0</td>\n",
       "      <td>Crashed on approach.</td>\n",
       "    </tr>\n",
       "    <tr>\n",
       "      <th>3144</th>\n",
       "      <td>1981-09-22</td>\n",
       "      <td>NaT</td>\n",
       "      <td>Near Babaeski, Turkey</td>\n",
       "      <td>Military - Turkish Air Force</td>\n",
       "      <td>Sin Dato</td>\n",
       "      <td>Northrop F-5A</td>\n",
       "      <td>Sin Dato</td>\n",
       "      <td>0</td>\n",
       "      <td>0</td>\n",
       "      <td>40</td>\n",
       "      <td>The fighter crashed into a village after the p...</td>\n",
       "    </tr>\n",
       "    <tr>\n",
       "      <th>3376</th>\n",
       "      <td>1986-03-27</td>\n",
       "      <td>NaT</td>\n",
       "      <td>Bangui, Central African Republic</td>\n",
       "      <td>Military - French Air Force</td>\n",
       "      <td>Sin Dato</td>\n",
       "      <td>Sepecat Jaguar A</td>\n",
       "      <td>Sin Dato</td>\n",
       "      <td>0</td>\n",
       "      <td>0</td>\n",
       "      <td>35</td>\n",
       "      <td>The jet fighter crashed into a school shortly ...</td>\n",
       "    </tr>\n",
       "    <tr>\n",
       "      <th>3553</th>\n",
       "      <td>1989-05-09</td>\n",
       "      <td>NaT</td>\n",
       "      <td>Near Tainjin, China</td>\n",
       "      <td>Aero Asahi</td>\n",
       "      <td>Sin Dato</td>\n",
       "      <td>Bell 412</td>\n",
       "      <td>JA9596</td>\n",
       "      <td>0</td>\n",
       "      <td>10</td>\n",
       "      <td>0</td>\n",
       "      <td>Sin Dato</td>\n",
       "    </tr>\n",
       "    <tr>\n",
       "      <th>3752</th>\n",
       "      <td>1992-02-20</td>\n",
       "      <td>NaT</td>\n",
       "      <td>En route from Argentina  to  California</td>\n",
       "      <td>Aerolineas Argentinas</td>\n",
       "      <td>Sin Dato</td>\n",
       "      <td>Boeing B-747</td>\n",
       "      <td>Sin Dato</td>\n",
       "      <td>0</td>\n",
       "      <td>1</td>\n",
       "      <td>0</td>\n",
       "      <td>A passenger died of cholera while en route.</td>\n",
       "    </tr>\n",
       "  </tbody>\n",
       "</table>\n",
       "</div>"
      ],
      "text/plain": [
       "          fecha HORA declarada                                     Ruta  \\\n",
       "26   1919-07-21       16:55:00                        Chicago, Illinois   \n",
       "103  1925-09-07            NaT                             Toul, France   \n",
       "347  1934-08-10            NaT                            Ningbo, China   \n",
       "384  1935-08-13            NaT                            Hangow, China   \n",
       "451  1936-12-26            NaT                           Nanking, China   \n",
       "652  1942-10-01            NaT                           Kunming, China   \n",
       "754  1944-11-09            NaT                          Seljord, Norway   \n",
       "854  1946-03-18            NaT    Between Chungking and Shanghai, China   \n",
       "1231 1951-01-20            NaT                             Huilyo, Peru   \n",
       "1362 1952-12-22            NaT                          Damascus, Syria   \n",
       "1386 1953-04-10            NaT             Near Anchieta Island, Brazil   \n",
       "1451 1954-03-13            NaT             Dien Bien Phu, South Vietnam   \n",
       "1577 1956-06-13            NaT                      Over North Carolina   \n",
       "1627 1957-04-20            NaT                            Jirkouk, Iraq   \n",
       "1638 1957-06-24            NaT       Horn Island, Queensland, Australia   \n",
       "3144 1981-09-22            NaT                    Near Babaeski, Turkey   \n",
       "3376 1986-03-27            NaT         Bangui, Central African Republic   \n",
       "3553 1989-05-09            NaT                      Near Tainjin, China   \n",
       "3752 1992-02-20            NaT  En route from Argentina  to  California   \n",
       "\n",
       "                                 OperadOR                            route  \\\n",
       "26     Wingfoot Air Express Goodyear Tire                          Shuttle   \n",
       "103                                 CIDNA                         Sin Dato   \n",
       "347   China National Aviation Corporation                         Sin Dato   \n",
       "384   China National Aviation Corporation                         Sin Dato   \n",
       "451   China National Aviation Corporation                         Sin Dato   \n",
       "652   China National Aviation Corporation                         Sin Dato   \n",
       "754        Military - U.S. Army Air Corps                         Sin Dato   \n",
       "854   China National Aviation Corporation              Chunking - Shanghai   \n",
       "1231                       Military - TAM                         Sin Dato   \n",
       "1362                           Syrian Air                         Sin Dato   \n",
       "1386                                 REAL                         Sin Dato   \n",
       "1451                           Aigle Azur                         Sin Dato   \n",
       "1577                             Piedmont                         Sin Dato   \n",
       "1627                           Air France  Tehran, Iran - Istanbul, Turkey   \n",
       "1638                      Adastra Airways                         Sin Dato   \n",
       "3144         Military - Turkish Air Force                         Sin Dato   \n",
       "3376          Military - French Air Force                         Sin Dato   \n",
       "3553                           Aero Asahi                         Sin Dato   \n",
       "3752                Aerolineas Argentinas                         Sin Dato   \n",
       "\n",
       "                           ac_type registration  all_aboard  \\\n",
       "26               FD Type Dirigible     Sin Dato           0   \n",
       "103                        Spad 33     Sin Dato           0   \n",
       "347                 Sikorsky S-38B     Sin Dato           0   \n",
       "384                 Sikorsky S-38B        NV40V           0   \n",
       "451                   Douglas DC-2      NC14269           0   \n",
       "652                   Douglas C-47           69           0   \n",
       "754                       Sin Dato     42-52196           0   \n",
       "854                       Sin Dato          139           0   \n",
       "1231                  Douglas DC-3     Sin Dato           0   \n",
       "1362                  Douglas DC-3     Sin Dato           0   \n",
       "1386                  Doublas Dc-3     Sin Dato           0   \n",
       "1451                          C-46     Sin Dato           0   \n",
       "1577                  Douglas DC-3     Sin Dato           0   \n",
       "1627  Lockheed Super Constellation       F-BGNE           0   \n",
       "1638                      L-Hudson     Sin Dato           0   \n",
       "3144                 Northrop F-5A     Sin Dato           0   \n",
       "3376              Sepecat Jaguar A     Sin Dato           0   \n",
       "3553                      Bell 412       JA9596           0   \n",
       "3752                  Boeing B-747     Sin Dato           0   \n",
       "\n",
       "      cantidad de fallecidos  ground  \\\n",
       "26                         3      10   \n",
       "103                        0       0   \n",
       "347                        0       0   \n",
       "384                        0       0   \n",
       "451                        0       0   \n",
       "652                        0       0   \n",
       "754                        0       0   \n",
       "854                        0       0   \n",
       "1231                      16       0   \n",
       "1362                       9       0   \n",
       "1386                      26       0   \n",
       "1451                       0       0   \n",
       "1577                       1       0   \n",
       "1627                       1       0   \n",
       "1638                       6       0   \n",
       "3144                       0      40   \n",
       "3376                       0      35   \n",
       "3553                      10       0   \n",
       "3752                       1       0   \n",
       "\n",
       "                                                summary  \n",
       "26    The dirigible, cruising at 1,200 ft. caught fi...  \n",
       "103                                            Sin Dato  \n",
       "347                                            Sin Dato  \n",
       "384                               Destoryed in a storm.  \n",
       "451                                            Sin Dato  \n",
       "652   Crashed while attempting to land after losing ...  \n",
       "754                                            Sin Dato  \n",
       "854    Disappeared while en route. Plane never located.  \n",
       "1231                                           Sin Dato  \n",
       "1362                                           Sin Dato  \n",
       "1386                                           Sin Dato  \n",
       "1451                                         Shot down.  \n",
       "1577  A passenger fell to his death after the door o...  \n",
       "1627  Explosive decompression. A passenger was sucke...  \n",
       "1638                               Crashed on approach.  \n",
       "3144  The fighter crashed into a village after the p...  \n",
       "3376  The jet fighter crashed into a school shortly ...  \n",
       "3553                                           Sin Dato  \n",
       "3752        A passenger died of cholera while en route.  "
      ]
     },
     "execution_count": 51,
     "metadata": {},
     "output_type": "execute_result"
    }
   ],
   "source": [
    "sin_pasajeros = aviones_db.loc[aviones_db[\"all_aboard\"] == 0]\n",
    "sin_pasajeros.head(19)"
   ]
  },
  {
   "attachments": {},
   "cell_type": "markdown",
   "metadata": {},
   "source": [
    "Observamos solamente 3 registros significativos, son los tres que tienen muertes de personas en tierra. Son los unicos que vamos a conservar."
   ]
  },
  {
   "cell_type": "code",
   "execution_count": 52,
   "metadata": {},
   "outputs": [],
   "source": [
    "#Obtenemos los índices de los registros con valor 0 en \"all_aboard\", excepto los índices 26, 3144 y 3376\n",
    "indices_borrar = aviones_db[(aviones_db[\"all_aboard\"] == 0) & (~aviones_db.index.isin([26, 3144, 3376]))].index\n",
    "\n",
    "#Borramos los registros\n",
    "aviones_db.drop(indices_borrar, inplace=True)"
   ]
  },
  {
   "cell_type": "code",
   "execution_count": 53,
   "metadata": {},
   "outputs": [
    {
     "data": {
      "text/html": [
       "<div>\n",
       "<style scoped>\n",
       "    .dataframe tbody tr th:only-of-type {\n",
       "        vertical-align: middle;\n",
       "    }\n",
       "\n",
       "    .dataframe tbody tr th {\n",
       "        vertical-align: top;\n",
       "    }\n",
       "\n",
       "    .dataframe thead th {\n",
       "        text-align: right;\n",
       "    }\n",
       "</style>\n",
       "<table border=\"1\" class=\"dataframe\">\n",
       "  <thead>\n",
       "    <tr style=\"text-align: right;\">\n",
       "      <th></th>\n",
       "      <th>fecha</th>\n",
       "      <th>HORA declarada</th>\n",
       "      <th>Ruta</th>\n",
       "      <th>OperadOR</th>\n",
       "      <th>route</th>\n",
       "      <th>ac_type</th>\n",
       "      <th>registration</th>\n",
       "      <th>all_aboard</th>\n",
       "      <th>cantidad de fallecidos</th>\n",
       "      <th>ground</th>\n",
       "      <th>summary</th>\n",
       "    </tr>\n",
       "  </thead>\n",
       "  <tbody>\n",
       "    <tr>\n",
       "      <th>0</th>\n",
       "      <td>1908-09-17</td>\n",
       "      <td>17:18:00</td>\n",
       "      <td>Fort Myer, Virginia</td>\n",
       "      <td>Military - U.S. Army</td>\n",
       "      <td>Demonstration</td>\n",
       "      <td>Wright Flyer III</td>\n",
       "      <td>Sin Dato</td>\n",
       "      <td>2</td>\n",
       "      <td>1</td>\n",
       "      <td>0</td>\n",
       "      <td>During a demonstration flight, a U.S. Army fly...</td>\n",
       "    </tr>\n",
       "    <tr>\n",
       "      <th>1</th>\n",
       "      <td>1909-09-07</td>\n",
       "      <td>NaT</td>\n",
       "      <td>Juvisy-sur-Orge, France</td>\n",
       "      <td>Sin Dato</td>\n",
       "      <td>Air show</td>\n",
       "      <td>Wright Byplane</td>\n",
       "      <td>SC1</td>\n",
       "      <td>1</td>\n",
       "      <td>1</td>\n",
       "      <td>0</td>\n",
       "      <td>Eugene Lefebvre was the first pilot to ever be...</td>\n",
       "    </tr>\n",
       "    <tr>\n",
       "      <th>2</th>\n",
       "      <td>1912-07-12</td>\n",
       "      <td>06:30:00</td>\n",
       "      <td>Atlantic City, New Jersey</td>\n",
       "      <td>Military - U.S. Navy</td>\n",
       "      <td>Test flight</td>\n",
       "      <td>Dirigible</td>\n",
       "      <td>Sin Dato</td>\n",
       "      <td>5</td>\n",
       "      <td>5</td>\n",
       "      <td>0</td>\n",
       "      <td>First U.S. dirigible Akron exploded just offsh...</td>\n",
       "    </tr>\n",
       "    <tr>\n",
       "      <th>3</th>\n",
       "      <td>1913-08-06</td>\n",
       "      <td>NaT</td>\n",
       "      <td>Victoria, British Columbia, Canada</td>\n",
       "      <td>Private</td>\n",
       "      <td>Sin Dato</td>\n",
       "      <td>Curtiss seaplane</td>\n",
       "      <td>Sin Dato</td>\n",
       "      <td>1</td>\n",
       "      <td>1</td>\n",
       "      <td>0</td>\n",
       "      <td>The first fatal airplane accident in Canada oc...</td>\n",
       "    </tr>\n",
       "    <tr>\n",
       "      <th>4</th>\n",
       "      <td>1913-09-09</td>\n",
       "      <td>18:30:00</td>\n",
       "      <td>Over the North Sea</td>\n",
       "      <td>Military - German Navy</td>\n",
       "      <td>Sin Dato</td>\n",
       "      <td>Zeppelin L-1 (airship)</td>\n",
       "      <td>Sin Dato</td>\n",
       "      <td>20</td>\n",
       "      <td>14</td>\n",
       "      <td>0</td>\n",
       "      <td>The airship flew into a thunderstorm and encou...</td>\n",
       "    </tr>\n",
       "  </tbody>\n",
       "</table>\n",
       "</div>"
      ],
      "text/plain": [
       "       fecha HORA declarada                                Ruta  \\\n",
       "0 1908-09-17       17:18:00                 Fort Myer, Virginia   \n",
       "1 1909-09-07            NaT             Juvisy-sur-Orge, France   \n",
       "2 1912-07-12       06:30:00           Atlantic City, New Jersey   \n",
       "3 1913-08-06            NaT  Victoria, British Columbia, Canada   \n",
       "4 1913-09-09       18:30:00                  Over the North Sea   \n",
       "\n",
       "                 OperadOR          route                 ac_type registration  \\\n",
       "0    Military - U.S. Army  Demonstration        Wright Flyer III     Sin Dato   \n",
       "1                Sin Dato       Air show          Wright Byplane          SC1   \n",
       "2    Military - U.S. Navy    Test flight               Dirigible     Sin Dato   \n",
       "3                 Private       Sin Dato        Curtiss seaplane     Sin Dato   \n",
       "4  Military - German Navy       Sin Dato  Zeppelin L-1 (airship)     Sin Dato   \n",
       "\n",
       "   all_aboard  cantidad de fallecidos  ground  \\\n",
       "0           2                       1       0   \n",
       "1           1                       1       0   \n",
       "2           5                       5       0   \n",
       "3           1                       1       0   \n",
       "4          20                      14       0   \n",
       "\n",
       "                                             summary  \n",
       "0  During a demonstration flight, a U.S. Army fly...  \n",
       "1  Eugene Lefebvre was the first pilot to ever be...  \n",
       "2  First U.S. dirigible Akron exploded just offsh...  \n",
       "3  The first fatal airplane accident in Canada oc...  \n",
       "4  The airship flew into a thunderstorm and encou...  "
      ]
     },
     "execution_count": 53,
     "metadata": {},
     "output_type": "execute_result"
    }
   ],
   "source": [
    "aviones_db.head()"
   ]
  },
  {
   "attachments": {},
   "cell_type": "markdown",
   "metadata": {},
   "source": [
    "Columna \"operador\".\n",
    "A partir de esta columna, vamos a crear una nueva que nos indique sin es un avion militar o no."
   ]
  },
  {
   "cell_type": "code",
   "execution_count": 54,
   "metadata": {},
   "outputs": [
    {
     "name": "stdout",
     "output_type": "stream",
     "text": [
      "['Military - U.S. Army', 'Sin Dato', 'Military - U.S. Navy', 'Private', 'Military - German Navy', 'Military - German Army', 'US Aerial Mail Service', 'Wingfoot Air Express Goodyear Tire', 'Caproni Company', 'Aircraft Transport and Travel', 'Aircraft Travel Transport', 'Compañia Colombiana de Navegación Aérea', 'By Air', 'Latecoere Airlines', 'Handley Page Transport', 'Aeropostale', 'Military - Royal Australian Air Force', 'Military - Royal Airship Works', 'Franco-Roumaine', 'West Australian Airways', 'Military - U.S. Army Air Service', 'Aero Limited', 'Daimler Airways / Grands Express Aeriens', 'Cie des Messageries Aeriennes', 'Compagnie Franco-Roumaine de Navigaation Aerienne', 'Grands Express Aeriens', 'de Havilland Air Service', \"Amee de l'Air\", 'Grands Express Aeriens (Air Union)', 'Air Union', 'Campagnie France Roumaine', 'Daimler Airways', 'CCCP', 'Military - French Navy', 'KLM Royal Dutch Airlines', 'SCADTA', 'Imperial Airways', 'Zakavia', 'Lignes Aeriennes Latecoere', 'CIDNA', 'Deutche Lufthansa', 'Compagnie Internationale de Navigation Aérienne', 'Deutsche Lufthansa', 'Pacific Air Transport', 'Fokker', 'Qantas', 'Varney Air Lines', 'Colonial Air Transport', 'Reynolds Airways', 'Aero O-Y', 'National Air Transport', 'Colonial Western Airlines', 'Boeing Air Transport', 'Iberia Airlines', 'Ford Air Freight Inc.', 'British Columbia Airways', 'National Parks Airways', 'Universal Airlines', 'Continental Air Lines', 'Sunbeam Air Transport Co.', 'Syndicato Condor', 'Spokane Airways', 'Interstate Airlines', 'Aeroespresso', 'Skyline Transportation Company', 'New Standard Airlines', 'Maddux Airlines / Military - U.S.Army Air Force', 'Mexicana', 'MALERT', 'Pan American Airways', 'Northwest Orient Airlines', 'Bodensee Aerolloyd', 'Middle States Airlines', 'Ukvozduchput', 'Associated Aviators', 'Trans Continental Air Transport', 'Skyways', 'Pickwick Airways', 'Bremerton-Seattle Air Taxi / Gorst Air Lines', 'Corp. Aeronautica de Transportes', 'S.A.M. Società Aerea Mediterranea', 'Air Orient', 'Maddux Airlines', 'Central  Airlines (Universal Aviation Corporation)', 'Canadian Colonial Airways', 'Cross Airways', 'Walcot Air Line', 'Ceskoslovenske Aerolinie', 'Sabena', 'Western Canada Airways', 'Military - British Air Ministry', 'Wings Ltd', 'Alaska-Washington Airways', 'Embry Riddle Company', 'China National Aviation Corporation', 'Dominion Air Lines', 'Australian National Airways', 'Trans Continental and Western Air', 'Guiena Airways', 'Rubner Flying Service', 'Braniff Airlines', 'Australian Aerial Services', 'American Airways', 'Chicago-Detroit Airways', 'NY, Phil., Washington AW', 'Union Airways', 'Braniff Airways', 'Northwest Airways', 'Century Pacific Lines', 'Bimini Airways', 'Transamerican Airlines', 'Century Air Lines', 'Transamerica Airlines', 'Panagra', 'A B Aerotransport', 'New England Airways', 'Lloyd Aero Boliviano', 'Hunter Airways', 'Guinea Airways', 'Eastern Air Transport', 'Pan American Grace Airways', 'Varney Airlines', 'Eurasia', 'Aeropostale - La Tecoere Company', 'Palwaukee', 'Societa Anonima Aero Expresso Italiana', 'Aeroput', 'United Air Lines', 'Air France', 'Kalinin', 'Boeing Aircraft Company', 'Pan American Airways (Scadta)', 'Pan American Grace Airlines', 'Aerevias Centrales Air Service', 'United Air Services', 'Swissair', 'Rapid Air Transport', \"Hillman's Airways\", 'Holymans Airways', 'Holdens Air Transport Service', 'Cubana de Aviacion', 'American Airlines', 'Aeroflot', 'Indian Air Force', 'Deruluft', 'Military - US Navy', 'Misrair', \"Gor'ky Eskadril'ya\", 'Knowles Flying Service of Detroit', 'Wyoming Air Service', 'Chicago and Southern Airlines', 'Servicio Aereo Columbiano / SCADTA', 'Wedell-Williams Air Service Corporation', 'Jersey Airways', 'Fuerza Aerea Colombiana', 'Ala Littoria', 'Delta Air Lines', 'Aero Mayflower Transit Co', 'Western Air Express', 'Panama Airways', 'Holyman Airways', 'Chamberlin Flying Service', 'Air Bleu', 'Military - Fuerza Aerea Colombiana', 'Lloyd Aereo Boliviano', 'Lan Chile', 'Avio Linee Italiane', 'Den Norske Luftfartskole', 'Guernsey Airways', 'Chicago Southern Airlines', 'British Airways', 'Pittsburgh Skyways Inc.', 'Ala Littoria SA', 'Blue Bird Air Service', 'North Sea Aerial and General Transport', 'Eastern Air Lines', 'Airlines of Australia', 'Deutsche Zeppelin Reederei', 'Fuerzs Aerea De Chile', 'ENTA', 'Private - Purdue Reasearch Foundation', 'Lot Polish Airlines', 'LOT', 'Lufthansa', 'Pan American World Airways', 'General Airways', 'Military - U.S. Navy / Military - U.S. Navy', 'TsAGI', 'Lineas Aéreas Mineras', 'United Airways of New Zealand', 'Cruzeiro do Sul', 'Ginger Coote Airways', 'Wilson Airways', 'LOT Polish Airlines', 'Magyar Legiforagalmi', 'Dai Nippon', 'CSA Czech Airlines', 'Macchi', 'Japan Air / Japan Flying School', 'Transcontinental &Western Air', 'North Queensland Airways', 'Trans Canada Air Lines', 'Japan Aviation Corporation', 'Marine Airways', 'Military - Ecuadorian Air Force', 'KLM Royal Duch Airlines', 'British American Air Services', 'Indian National Airways', 'Scarta', 'Linee Aeree Italiane', 'KNILM', 'British Overseas Airways', 'Douglas Aircraft Company', 'LARES', 'Pennsylvania Central Airlines', 'Lloyd Aero Boliviano SA', 'VASP', 'Ala Littolia', 'LATI', 'Malert Airlines', 'South African Airways', 'Great Western and Southern Air Lines', 'Manchurian Air Lines', 'Military -Royal Air Force', 'Military - Royal Air Force', 'Panair do Brasil', 'BOAC', 'Military - U.S. Army Air Force', 'Guinea Airways Limited', 'Military - U.S. Army Air Forces', 'Panair do Brasil SA', 'American Export Airlines', 'American Airlines / Military - USAF', 'Avianca', 'Kranoyarskie Vozhjushnye Trassy', 'Western Airlines', 'DDL', 'Canadian Pacific Air Lines', 'Private - Boeing Aircraft Company', 'Military - U.S. Air Force', 'AB Aerotransport', 'Military - Royal Canadian Air Force', 'Military - Indian Air Force', 'Military - U.S. Army Air Forces / Military - U.S. Army Air Forces', 'DETA', 'Varig', 'Military - Royal Netherlands East Indies Air Force', 'U. S. Air Force', 'CATC', 'TACA', 'Trans-Canada Air Lines', 'Navegacao Aerea Brasileira', 'Military - United States Army Air Force', 'Page Airways', 'Mac Robertson Miller Airlines', 'Military - Royal Indian Air Force', 'Military - South African Air Force', 'Eastern Air Lines / Military - U.S. Army Air Corps', 'Lineas Aereas Mineras', 'National Airlines', 'Faucett', 'National Skyway Freight Co.', 'Polyarnya Aviatsiya', 'Military - Chinese Air Force', 'Mililtary - Royal Canadian Air Force', 'British Overseas Airways /Qantas', 'Railway Air Services Ltd.', 'Military - Royal British Navy', 'Military U.S. Navy / Military - U.S. Navy', 'Viking Air Transport', 'DNL Norwegian Air Lines', 'Central Air Transport', 'ANDESA', 'Military - U.S. Army Air Corps', 'Military -  (2) U.S. Army Air Forces', 'Communicaciones Aereos de veracruz', 'British European Airways', 'Atlantic Central Airlines', 'Trans Luxury Airlines', 'Queen Charlotte Airlines', 'Trans-Luxury Airlines', 'British South American Airways', 'Mt. McKinley Airfreight', 'Railway Air Service Ltd.', 'American Overseas Airlines', 'Military - Royal Netherlands Naval Air Service', 'Air Ocean', 'National Air Transport Services', 'Socotra', 'CTA Languedoc Roussillon', 'Empressa Commun. Aéreas de Veracruz', 'Lineas Aéreas Costarricenses  LACSA', 'Fuerza Aérea Argentina', 'Military - U.S. Marine Corps', 'Far Eastern Air Transport', 'Winged Cargo Inc.', 'FAMA (Argentina)', 'CNAC', 'CATA', 'Kansas City Southern Skyways', 'Nationwide Air Transport', 'Military - Mexican Air Force', 'AVIANCA', 'Spencer Airways / Ceskoslovenske Aerolinie', 'Philippine Air Lines', 'International Air Freight', 'Aerovias Cuba International', 'Slick Airways', 'Military - Corrieri Aerei Militari', 'VIARCO', 'Linea Aeropostal Venezolana', 'Flugefelag', 'Flota Aérea Mercante Argentina', 'Burke Air Transport', 'Aero Cargo', 'Transporturile Aeriene Romano-Sovietice', 'Norwegian Airlines', 'American International Airways', 'Societe Aerienne du Littoral', 'Stratofreight', 'Philippine Air Express', 'Société Auxiliare de Navigation Aérienne', 'Trafik-Turist-Transportflyg', 'TARS', 'Columbia Air Cargo', 'JAT Yugoslav Airlines', 'Alaska Airlines', 'Air Transport', 'Air India', 'Servicio Aéreo Panini', 'Coastal Air Lines', 'Transport Comp. Algerienne de T.A.', 'Dominicana', 'Airline Transport Carriers', 'Det Danske Luftfartselskab', 'Società Aerea Teseo', 'Commercial Airways', 'Bruning Aviation', 'Military - Brazilian Air Force', 'Société de Transports Aériens', 'Loftleidir Icelandic Airlines', 'Cruzeiro', 'Agencia Interamericana de Aviada', 'Indian National Airlines', 'British European Airways / Military - Soviet Air Force', 'New Guinea Air Traders', 'Skyways of London', 'Mercury Aviation', 'Air Transport Charter', 'Alpha Airways', 'Hargreaves Airways', 'Cathy Pacific', 'Scandinavian Airlines (SAS)', 'Aigle Azur', 'Aerovias Brasil', 'Cathay Pacific Airways', 'Rimouski Airlines', 'ALFA', 'Civil Air Transport', 'Onzeair', 'New Zealand National Airways', 'Avensa', 'Aerflot', 'Pacific Alaska Air Freight', 'Mannin Airways', 'Pakistan Airways', 'Avio Linee Italiane\\rAvio Linee Italiane', 'LANSA', 'Airborne Transport', 'Pan African Air Charter', 'Seattle Air Charter', 'Coastal Cargo', 'Viacao Aerea Gaucha S.A.', 'Dalmia Jain Airways', 'Saint Lawrence Airways', 'British European Airways / Military - British', 'TAM (Peru)', 'Queensland Airlines', 'Bristop Aeroplane Company', 'Tech - Aeronautical Explotiation', 'Strato Freight', 'Mac Roberston-Miller Airlines', 'Standard Airlines', 'Air Transport Associates', 'Eastern Air Lines / Military - USN', 'Lineas Aéreas Brasil', 'Shell Co of Ecuador', 'SAETA', 'Transocean Air Lines', 'Eastern Air Lines / Military - Bolivian Air Force', \"Harrington's Inc\", 'Royal Indian Air Force', 'Aero Holland', 'REAL', 'Arrow Airlines', 'Capital Airlines', 'Pakair', 'Bharat Airways', 'Military - Soviet Air Force', 'Ejercito del Aire', 'Military - Bolivian Air Force', 'Societe Transatlantique Aerienne', 'Societe Indochinoise de Transport Aeriens', 'Fairflight Ltd.', 'Devlet Hava Yollairi', 'SEMAF', 'Deccan Airways', 'Lineas Aéreas Nacionales', 'Regina Cargo Airlines', 'Westair Transport', 'New Tribes Mission', 'Ansett ANA', 'DTA Angola Airlines', 'Cie Air Transport', 'SAVG (S.A. Viacao Gaucha, )\\rSAVG', 'Trans World Airlines', 'Robinson Airlines', 'Iran Air', 'Svenska Aero', 'Air Atlas', 'Curtiss-Reid Flying Services Ltd. (Canada)', 'Garuda Indonesia Airlines', 'Indamer', 'T.A. Intercontinentaux', 'Aerolineas Argentinas', 'United Airways', 'Air Carriers', 'Alitalia', 'Icelandair', 'Military - Portuguese Air Force', 'Mid Continent Airlines', 'Pacific Overseas Airways', 'Southwest Airways', 'Siamese Airways', 'Cubana de Aviacion / Military -  US Navy', 'Hunting Air Travel', 'Lineas Aéreas Trans. Brasileira', 'Sociedad Aeronautica Medellin', 'Loide Aereo Nacional', 'Air Outre-Mer', 'Loide Aéreo Nacional', 'Trans Australia Airlines', 'Societe Alpes Provence', 'Military - US Air Force', 'Frigorifico Cooperativo Los Andes', 'Aero Transportes', 'Military - Guatemalan Air Force', 'Military - U. S. Air Force', 'Devlet Hava Yollari', 'El Al', 'Lineas Aereas Unidas', 'Miami Airlines', 'Continental Charters', 'Kalinga Airlines', 'Aer Lingus', 'STAAP', 'Military - U.S. Air Force / U.S. Air Force', 'Maritime Central Airways', 'Société Aérienne de Tr. Tropicaux', 'US Airlines', 'Japan Air Lines', 'North Continental Airlines (Robin Airlines)', 'Fred Olsen Flyveselskap', 'Swedish Air Force', 'Morton Air Services', 'Military - Navy', 'Transportes Areos Nacionales', 'Airwork', 'Military - Pakistan Air Force', 'Phoenix Airlines', 'Private - de Havilland Aircraft', 'SAM Colombia', 'Aero Brasil', 'Union Aeromaritime de Transport', 'TABSO', 'Rutas Aéreas Nacionales SA', 'Flying Tiger Line', 'Associated Air Transport', 'Lancashire Aircraft Corporation (Skyways)', 'Air Outremer', 'UTA', 'Military - Egyptian Air Force', 'Orient Airways', 'u.s. Air Force', 'Transportes Aéreos Salvador', 'Central African Airways', 'Caribbean International Airways', 'Airways', 'Meteor Air', 'LACSA', 'LAN Chile', 'Aerovias Contreras', 'Transportes Aéreos Mexicanos', 'Resort Airlines', 'Compagnie Sila', 'British Commonwealth Pacific Airlines', 'Aviaco', 'Indian Airlines', 'Aviateca', 'Misair', 'Syrian Airways', 'Ariana Afghan Airlines', 'Czech Airlines', 'Zantop Air Transport', 'Aeronaves de Mexico', 'Autrex', 'South African Airways, leased from British Overseas Airways', 'Trans Canada Air Lines / RCAF', 'LAN', 'Societe Indochinoise de Raviteillement', 'Darbhanga Aviation', 'Transportes Aereos Nacionales', \"Soc. de Tr. Aériens d'Extrême Orient\", 'Air Vietnam (South Vietnam)', 'TAA', 'TAM (Brazil)', 'Northeast Airlines', 'Air Laos', 'Ceskoslovenské Aerolinie', 'Johnson Flying Service', 'Trans World Airlines / Castleton Inc.', 'Ontario Hydro', 'Interamericana de Aviacion', 'West African Airways', 'de Havilland Dove', 'Aaxico Airlines', 'Union des Transportes Aeriens', 'East African Airways', 'Associated Airways', 'Union Aéromaritime de Transport', 'Tigres Voladores', 'Lineas Areas Unidas', 'Military - U.S. Air Force / Military - U.S. Air Force', 'Union of Burma Airways', 'Currey Air Transport', 'Societe France Hydro', 'Pacific Western Airlines', 'Peninsular', 'Riddle Airlines', 'Cruzeiro Do Sud', 'Quebecair', 'Spartan Air Services', 'Scottish Airlines', 'Transport Aerien Intercontinentaux (France)', 'Pakistan International Airlines', 'Starways', 'National Air Operators', 'Military - Royal Thai Air Force', 'Cordova Airlines', 'United Air Lines / Trans World Airlines', 'Jordan International Airlines', 'Continental Airlines', 'Britavia', 'Braathens', 'Aerovias Guest', 'Empresa Aviacion del Pacifico', 'AIDA', 'Lineas Aereas del Estado', 'Lanica', 'Douglas Aircraft', 'Japanese Air Force', 'Military - Philippine Air Force', 'Eagle Aviation', 'U.S. Overseas Airways', 'Pacific Western', 'Kenting Air', 'Military - United States Air Force', 'Sahsa Airlines', 'èkoda (India) Ltd', 'Lebanese International Airways', 'Transportes Aereos Mexicanos', 'Herfurtner Company', 'TAROM', 'Bristol Aeroplane Co.', 'Aquilla Airways', 'Straits Air Freight Express', 'Northern Wings', 'TAM (Bolivia)', 'Military - U.S.  Air Force / Military - U.S. Navy', 'Réseau Aérien Interinsulaire', 'Silver City Airways', 'Military - U.S. Marine Corps/Military - U.S. Marine Corps', 'Military - U.S. Air Force/Military - U.S. Air Force', 'Transportes Aereos Orientales', 'AREA', 'United Air Lines / Military - U.S. Air Force', 'Capital Airlines / Military - Air National Guard', 'Dan-Air Services', 'Paraense Transportes Aéreos', 'All Nippon Airways', 'Independent Air Travel', 'Middle East Airlines', 'Military - TAM (Bolivia)', 'Yemen Airlines', 'ARTOP Aerotopografica LDA', 'Capitol Airways', 'Southeast Airlines', 'California Air Freight', 'Austral Lineas Aeras (Argentina)', 'Linea Expresa Bolivar', 'Air Jordan', 'Air Charter', 'Dwyer Flying Service - Private Charter', 'Turkish Airlines (THY)', 'Southern Cross Airways', 'Austria-Flugdienst', 'Transportes Aereos Peruanos', 'Lineas Aéreas Interpolar', 'Aerolineas Nacionales', 'Militiary - US Air Force', 'Tranair', 'PAS', 'Transair', 'Reeve Aleutian Airlines', 'T.A. Intercontinentaux (France)', 'Kappel-Van Eyck Airways', 'Pacific Air Lines', 'Piedmont Airlines', 'Olympic Airways', 'Wheeler Airlines', 'Allegheny Airlines', 'California Aircraft', 'Transportes Aéreos de Timor', 'REAL / Military - U.S. Navy', 'SAMSA', 'Lloyd Aereo Colombiano', 'Piedmont Airlines / Private', 'Sobelair SA (Belgium)', 'Balair', 'Transamerican Air Transport', 'Pacific Northern Airlines', 'Gulf Aviation (Kalinga Airways)', 'Military - U.S. Misson', 'Ethiopian Airlines', 'Flyve Tjenesten', 'Military - Royal Belgian Air Force', 'Chicago Helicopter Airways', 'Deutsche Flugdienst', 'Military - French Naval Aviation', 'Don Everall Aviation', 'World Airways', 'Austrian Airlines', 'United Arab Airlines', 'Itavia', 'Arctic Pacific', 'Royal Nepal Airlines', 'Military - Argentine Air Force', 'Finnair', 'Air Cameroon', 'Continentale Deutsche Luftreederei', 'Transcontinental', 'Malev Hungarian Airlines', 'Cunard Eagle Airways', 'Eastern Provincial Airways', 'REAL Transportes Aereos', 'Lineas Aéreas Costarricenses', 'President Airlines', 'Transair Sweden', 'Derby Aviation', 'Air Haiti International', 'Bay of Plenty Airways', 'Rhodesian Air Services', 'Military - Força Aérea Portuguesa', 'Military - Belgian Air Force', 'Kodiak Airways', 'Corporacion Boliviano de Fomento', 'Caledonian Airways', 'Societa Aerea Mediterranea', 'Military - French Air Force', 'Military - Colombian Air Force', 'AVISPA', 'Channel Airways', 'Military - Union of Burma Air Force', 'East Provincial Airways', 'Trans Mediterranean Airways', 'Panair do Brazil', 'Taxader Airlines', 'Military - Japan Maritime Self Defense Force', 'Private - Ashland Oil Company', 'Aerolineas Abaroa', 'United Nations', 'Czechoslovak Airlinex', 'VASP / Private', 'Carvair ATL-98', 'Air Nautic', 'Wien', 'West Coast Airlines', 'Skyvan Airways', 'Middle East Airlines / Military - Turkish Air ForceC-47', 'Trans Aircraft (Western) Ltd.', 'Saudi Arabian Royal Flight', 'Military - Japan Air Self Defense Force', 'Air Afrique', 'Military - Chilean Air Force', 'Tarom', 'Mohawk Airlines', 'Air Madagascar', 'Air America', 'Sadai', 'Danish Air Force', 'Air Inter', 'American Air  Export & Import Co.', 'Fujita Koku Kabushki Kai', 'Military - U.S. Air Force / Military -  U.S. Air Force', 'Aeronaves de Panama', 'New York Airways', 'British Aircraft Corporation', 'Aerolineas Litoral Argentina', 'South Central Airlines', 'Lloyd Aéreo Boliviano', 'Fuji Airlines', 'British Eagle International Airlines', 'Paradise Airlines', 'Snow Valley Ski Lines', 'Taxi Aereo de Santander', 'Slick Airways - Cargo', 'Frontier Airlines', 'Commercial Air Taxi', 'Private - Facilities Management Co.', 'Aden Airways', 'Wein Alaska Airlines Inc.', 'Military  - US Air Force', 'Military - US Air Navy', 'Saudi Arabian Airlines', 'TASSA', 'Servicios Aéreos Cochabamba', 'Interocean', 'Mustang Aviati', 'Bonanza Airlines', 'Linjeflyg', 'Air Congo (BIAS)?', 'Military - Vietnamese Air Force', 'Fleming Airways System Transport', 'SATCO', 'Lineas Aéreas Sud Americana', 'Aeroflot / Kazakhstan', 'Aerovias del Norte', 'Aerolineas El Salvador', 'Fairways (Filipinas Orient Airways)', 'Miami Aviaition/Air Manila', 'Alia Royal Jordanian Airlines', 'British United Airways', 'Mattagami Skyways', 'Military - U.S. Army / Military - U.S. Army', 'Virgin Islands Airways', 'Rutas Internacionales Peruanes', 'Filipinas Orient Airways', 'TAO', 'International Control Commision', 'Aerolineas TAO', 'Paul Kelly Flying Service Inc.', 'Edde Airlines', 'Trans World Airlines / Eastern Air Lines', 'Spantax', 'Air Manila', 'Garuda  Indonesia Airlines / Garuda Indonesia Airlines', 'Satena', 'COHATA', 'Belgian International Air Services', 'Servicios Americanos', 'American Flyers Airline', 'Norair', 'Air New Zealand', 'Aeropesca Colombia', 'Alamo Airways', 'Private - Mainline Aviation', 'Aerovias Halcon', 'Alaska Coastal Airlines', 'Britannia Airways', 'Petroleum Helicopter', 'Transportno Aviatsionno Bulgaro-Soviet Obshchestvo', 'Aerocondor de Colombia', 'Syrian Arab Airlines', 'Lake Central Airlines', 'Compagnie Air Transport', 'Trans World Airlines / Private', 'Aeralpi', 'Caribbean Airlines', 'Air Algerie', 'Military - Imperial Iranian Air Force', 'Globe Air', 'Pelita Air Service', 'Greylock Airways / Private', 'Nordair', 'Air Canada', 'Air Ferry Ltd', 'British Midland Airways', 'Aer Turas', 'Thai International', 'Vehu Akat', 'Taiwan Aviation', 'China Airlines (Taiwan)', 'Sadia', 'Lao Cathay Airlines', 'Thai Airways', 'Air Comores', 'Royal Air Lao', 'Ozark Air Lines / Private', 'Military - Russian Air Force', 'Ladeco', 'Aerovias Rojas', 'Los Angeles Airways', 'Rinaldo Piaggio', 'Purdue Airlines Inc.', 'BKS Air Transport', 'Aerolineas Flecha Austral', 'North Central Airlines / Private', 'Westwing', 'Bulair TABSO', 'Far Aviation - Air Taxi / Speeds Flying - Air Taxi', 'Pan African Airlines', 'Aerovias del Valle', 'Cable Commuter', 'Wien Consolidated Airlines', 'Interior Airways', 'Exportada De Sal S.A.', 'North Central Airlines', 'Servicios Aéreos Especiales', 'MacRobertson Miller Airlines', 'ERA Helicopter', 'Mineral County Airlines', 'Prinair', 'Continental Air Transport', 'Venezolana Internacional de Aviacion', 'Avion Airways', 'Islands of the Bahamas Inc', 'Wigmo', 'Ghana Airways', 'Flying W Airways', 'Aero Transporti Italiani', 'Compania Mexicana de Aviacion', 'Air South', 'Trans Isle Air', 'Canairelief Air', 'Private Charter', 'Military - Royal Lao Air Force', 'TAME Ecuador', 'SATENA', 'Allegheny Airlines / Forth Corporation', 'Nordchurchaid', 'Austin Airways', 'Nigeria Airways', 'Laos Air', 'Military - Royal Hellenic Air Force', 'Polynesian Airlines', 'Charter -Federal Electricity Commission', 'TAG Airlines', 'Pilgrim Airlines', 'Lineas Aéreas La Urraca', 'Compania Dominicana de Aviacion', 'Air Congo', 'Bavaria Flug', 'Paraense Transportes Aereos', 'Grand Canyon Airlines', 'Royal Air Maroc', 'Military - Italian Air Force', 'Antillean Airlines', 'Somali Airlines', 'Executive Jet Sales Inc.', 'Aeroservicios', 'Lehigh Acres Development Inc.', 'Military - LADE', 'Reeder Flying Service', 'Dan Air Services', 'Military - United States Navy', 'Lineas Aereas Nacionales SA (Peru)', 'Dutch Continental Airways', 'Trans International Airlines', 'Charter, Golden Eagle Aviation Inc.', 'National Airways', 'Saturn Airways', 'Aerocosta Colombia', 'Southern Airways', 'Capitol Airlines', 'Cargolux', 'Jamair', 'Trans Caribbean Airways', 'Rousseau Aviation', 'American Airlines / Private', 'Balkan Bulgarian Airlines', 'Fuerza Aérea del Peru', \"L'Armée de L'Air\", 'Korean Airlines', 'TAM (Transportes Aereos Militares)', 'New England Aviaiton', 'Aviogenex (Yugoslavia)', 'Aerolineas Flecha Austral - ALFA', 'Hughes Airwest  / Military - US Marine Air Corps', 'SAVCO', 'Shelter Cove Sea Park', 'Toa Domestic Airline (Japan)', 'Air Ivoire', 'All Nippon Airways /  Japanese Air Force', 'Downeast Airlines', 'Pan International', 'Scenic Air Lines', 'Monmouth Airways', 'Merpati Nusantara Airlines', 'Sudan Airways', 'SAESA', 'Lineas Aéreas la Urraca', 'Miliitary - SATENA', 'Royal Air Laos/PENAS', 'TAC Colombia', 'Sterling Airways', 'Egyptair', 'Helaire Helicopter', 'Aerotechnia', 'Military - Russian Navy', 'General Air', 'Amazonese Importacao e Exportacao', 'Petrolium Helicopter', 'North Central Airlines / Air Wisconsin', 'Pacific Southwest Airlines', 'Military - Royal Norwegian Air Force', 'Charter', 'AVIANCA / AVIANCA', 'Interflug', 'Burma Airways', 'Lineas Areas Venezolanas', 'Ansett Airlines of Papua New Guinea', 'Servicios Aereas Virgen de Copacabana', 'Military - Royal Nepalese Air Force', 'Cambodia Air', 'Uruguayan Air Force - TAMU', 'Air Melanesie', 'Metro Air Systems', 'Delta Air Lines/ North Central Airlines', 'Air Guadeloupe', 'American Express Leasing', 'TAN', 'Petrolium Helo Inc.', 'Aerovias Urraca', 'Libya Arab Airlines', 'Lineas Aereas de Espana/Spantax SA Transportes', 'Invicta International Airlines (UK)', 'Military - U.S. Navy / NASA', 'Bakhtar Afghan Airlines', 'Air Gaspé', 'Aeromexico', 'Ozark Air Lines', 'Air Hawaii', 'Aviaco Condor', 'Aerocondor Colombia', 'Texas International Airlines', 'Aeronorte', 'Executive Funds', 'Air East', 'Servicios Aéreos Boliviano', 'Cessnyca', 'Military - West German Air Force', 'Pathet Lao Airlines', 'Sierra Pacific Airlines', 'Wenela Air Services', 'Houston Metro Airlines', 'Aero Taxis Equatorianos', 'Fragtflug', 'Lambair', 'Alaska Helicopter - Air Taxi', 'Aeronorte Colombia', 'Air Amercia', 'Laurentian Air Services', 'Air  Mali', 'Military - Zairean Air Force', 'Mabuhay Airways', 'Alaska International Air', 'Hlavka Aviation - Air Taxi', 'Orient Air System and Integrated Services', 'Alpa Servicios Aéreos', 'Martinair Holland NV', 'Aerovias Venezolanas SA (Venezuela)', 'Edwin Ortiz', 'Golden West Airlines / Private', 'Linea Aérea Nacional', 'Horizon Properties', 'Military - Deutsche Luftwaffe', 'Pacific Alaska Airlines', 'Aerocondor', 'Hamilton Aviation', 'Aerovias Condor', 'Military - Nicaraguan Air Force', 'Wien Air Alaska', 'Connair', 'Inex Adria Aviopromet', 'Military - Israel  Air Force', 'Star Aviation', 'Winship Air', 'Philippine Aerotransport', 'Frigorifico Maniqui', 'TAME', 'CAAC', 'Transbrasil', 'LAC Colombia', 'Mercer Airlines', 'Antilles Air', 'Kodiak Western Alaska Airlines', 'Yacimientos Petroliferos Fiscales', 'Sabah Air', 'Military - Burma Air Force', 'Military - Spanish Air Force', 'Temsco Helicopter - Air Taxi', 'Military - Venezuelan Air Force', 'Aeroflot / Aeroflot', 'Inex Adria Aviopromet / British Airways', 'Emirates Air Transport', 'Nordeste Linhas Aéreas', 'Bali International Air Service', 'Inair Panama', 'Atlantic City Airlines', 'EgyptAir', 'Jet Avia Charter', 'Northern Thunderbird Air Ltd.', 'Skyline Sweden', 'North Canada Air', 'Survair', 'Alyemda', 'Overseas National Airways', 'Pan American World Airways / KLM', 'El Venado', 'Military - Israel Air Force', 'IAS Cargo', 'New  York Helicopter', 'Fuerza Aérea Uruguaya', 'Fleming International Airways', 'Military - Angolan Air Force', 'Military - Honduran Air Force', 'Private KNBC Los Angeles', 'Monarch Aviation', 'Island Airways', 'Transmeridian Air Cargo', 'Servicios Aereos Nacionales Airways', 'Alaska Aeronautical Industries', 'Safe Air Cargo', 'L & J Company', 'Servicios Aereos Martinez Leon', 'TAP (Air Portugal)', 'Malaysia Airlines', 'National Jet Services Inc.,  (Air Indiana)', 'SATA', 'Vieques Air Link', 'Valley Air Service', 'Servicios Aereos Nacionales', 'SADELCA', 'TABA', 'Uruguayan Air Force', 'Columbia Pacific Airlines', 'Security Air', 'LAV - Linea Aeropostal Venezolana', 'Lake Havasu Air', 'Air Logistics', 'Gander Aviation', 'Helikopter Service', 'Aeropeca', 'Las Vegas Airlines', 'Air Guinee', 'AirWest Airlines', 'Air Rhodesia', 'Temesco Helicopter - Air Taxi', 'Lineas Areas del Centro', 'Alaska Travel', 'Philippine Air Force', 'Pacific Southwest Airlines / Private', 'Military - Finish Air Force', 'Era Helicopter - Air Taxi', 'Solomon Islands Airlines', 'Nile Delta Air Services', 'Aereo el Venado', 'Tyee Airlines', 'Rocky Mountain Airways', 'Air 70', 'Air Rouergue', 'TAM Lineas Aéreas Regional', 'Universal Airways', 'Swift Aire Lines Inc.', 'Catalina Airlines', 'Sea Airmotive', 'Military - Mauritanian Air Force', 'Air New England', 'Fiji Air Services', 'Soldotna Air Services', 'Butler Aviation Inc.', 'Pacific Coastal Airlines', 'West Coast Air', 'Comair', 'Aerolineas La Gaviola', 'CAMBA', 'Douglas Airways', 'Haïti Air Inter', 'Private charter', 'Ambler Air Service', 'Cubana de Aviacon', 'Rotor Airs Inc - Air Taxi', 'Advance Airlines', 'Eagle Commuter', 'VOTEC', 'Lineas Aereas de Angola', 'Air Wisconsin', 'Aeronaves del Peru', 'Bouraq Indonesia Airlines', 'Military - Kuwait Air Force', 'Florida Commuter Airlines', 'Military - Force Aérienne Zaïroise', 'Military - Royal Saudi Air Force', 'F.R. de la Direccion General de Ados', 'Central Air Services', 'Tanzania Aviation', 'Transportes Aereos del Caribe', 'Cascade Airways', 'Military - Soviet Navy', 'Private - Corporate', 'Helicopter - Air Taxi', 'Urcupina', 'Freedom International', 'Air US / Private', 'Private - Airfast Indonesia', 'TAAG Angola Airlines', 'Lineas Aereas', 'TAR', 'Transamazonica', 'Aeroflot / Military - Russian Air Force', 'Aeroflot /Military - Russian', 'Military - Turkish Air Force', 'Military - Iranian Air Force', 'Sky Train Air', 'NLM (Nederlandse Luchtvaart Maatschappij)', 'Oefag Flugdienst', 'Aerolineas Argo', 'Cameroon Airlines', 'Guyana Airways', 'Inex Adria Aviopromet (Yugoslavia)', 'Private - Parajump air show', 'Bristow Helicopters', 'ACES Colombia', 'Air Florida', 'Military - Ethiopian Air Force', 'Military - Republic of South Korea Air Force', 'Trans Air Services', 'LAC Columbia', \"Wideroe's Flyveselksap\", 'Air Taxi - Tundra Copters', 'Okanagan Helicopters', 'Air Affaires Gabon', 'Western Helicopter', 'Aerolineas Condor', 'Cia Brasiliera de Tratores', 'Aerolineas Centrales de Colombia', 'Pioneer Airlines', 'Aeronor Chile', '46826/109', 'Aeroleo Taxi Aereo', 'Central Airlines', 'Munz Northern Airlines', 'Air Liberia', 'Japan Air Self-Defence Force', 'SAN Ecuador', 'Military - Republic of China Air Force', 'Reeve Aleutian Airways', 'Air Mali', 'CAAK', 'British Airways Helicopters', 'Central Mountain Air Services', 'Gulf Air', 'Taiwan Airlines', 'Air Illinois', 'Pennsylvania Airlines', 'Iberia Airlines / Aviaco', 'TAMPA Colombia', 'Inuvik Coastal Airways', 'Military - Royal Jordanian Air Force', 'Skycraft Air Transport', 'North East Bolivian Airways', 'Britt Airways', 'Military - Salvadoran Air Force', 'Aerosucre Colombia', 'Frigorifico Reyes', 'State Airlines', 'VOTEC / VOTEC', 'Zantop International Airlines', 'Air Continental', 'Air Taxi - Raco Helicopters Corp.', 'South Pacific Island Airways', 'Bangladesh Biman', 'Aviation Enterprises', 'Airfast Indonesia', 'Wings West Airlines / Private', 'Talair', 'Provincetown - Boston Airlines', 'MMM Aero Services', 'APRL', 'AECA Cargo', 'Nahanni Air Services', 'Labradore Airways', 'Mililtary - Soviet Air Force', 'Village Airways', 'Military - Fuerza Aérea del Peru', 'TPI International Airways', 'Air Taxi - EMS', 'Galaxy Airlines', 'AIRES Colombia', 'North Pacific Airlines', 'YPF', 'Carga Aereo Transportada', 'Aeronica', 'Aeroflot / Soviet Air Force', 'General Aviation Inc.', 'Fuerza Aérea Colombiana', 'Alyemda Airlines', 'British Airtours', 'Bar Harbor Airlines', 'Midwest Express', 'MAP', 'Air Carriers Express Services Inc', 'Pel Air', 'Sabeni', 'Mountain Air Cargo', 'Military - Indonesian Air Force', 'Arrow Airways', 'Aerovias de Guatemala SA', 'Air Taxi', 'Aerocalifornia', 'GLM Aviation', 'Simmons Airlines', 'Goose Bay Air Services', 'Ministerstvo Obshchestvo Mashinostroyeniya', 'Military - Mozambique Air Force', 'Military - El Salvador Air Force', 'Air Lanka', \"Military - Armée de l'Air Malgache\", 'Loganair', 'Grand Canyon Airlines / Helitech', 'Military - Zimbabwe Air Force', 'Leeward Islands Air Transport', 'Southwest Airlift', 'Aeromexico / Private', 'Atlantic Southeast Airlines', 'Eastindo', 'Southern Air Transport', 'Government of Mozambique', 'Private - WNBC', 'British International Helicopters', 'Military - Afghan Republican Air Force', 'Iraqi Airways', 'Sunflower Airlines', 'Military - Spanish Air Force.', 'Skywest Airlines / Private.', 'Northwest Airlink', 'California Air National Guard', 'Burlington Air Express', 'Air-Lift Commuter', 'Sasco Air Lines', 'American Eagle', 'Air Manitoba', 'YPFB Transportes Aereos', 'Missionary Aviation Fellowship', 'Military - Peruvian Air Force', 'Belize Air International Ltd.', 'Northwest Airlines', 'Aeroejecutivos Colombia', 'Air Malawi', 'Ryan Air Services', 'Cooper Skybird Air Charters', 'Peruvian Naval Aviation', 'Air Littoral', 'Air Taxi - Petroleum Helicopters Inc.', 'Merpati Nasantara Airlines', 'Condor Flugdienst', 'ETA - Empresa Transportes Aéreos', 'China Southwest Airlines', 'Trans Colorado AL / Continental Express', 'Military - Fuerza Aérea Panamena', 'NFD - Nurnberger Flugdienst', 'AV Air / American Eagle', 'Talia Airways', 'Commercial Airways (Comair)', 'Transport Arien Transregional', 'Arax Airlines', 'Kuwait Airways', 'Military - Cuban Air Force', 'Aloha Airlines', 'Starair', 'Lineas Aéreas Suramericanas', 'Angola Air Charter', 'Aerocaribe', 'Transporte Aereo Federal', 'Hang Khong (Vietnam)', 'Aramar', 'Shanxi Airlines', 'Uganda Airlines', 'Vayudoot', 'Aero Peru', 'Wasa Wings', 'Aero Club Libya', 'T & G Aviation', 'Military - Russian Air Force / Military - Russian Air Force', 'GAS Air', 'RAM', 'Independent Air Inc.', 'Transfair', 'Aero Condor', 'Air Ontario', 'Mid Pacific Air', 'Evergreen International Airlines', 'Europe Aero Service EAS', 'Aero Cozumel', 'Holmstoem Air', 'Surinam Airways', 'Aerotaca', 'Formosa Airlines', 'Calair', 'Air Taxi - Centre Airlines Inc.', 'Air Freight New Zealand', 'Olympic Aviation', 'RRC Air Service', 'Aspring Air', 'China Eastern Airlines', 'Partnair', 'Wehite Cap Aviation', 'Boeing KC-135E', 'USAir', 'Skylink Airlines', 'Winchester Air', 'Air Taxi - Paramount Aviation Corp.', 'TAUSA', 'Aloha Island Air', 'Weasua Air Ttansport', 'Military - Royal Lesotho Defence Force', \"Military - People's Army/ Military - Peoples Air Force\", 'Tepper Aviation', 'Lineas Aéreas Cave', 'New England Airlines', 'United Express', 'Air Fiordland', 'SANSA', 'Federal Express', 'Military - Venezuelan Navy', 'Airfast Services', 'MIAT - Mongolian Airlines', 'Military - Congolese Air Force', 'Airborne Express', 'Wiggins Airways', 'Helicopteros Nacionales de Colombia', 'Military - Zambian Air Force', 'Helicsa', 'TAN Honduras', 'Aeroperlas', 'MATS - Manila Aero Transport System', 'Frontier Air', 'Aerial Transit Company', 'Avicsa', 'Military - Luftwaffe', 'Aerolift Philippines', 'Ptarmigan Airways', 'Servicio Expresso Nacional', 'Private - Omniflight Helicopters', 'Frontier Flying Service', 'Nuna Air', 'SUDENE', 'HiTech Helicopters', 'China Southern Airlines / Xiamen Airlines', 'BAFIN', 'Bangkok Airways', 'Eitos', 'Northwest Airlines/ Northwest Airlines', 'Sudania Air Cargo', 'Lockheed AC-130H Hercules', 'USAir / Skywest Airlines', 'Military - Hellenic Air Force', 'Military - Ecuadorean Air Force', 'Ryan International Airlines', 'Fuerza Area Angolaise', 'Duncan Aircraft Sales', 'Transafrik', 'Military - U.S. Navy / Military -  U.S. Navy', 'Air Tahiti', 'Air Taxi - Air Grand Canyon Inc.', 'ADES Colombia', 'Metro Cargo', 'Lauda Air', 'Agape Flight Inc.', 'Carib Air Transport', 'AKF Polet', 'Okada Air', 'Helicol Colombia', 'Aerochasqui', \"L'Express Airlines\", 'Nationair (chartered by Nigeria Airways)', 'Vanair', 'Avalki Air', 'Temsco Airlines', 'Air Taxi - Bohemia Inc.', 'Dirgantara Air Services', 'Airtech Rajawaldi Udara', 'Continental Express', 'Canair Cargo', 'CORAL Colombia', 'EDELCA', 'Corporate Mobility Inc. - Private', 'Military - Azerbaijan Air Force', 'Nordeste Linhas Aereas', 'Air Taxi - Airis Helicopters Inc.', 'STASA', 'Tartarstan Airlines', 'Military - Força Aérea Brasileira', 'Classic Wings', 'Gambcrest', 'ATI', 'Frigorifico Santa Rita', 'Lina Congo', 'Golden Star Air Cargo', 'Kamchatavia', 'Air Bissau', 'Military - Kenyan Air Force', 'Perris Valley Aviation', 'Scenic Air Tours', 'Saha Airline Services', 'COPA (Panama)', 'Krasnoyarsk Airlines', 'Military - Sri Lanka Air Force', 'Arctic Circle Air Service', 'Military - Unified Yemen Air Force', 'Georgian Air', 'Volga-Dnepr Airlines', 'Mandala Airlines', 'Aero Eslava', 'China General Aviation Corporation', 'Servicios Aereos Santa Ana', 'Lone Star Airlines', 'Military - Peruvian Air Force - TANS', 'NewCal Aviation', 'Professional Aviation Services', 'Expresso Aéreo', 'Kamchatka Airlines', 'Air Taxi - Hawaii Helicopters Inc.', 'Aero Ejecutivos', 'Avesca Colombia', 'Yakutavia', 'Military - Federal Nigerian Air Force', 'Miltiary - U.S. Airforce', 'Wuhan Airlines', 'Kiev Production Association', 'Syktyvkar Avia', 'Vietnam Airlines', 'Aerocaribbean - Charter', 'China Southern Airlines', 'Aero Sudpacifico', 'Scibe Airlift Cargo Zaire', 'Libya Arab Airlines / Military -  Libya Air Force', 'Air Taxi - South Coast Helicopters Inc.', 'Lufthansa Cityline', 'Titan Airways', 'Trans Service Airlift', 'Pan Malaysian Air Transport', 'Iran Air Tours  /  Military - Iranian Air Force', 'Cargo Three Panama', 'Palair Macedonian', 'Oeste Linhas Aereas', 'Fiji Air', 'Carga del Caribe', 'Southwest Air', 'Tajikistan Airlines', 'Military - Georgian Air Force', 'China Northwest Airlines', 'Asiana Airlines', 'Hornbill Airways', 'Everest Air', 'Sakha Airlines', 'Transair Georgia Airlines', 'Hibiscus Air', 'China Northern Airlines', 'Magistralnye Avialinii', 'Aviaimpex (Macedonia)', 'Express Airlines - Northwest Airlink', 'Arctic Wings & Rotors', 'Air Senegal / Gambia Airways', 'Lao Aviation', 'Kuban Airlines', 'Baikal Air', 'Atlantic Coast Airlines (United Express)', 'North Western Air Transport', 'British World Airways', 'Sahara', \"Chalk's International Airlines\", 'Salair', 'Aurukun Air Services', 'Aeroflot Russian International Airways', 'Air Taxi - El Aero Services Inc.', 'KLM Cityhopper', 'Rwanda Government', 'Military - U.S. Army / Military U.S. Army', 'Rico Taxi Aero', 'Arall', 'Transoriente Colombia', 'Aerolineas Cuahonte', 'TAESA', 'Air Ivorie', 'Military - Dostum-Galboddin Militia', 'Airbus Industrie', 'Air Mauritanie', 'Air Taxi - Papillion Helicopters Ltd.', 'Air Martinique', 'Sankuru Air Service', 'Alas Chiricanas', 'Air Taxi - Uyak Air Services Inc.', 'Air Taxi - Talon Air Services Inc.', 'Air Taxi - National Helicopters', 'Aerocontroctors - Charter', 'Oriental Airlines', 'Heavylift Cargo Airlines', 'Cheremshanka Airlines', 'TAM Paraguay', 'Arsenyev Aviation Production Association', 'SELVA', 'Iran Asseman Airlines', 'Transportes Aereos Pegaso', 'Trigana Air Service', 'SA Amazonica', 'Ameriflight', 'SL Aviation Services', 'Servivensa', 'Phoenix Aviation', 'Intercontinental de Aviacion', 'Air Taxi - Wolfe Air Aviation Ltd.', 'Abakan Airlines', 'Leadair - Charter', 'TAROM (Transporturile Aeriene Romane)', 'Bearskin Airlines / Air Sandy', 'American Jet', 'Knight Air', 'LACOL', 'Senegalair', 'Ansett New Zealand', 'Volga Air', 'Harka Air Services', 'Garamut Aviation', 'Milne Bay Air', 'Military - Madagascar Air Force', 'Transniugini Airways', 'Aero Air', 'Bourag Indonesia Airlines', 'North Star Air Cargo', 'Adventure Airlines', 'Norilsk Flight Company', 'Western Straits Air', 'Sabang Merauke Raya Air Charter', 'Kirghizia Aba Zaoldoru', 'Azerbaijan Airlines', 'Azerbaijani Airlines', 'Far East Aviation', 'Romanian Banat Air', 'Mustique Airways', 'African Air', 'Military - Nigerian Air Force', 'Lineas Aereas del Caribe', 'Business Air Connection', 'Alas Nacionales, leased from Birgen Air', 'Military - Taliban Militia', 'Hati Express', 'Military - Sudanese Air Force', 'Aero Tropical', 'Compania de Aviacion Faucett SA (Peru)', 'Military - Peruvian Army Aviation', 'Akhal Air', 'Krasnoyarskie Avialinii', 'Federal Airlines', 'Buffalo Narrows Airways', 'Aeroservicios Empresariales de Durango', 'ValuJet', 'Hoseba', 'Military - Australian Army Aviation', 'China Flying Dragon Aviation (Feilong Airlines)', 'Archana Airlines', 'Aerolatino (Aerocaribe)', 'Northern Air Cargo', 'Myanmar Airways', 'First Air', 'Air North', 'Harbour Air', 'Spair Air Transport', 'Vnokovo Airlines', 'Dutch Dakota Association', 'Aeroperu', 'Malu Aviation', 'Savanair', 'Million Air', 'Tyumen Aviatrans', 'Transported Areos Profesionales - TAPSA', 'Aviation Development Corporation', 'Jetcom S.A.', 'Saudi Arabian Airlines / Kazakhstan Airlines', 'Komi Avia', 'United Express  / Private', 'Emery Worldwide', 'Aircraft Charter Group Inc', 'Southcentral Air', 'Skypower Express Airways', 'Air Senegal', 'Force Area Populaire de Angola', 'Military - Israel Air Force /Military -  Israel Air Force', 'Transpolar', 'ALADA', 'Stavropol Airlines', 'Custom Air Service', 'Hageland Aviation Services', 'Military - Niger Air Force', 'Bazair', 'Elbee Airlines', 'Military - Colombian Army', 'Sempati Air', 'Goroka Air Services', 'ADC Airlines', 'Fine Air', 'Borneo Airways', 'TMK Air Commuter', 'Military - Luftwaffe / Military - USAF', 'Scenic Airlines', 'Sowind Air', 'STAP', 'Aerosweet Airlines (LVOV)', 'SilkAir', 'Military - Greek Air Force', 'Renan Airways', 'Parsa', 'Aeroservice International', 'Military - Ariana Afghan Airlines', 'Cebu Pacific Air', 'Air Luxor', 'Military - Sudan Air Force', 'Air Memphis', 'Linea Aérea Mexicana de Carga', \"Military - Lao People's Liberation Army Air Force\", 'Air Taxi - US Helicopters Inc.', 'Propair', 'Air Taxi - Ohana Helicopter Tours', 'ATI Aircompany', 'Alas del Sur', 'Ukraine Aviation Transport Company', 'Plane Sailing', 'Swifair', 'Selva Taxi Aero', 'Proteus Air / Private', 'Alliance Airlines', 'Harbour Air Seaplanes Ltd.', 'Alada', 'Vincent Aviation', 'Lumbini Airways', 'Speed Service Couriers', 'Permaviatrans', 'Rusts Flying Service Inc.', 'Paukn Air', 'Cabo Verde Airlines', 'Lionair', 'Congo Airline', 'Ararat Avia', 'TanaMana Aviation', 'Living Water Teaching Ministries Charter', 'Air Satellite', 'Khors Aircompany', 'Zanex', 'Transafrik - United Nations Charter', 'Channel Express', 'Military - German Air National Guard', 'Kelowna Flightcraft Air Charter', 'Uzu Air', 'Fuerza Aérea Nicaragua', 'Savannair', 'Airlink', 'Air Karibu', 'Minerva Airlines', 'ALIANSA Colombia', 'Provincial Airlines', 'Manacá Táxi Aéreo', 'Korean Air', 'Military - Malaysian Air Force', 'Malindi Air Services', 'Pacific Airways', 'Air Taxi - Coastal Helicopters Inc.', 'Blue Water Aviation Services', 'LANC Colombia', 'Lufthansa Cargo Airlines', 'Aero Jet Express', 'Air Fiji', 'TACV-Cabo Verde Airlines', 'Uni Air', 'Uzbekistan Airways', 'LAPA, Lineas Aereas Privadas Argentinas', 'Necon Air', 'Greek Government', 'Norte Jet Táxi Aéreo', 'Aramco Associated Company', 'Military - Venezuelan Army', 'Si Fly - U.N. charter', 'Tashkent Aircraft Production Corporation', 'Asian Spirit', 'Skyline Airways', 'Ecuato Guineana de Aviacion', 'Crossair', 'Avisto', 'Kenya Airways', 'Military - Islamic Republic of Iran Air Force', 'Southwest Airlines', 'Vologodskiye Airlines', 'Points North Air Services', 'Military - Ejército del Aire', 'Sky Cabs', 'Uralex', 'Military - Sri Lankan Air Force', 'Bankair', 'Air Philippines', 'Military - Centrafricain Airlines', 'North Coast Aviation', 'Northern Executive Aviation', 'Trans Guyana Airways', 'Price Aircraft Company', 'Avirex', 'Executive Airlines', 'Whyalla Airlines', 'Ghana Airlink', 'Universal Jet Aviation', 'Military - Japanese Air Self-Defence Force', 'Win Win Aviation', 'Indian Airlines/Alliance Airlines', 'Airwave Transport', 'Allied Air Freight', 'Blue Hawaiian Helicopters', 'Air taxi - Lider Air Taxi', 'Military - Fuerza Aérea de Chile', 'Patuxent Airways / Private', 'Staer Air', 'Military - Fuerza Aérea Colombiana', 'Charter - Central Air', 'Summit Air Charters', 'Bombardier Aerospace', 'Singapore Airlines', 'Aca-Ancargo', 'Superior Aviation', 'Asa Pesada', 'Servicio Aereo Manchupo', \"Military - People's Liberation Army\", 'Military - Tentara Nasional Indonesia Navy', 'Majestic Air Cargo', 'Rutaca Airlines', 'North Bay Charter', 'Lineas Aereas Suramericanas', 'E.A.S. Aeroservizi', 'Northern Illinois Flight Center', 'Gum Air Charter', 'Military - Florida Army National Guard', 'Vnukovo Airlines', 'Air Caraibes', 'Jetwingsco Inc. - Private Charter', 'SFC Vietnam - Charter - Full Account', 'Private - Techint  group', 'Faraz Qeshm Airlines', 'Manunggal Air', 'Vladivostokavia', 'Private  - Daewoo Shipbuilding', 'Private - Overtec Company', 'Russ Air Transport Company', 'Naske Air', 'Papillon Grand Canyon Helicopters of Las Vegas', 'Victoria Airlines', 'Ameristar Jet Charter', 'Air Transat', 'Binter Mediterráneo', 'Aero Ferinco Charter', 'Atlantic Airlines', 'Sibir Airlines', 'Air Saint Maurice Inc.', 'Scandinavian Airlines (SAS) / Private', 'Flightline', 'PenAir', 'Perimeter Airlines', 'ERA Aviation - Air Taxi', 'Charter - IRS Aero', 'ELK Aviation Co. (leased from Eminex)', 'MK Airlines', 'Military - Russian, cargo', 'Eagle Air', 'Heliandes', 'BAL Bremerhaven Airline', 'Agco Corp', 'Ibertrans Aérea', 'Procuraduría General de la República', 'Petroproducción', 'Military - Angolan  Air Force', 'Iran Air Tours', 'Tiramavia', 'Svedijos Prekés', 'Charter - Aerotaxi', 'Djibouti Airlines', 'Tadair', 'Air China', 'SELVA Colombia', 'EAS Airlines (Executive Airline Services)', 'Sky Executive Air Services', 'Airquarius Aviation - Charter', 'Military - Angolan Armed Forces', 'Bashkirian Airlines / DHL Worldwide Express', 'Prestige Airlines (Cargo) Charter', 'Military - Ukraine Air Force', 'Pulkovo Aviation Enterprise', 'Shangri La Air', 'Vostok Aviakompania', 'Rico Taxi Aéreo', 'Total  Air Lines', 'Deraps Aviation', 'Military - Indian Navy', 'Luxair', 'Richmor Aviation', 'Laoag International Airlines', 'Island Airways Ltd.', 'Planemasters', 'Transasia Airways', 'Aeromist-Kharkiv', 'Ocean Airlines', 'US Air Express/Air Midwest', 'TANS Airlines', 'Aerocom', 'African Commuter Services', 'Euro Asia Aviation', 'Volare Aviation Enterprise', 'Enimex', 'Air Taxi - Great Northern Aircraft Co.', \"Military - Islamic Revolution's Guards Corps\", 'Private - Kabanov - skydiving', 'PT Air Regional', 'Morris Hancock Flying Club - Charter', 'Ukrainian Cargo Airlines -  Congolese Army Charter', 'Ukranian-Mediterranean Airlines', 'McKinley Air Service - Air Taxi', 'Eurojet Italila', 'Air Taxi - Marco Zero Air Taxi', 'Charter - Air Adventures New Zealand Ltd', 'Astro Air Taxi', 'Paradise Tour Helicopters', 'Brit Air', 'Hallo Bay Air - Air Taxi', 'Comvac Aviation', 'Military - Algerian Air Force', 'Heringer Air Taxi', 'BHS - Brazilian Helicopter Services', 'Ruiban & Duran Compania Aérea', 'Air Sunshine', 'Ryan Blake Air Charter', 'Jack Harter Helicopters', 'Jet Pro', 'Servicios Aeronauticos Sucre (SASCA)', 'Hageland Aviation Services Inc.', 'Khalatyrka', 'Tropical Airways', 'US Airways Express', 'Wasaya Airways', 'Sundance Helicopters', 'Les Ailes de Gaspé Inc.', 'Air taxi - Rumo Notre Air Taxi', 'Transmandu', 'CATA Linea Aerea', 'Aeroextra', 'FedEx', 'Heliwork WA Pty Ltd. - Air Taxi', 'Huron Air', 'Líneas Aéreas Suramericanas', 'Pavair', 'Union des Transports Aeriens de Guinee', 'Flash Air', 'Military - Government of Macedonia', 'Kish Airlines', 'Azov Avia Airlines', 'Air Ambulance - Med-Trans Corp.', 'Procuradoria General de la Republica', 'Aerotransportes Petroleros', 'Charter - Air Cush', 'El Magal Aviation', 'Rico Linhas Aereas', 'AZAL Cargo Company', 'Aray-Avia', 'Blue Bird Aviation', 'Yeti Airlines', 'Gabon Express', 'United Nations -  UTair Charter', 'Dodita Air Cargo', 'BHS - Brazilian Helicopter Service  Air Taxi', 'Airlines of PNG', 'Air Taroma', 'Volga-Avia Express', 'Mavrik Aire Transport', 'Jett Paqueteria SA', 'Military - Greek Army', 'Air Flamence', 'Sarit Airlines', 'Pinnacle Airlines/Northwest Airlink', 'Aerovanguardia', 'Pacific Air', 'Corporate Airlines (American Connection)', 'Med Flight Air Ambulance - Private', 'Private - Hendrick Motorsports Inc.', 'Venezolana', 'Business Jet Services', 'Presidental Airways Inc. - Air Taxi', 'Glow Air/Air Castle - Charter', 'Lion Air', 'Guardia Nacional de Venezuela', 'Airline Transport', 'NHR Táxi-Aéreo', 'Tura Air Enterprise', 'Military - Colombian government', 'AirNow', 'Military - U.S. Marines', 'Farnair Hungary', 'Kam Air', 'Air West', 'Circuit City Stores - Charter', 'Indonesian National Police', 'Air Global', 'Regional Airlines', 'West Caribbean Airways', 'GT Air', 'Military - Bulgarian', 'Military - Fuerza Del Peru', 'Airwork NZ', 'Kisangani Airlift', 'Aero-Tropics', 'Transportes Aereos Don Carlos - Charter', 'Military - Zambia Air Force', 'Charter - Maniema Union (owner Victoria Air)', 'Marsland Aviation', 'Ecuatair', 'Tuninter', 'Copterline', 'Helios Airways', 'TANS Peru', 'Kavatshi Airlines', 'Air Kasai', 'Wimbi Dira Airways', 'Bellview Airlines', 'Sosoliso Airlines', \"Chalk's Ocean Airways\", 'Evolga', 'Military - US Army', 'Service Air', 'Military - Iranian Revolutionary Guard Corps Air Force', 'Military - Slovak Air Force', 'Air Cargo Carriers', 'TriCoastal Air', 'Team Air', 'Military - Kenya Air Force', 'Military - Lybian Arab Air Force', 'U.S. Government (leased)', 'Armavia', 'Saskatchewan Government Northern Air Operations', 'Air São Tomé', 'Military - Chadian Air Force', 'Mango Airlines', 'Sibir (S7)', 'Afghan Army', 'Tracep', 'Pulkovo Airlines', 'Military - Russian Army', 'Gol Airlines / Private', 'Atlantic Airways', 'Military - Russian Air Force/Uzbekistan Airways', 'Air ambulance - Mercy Air Services', 'Adam Air', 'Moldovan Aeriantur-M Air Cargo', 'Regional Compagnie Aerienne Europeenne', 'Heli-USA Airways', 'Inter-Island', 'Bahia Taxi Aéreo\\r\\t\\rBahia Taxi Aéreo\\r\\t\\rBahia Taxi Aéreo', 'UTAir Airlines', 'Transaviaexport Airlines', 'Air Services', 'Military - Russian', 'Safe Air Complany', 'Paramount Airlilnes', 'University of Michigan Health System', 'Mongolian Defense Ministry', 'Karibu Airways', 'PMT Air', 'Liard Air', 'Taquan Air Service', 'Atran', 'Air Moorea', 'SeaWind Aviation', 'China Airlines', 'Two Taxi Aero', 'Great Lakes Business Complany', 'Galaxy Kavatsi Airlines', 'One-Two-Go Airlines', 'Africa One Congo', 'Nacional de Aviacion', 'Juba Air Cargo', 'Atlasjet Airlines', 'Evergreen Alaska Helicopters, Inc.', 'Castle Aviation', 'Transaven', 'Military - Macedonian Air Force', 'Military - Polish Air Force', 'Dirgantara Air Service', 'Santa Barbara Airlines', 'BHS - Brazilian Helicopter Service Air Taxi', 'United Nations Mission', 'Blue Wing Airlines', 'Avtex Air Services', 'Kata Transportation', 'Hewa Bora Airways', 'Military - Government of Equatorial Guinea', 'Naftogaz', 'Chelan Air Service', 'Island Express Helicopter Service', 'Moskovia Airlines', 'Military - Servicio Aereo Nacional', 'TACA International Airlines', 'PHI Air Medical', 'Military - Thai Army', 'Air Methods / Classic Helicopters', 'Ababeel Aviaition', 'USA Jet Airlines', 'Centurian Air Cargo', 'East Coast Jets', 'Junction City Fire Department', 'Fly 540', 'Spanair', 'Itek Air', 'Conviasa', 'Air Tahoma', 'Aerogulf', 'Global Executive Aviation', 'Maryland State Police', 'Air Angles Inc.', 'Falcon Aviation Group', 'XL Airways leased from Air New Zealand', 'Webstas Aviation Services Inc.', 'Rotorcraft Leasing Co', 'Alantis Aviation', 'Empire Airlines leased from FedEx', 'Petroleum Helicopters Inc', 'US Airways', 'Aerotaxi Manaus', 'Continental Connection/Colgan Air', 'Flight Service', 'Aerolift', 'Turkish Airlines', 'Cougar Helicopters', 'Eagle Cap Leasing', 'Bond Offshore Helicopters', 'Aviastar Mandiri', 'Bako Air', 'Strait Air', 'Yemenia Airway', 'Military - Pakistan Army', 'Caspian Airlines', 'Vertical-T Air', 'Aria Airlines', 'Bangkok Airlines', 'Liberty Helicopter Sightseeing Tours / Private', 'Airlines  PNG', 'Aero Fret Business', 'Military - Kazakhstan border guard service', 'SA Airlink', 'Omniflight Helicopters Inc.', 'Victoria Air', 'Azzi', 'Divi Divi Air', 'Russian Ministry of Interior', 'Rwandair', 'Mountain Lifeflight', 'Avient Aviation', 'Seair Seaplanes', 'Alaska Central Express', 'Piquiatuba Taxi Aereo', 'Military - Yemeni Arm', 'Airborne Freight Company Union', 'Interisland Airlines', 'Afriqiyah Airways', 'Blue Wings Airlines', 'Pamir Airlines', 'Air India Express', 'Aero Service', 'Aéropro', 'Military - Romainian Air Force', 'Airblue', 'All West Freight', 'Katekavia Airline', 'GCI Communications Corp.', 'Branch River Air Service', 'Agni Air', 'Henan Airlines', 'Filair', 'Military - Venezuelan National Guard', 'United Parcel Service- UPS', 'Sky Dive New Zealand', 'Conviasa\\xa0Airline', 'International Security Assistance Force', 'Military - Tajik National Guard', 'National Air Cargo', 'Aerocaribbean', 'JS Air', 'NARZ', 'Sun Way', 'Dagestan Airlines', 'Tara Air', 'Kogalmavia', 'Majuba Aviation', 'Manx2', 'Central American Airways', 'Trans Air Cargo', 'Pawan Hans Helicopters Ltd.', 'AmazonavesAir Taxi', 'SOL Lineas Aereas', 'RusAir Airlines', 'Silk Way Airlines', 'Angara Airlines', 'NOAR Linhas Aéreas', 'Military - Royal Moroccan Air Force', 'Avis Amur', 'LifeNet', 'Chilean Air Force', 'Aerocon', 'YAK Service', 'Military - FANA Forca Aerea Nacional Angolana', 'Private - Aero Trans Corp', 'Arctic Sunwest Charters', 'Buddha Air', 'Nusantara Buana Air', 'Airline PNG', 'Northern Thunderbird Air Inc.', 'Blue Hawaiian Helicopter', 'Fuerza Aerea Mexicana', 'Sundance Helicopters Inc.', 'TRACEP Congo Aviation', 'Jet One Express', 'Military - Turkish Army (NATO)', 'UTAir', 'Bhoja Airlines', 'Military -Fuerza Aerea Colombiana', 'Sukhoi', 'Allied Air', 'Dana Air', 'HeliCusco', 'Illegal flight', \"Aviatour's Fly'n Inc.\", 'Alfa Airlines', 'Petropavlovsk-Kamchatsky Air Enteprise', 'Sita Air', 'Fly Montserrat', 'Military - Yemen Air Force', 'Starwood Management LLC', 'Military - Kazakhstan Border Guards', 'Air Bagan', 'Red Wings Airlines', 'Med-Trans Corporaion', 'Transaereo 5074', 'SCAT Air', 'South Airlines', \"Compagnie Africaine d' Aviation (CAA)\", 'Ace Air Cargo', 'Ornge Air Ambulance', 'Rediske Air', 'United Parcel Service', 'Associated Aviation', 'MASwings', 'Lao Airlines', 'Military - Indonesian Army', 'Bearskin Airlines', 'Tararstan Airlilnes', 'Bond Air Services Ltd.', 'Mozambique Airline', 'Heringer Taxi Aero', 'IrAvia', 'Scoala Superioara de Aviatie Civla', 'Nepal Airlines', 'Libyan Air Cargo', 'Helicopters Inc / KOMO TV', 'Lineas Aereas Comerciales', 'Suomen Urheiluilmailijat', 'Alisansa Colombia', 'Laos Air Force', 'Skyward International Aviation', \"Military - Vietnam People's Army Air Force\", 'TransAsia Airways', 'Sepahan Airlines', 'Ukraine Air Alliance', 'Safari Express Cargo', 'Hevlift', 'Air Evac Lifeteam', 'Air Sirin', 'AirAsia', 'Syrian Air Force', 'Transasia', 'Germanwings', 'Promech Air', 'Military - Colombia Air Force', 'Komala Air', 'Rainbow King Lodge', 'Avistar Mandari', 'Metrojet', 'Allied Services Limited', 'Alpine Adventures', 'Turuhan Avia', 'West Air Sweden', 'Daallo Airlines', 'Kasthamandap Airlines', 'True Aviation Ltd.', 'Military - Ecuador Army', 'Flydubai', 'Marquise Aviation Corp.', 'Smoky Mountain Helicopters', 'Sunbird Aviation', 'CHC Helikopter Service', 'Heart of Texas Hot Air Balloon Rides', 'Emirates', 'Hageland Aviiation', 'AE Aviation', 'LAMIA Bolivia', 'Indonesian Police', 'Indonesian Air Force', 'Russian Air Force', 'My Cargo Airlines (ACT Airlines)', 'Australian Corporate Jet Centres PTY. LTD', 'Swan Aviation', 'ETA Air Charter', 'Summit Air', 'Military - Myanmar Air Force', 'Angel Flight', 'USMC', 'Air Force of the Democratic Republic of the Congo', 'Guicango', 'Valan International Cargo Charter', 'Costal Aviation', 'West Wind Aviation', 'Naure Air', \"People's Liberation Army Air Force\", 'Papillon', 'Saratov Airlines', 'Iran Aseman Airlines', 'Liberty Helicopters', 'Mc Aviation', 'US-Bangla Airlines', 'Cubana (leased from Global Air)', 'Fly SAX', 'Rovos Air', 'Ju Air', 'Air Niugini', 'Fly Jamaica Airways', 'Saha Air', 'Atlas Air serving Amazon', 'Laser Aereo Colombia', 'Archipelagos Service Aereos', 'TVPX Aircraft Solutions', 'Aeroflot Russian International Airlines', 'Busy Bee Congo', 'Bek Air', 'Sudanese Air Force', 'Ukraine International Airlines', 'Pegasus Airlines', 'Lion Air Inc.', 'Pakistan International Airline', 'Air India Exppress', 'South West Aviaiton', 'Sriwijaya Air', 'South Sudan Supreme Airlines', 'Soloy Helicopters', 'Kamchatka Aviation Enterprise']\n"
     ]
    }
   ],
   "source": [
    "#Visualizamos los distintos operadores\n",
    "datos_operador = aviones_db[\"OperadOR\"].unique().tolist()\n",
    "print(datos_operador)"
   ]
  },
  {
   "cell_type": "code",
   "execution_count": 55,
   "metadata": {},
   "outputs": [],
   "source": [
    "#Creamos la nueva columna \n",
    "aviones_db[\"militar\"] = aviones_db[\"OperadOR\"].str.contains(r\"military|force\", case=False).astype(int)"
   ]
  },
  {
   "cell_type": "code",
   "execution_count": 56,
   "metadata": {},
   "outputs": [
    {
     "name": "stdout",
     "output_type": "stream",
     "text": [
      "4202\n"
     ]
    }
   ],
   "source": [
    "#Observamos cuantos aviones no militares hay\n",
    "no_militar = aviones_db[\"militar\"].value_counts().get(0, 0)\n",
    "print(no_militar)"
   ]
  },
  {
   "attachments": {},
   "cell_type": "markdown",
   "metadata": {},
   "source": [
    "Aproximadamente el 15% de los aviones son militares"
   ]
  },
  {
   "cell_type": "code",
   "execution_count": 57,
   "metadata": {},
   "outputs": [
    {
     "data": {
      "text/plain": [
       "fecha                     31\n",
       "HORA declarada            22\n",
       "Ruta                      31\n",
       "OperadOR                  31\n",
       "route                     31\n",
       "ac_type                   31\n",
       "registration              31\n",
       "all_aboard                31\n",
       "cantidad de fallecidos    31\n",
       "ground                    31\n",
       "summary                   31\n",
       "militar                   31\n",
       "dtype: int64"
      ]
     },
     "execution_count": 57,
     "metadata": {},
     "output_type": "execute_result"
    }
   ],
   "source": [
    "#Observamos si hay una cantidad significativa de vuelos privados\n",
    "private = aviones_db.loc[aviones_db[\"OperadOR\"] == \"Private\"]\n",
    "private.count()"
   ]
  },
  {
   "attachments": {},
   "cell_type": "markdown",
   "metadata": {},
   "source": [
    "Luego de visualizar el archivo, llegamos a la conclusion de que la columna \"ruta\" es el lugar del accidente y que la columna \"route\" es el camino que recorre el avion. \n",
    "Vamos a analizar las dos columnas."
   ]
  },
  {
   "cell_type": "code",
   "execution_count": 58,
   "metadata": {},
   "outputs": [
    {
     "data": {
      "text/plain": [
       "fecha                     5\n",
       "HORA declarada            0\n",
       "Ruta                      5\n",
       "OperadOR                  5\n",
       "route                     5\n",
       "ac_type                   5\n",
       "registration              5\n",
       "all_aboard                5\n",
       "cantidad de fallecidos    5\n",
       "ground                    5\n",
       "summary                   5\n",
       "militar                   5\n",
       "dtype: int64"
      ]
     },
     "execution_count": 58,
     "metadata": {},
     "output_type": "execute_result"
    }
   ],
   "source": [
    "#Observamos nulos\n",
    "ruta_nulos = aviones_db.loc[aviones_db[\"Ruta\"] == \"Sin Dato\"]\n",
    "ruta_nulos.count()"
   ]
  },
  {
   "cell_type": "code",
   "execution_count": 59,
   "metadata": {},
   "outputs": [
    {
     "data": {
      "text/plain": [
       "fecha                     5\n",
       "HORA declarada            0\n",
       "Ruta                      5\n",
       "OperadOR                  5\n",
       "route                     5\n",
       "ac_type                   5\n",
       "registration              5\n",
       "all_aboard                5\n",
       "cantidad de fallecidos    5\n",
       "ground                    5\n",
       "summary                   5\n",
       "militar                   5\n",
       "dtype: int64"
      ]
     },
     "execution_count": 59,
     "metadata": {},
     "output_type": "execute_result"
    }
   ],
   "source": [
    "#Observamos nulos\n",
    "route_nulos = aviones_db.loc[aviones_db[\"route\"] == \"Sin Dato\"]\n",
    "ruta_nulos.count()"
   ]
  },
  {
   "attachments": {},
   "cell_type": "markdown",
   "metadata": {},
   "source": [
    "Vamos a eliminar la columna \"ruote\" y ver que pasa en los 5 registros sin \"Ruta\""
   ]
  },
  {
   "cell_type": "code",
   "execution_count": 60,
   "metadata": {},
   "outputs": [],
   "source": [
    "#Eliminamos la columna\n",
    "aviones_db.drop([\"route\"], axis=1, inplace=True)"
   ]
  },
  {
   "cell_type": "code",
   "execution_count": 61,
   "metadata": {},
   "outputs": [
    {
     "data": {
      "text/html": [
       "<div>\n",
       "<style scoped>\n",
       "    .dataframe tbody tr th:only-of-type {\n",
       "        vertical-align: middle;\n",
       "    }\n",
       "\n",
       "    .dataframe tbody tr th {\n",
       "        vertical-align: top;\n",
       "    }\n",
       "\n",
       "    .dataframe thead th {\n",
       "        text-align: right;\n",
       "    }\n",
       "</style>\n",
       "<table border=\"1\" class=\"dataframe\">\n",
       "  <thead>\n",
       "    <tr style=\"text-align: right;\">\n",
       "      <th></th>\n",
       "      <th>fecha</th>\n",
       "      <th>HORA declarada</th>\n",
       "      <th>Ruta</th>\n",
       "      <th>OperadOR</th>\n",
       "      <th>ac_type</th>\n",
       "      <th>registration</th>\n",
       "      <th>all_aboard</th>\n",
       "      <th>cantidad de fallecidos</th>\n",
       "      <th>ground</th>\n",
       "      <th>summary</th>\n",
       "      <th>militar</th>\n",
       "    </tr>\n",
       "  </thead>\n",
       "  <tbody>\n",
       "    <tr>\n",
       "      <th>360</th>\n",
       "      <td>1934-12-31</td>\n",
       "      <td>NaT</td>\n",
       "      <td>Sin Dato</td>\n",
       "      <td>Aeroflot</td>\n",
       "      <td>Tupolev ANT-9</td>\n",
       "      <td>Sin Dato</td>\n",
       "      <td>10</td>\n",
       "      <td>10</td>\n",
       "      <td>0</td>\n",
       "      <td>Crashed under unknown circumstances.</td>\n",
       "      <td>0</td>\n",
       "    </tr>\n",
       "    <tr>\n",
       "      <th>465</th>\n",
       "      <td>1937-06-20</td>\n",
       "      <td>NaT</td>\n",
       "      <td>Sin Dato</td>\n",
       "      <td>ENTA</td>\n",
       "      <td>Travel Air 6000</td>\n",
       "      <td>TI-3</td>\n",
       "      <td>6</td>\n",
       "      <td>6</td>\n",
       "      <td>0</td>\n",
       "      <td>Hit trees and crashed in an isolated area loca...</td>\n",
       "      <td>0</td>\n",
       "    </tr>\n",
       "    <tr>\n",
       "      <th>646</th>\n",
       "      <td>1942-08-21</td>\n",
       "      <td>NaT</td>\n",
       "      <td>Sin Dato</td>\n",
       "      <td>Deutsche Lufthansa</td>\n",
       "      <td>Siebel Si-204</td>\n",
       "      <td>Sin Dato</td>\n",
       "      <td>4</td>\n",
       "      <td>4</td>\n",
       "      <td>0</td>\n",
       "      <td>Lufthansa chairman, Von Gablenz killed.</td>\n",
       "      <td>0</td>\n",
       "    </tr>\n",
       "    <tr>\n",
       "      <th>999</th>\n",
       "      <td>1947-11-27</td>\n",
       "      <td>NaT</td>\n",
       "      <td>Sin Dato</td>\n",
       "      <td>China National Aviation Corporation</td>\n",
       "      <td>Douglas DC-3</td>\n",
       "      <td>Sin Dato</td>\n",
       "      <td>3</td>\n",
       "      <td>2</td>\n",
       "      <td>0</td>\n",
       "      <td>The cargo plane was shot down by communist ant...</td>\n",
       "      <td>0</td>\n",
       "    </tr>\n",
       "    <tr>\n",
       "      <th>2895</th>\n",
       "      <td>1977-01-20</td>\n",
       "      <td>NaT</td>\n",
       "      <td>Sin Dato</td>\n",
       "      <td>North Canada Air</td>\n",
       "      <td>Bristol 170 Freighter 31M</td>\n",
       "      <td>C-FWAD</td>\n",
       "      <td>2</td>\n",
       "      <td>1</td>\n",
       "      <td>0</td>\n",
       "      <td>The cargo plane stalled nearly vertical and cr...</td>\n",
       "      <td>0</td>\n",
       "    </tr>\n",
       "  </tbody>\n",
       "</table>\n",
       "</div>"
      ],
      "text/plain": [
       "          fecha HORA declarada      Ruta                             OperadOR  \\\n",
       "360  1934-12-31            NaT  Sin Dato                             Aeroflot   \n",
       "465  1937-06-20            NaT  Sin Dato                                 ENTA   \n",
       "646  1942-08-21            NaT  Sin Dato                   Deutsche Lufthansa   \n",
       "999  1947-11-27            NaT  Sin Dato  China National Aviation Corporation   \n",
       "2895 1977-01-20            NaT  Sin Dato                     North Canada Air   \n",
       "\n",
       "                        ac_type registration  all_aboard  \\\n",
       "360               Tupolev ANT-9     Sin Dato          10   \n",
       "465             Travel Air 6000         TI-3           6   \n",
       "646               Siebel Si-204     Sin Dato           4   \n",
       "999                Douglas DC-3     Sin Dato           3   \n",
       "2895  Bristol 170 Freighter 31M       C-FWAD           2   \n",
       "\n",
       "      cantidad de fallecidos  ground  \\\n",
       "360                       10       0   \n",
       "465                        6       0   \n",
       "646                        4       0   \n",
       "999                        2       0   \n",
       "2895                       1       0   \n",
       "\n",
       "                                                summary  militar  \n",
       "360                Crashed under unknown circumstances.        0  \n",
       "465   Hit trees and crashed in an isolated area loca...        0  \n",
       "646             Lufthansa chairman, Von Gablenz killed.        0  \n",
       "999   The cargo plane was shot down by communist ant...        0  \n",
       "2895  The cargo plane stalled nearly vertical and cr...        0  "
      ]
     },
     "execution_count": 61,
     "metadata": {},
     "output_type": "execute_result"
    }
   ],
   "source": [
    "#Observamos los registros sin dato en \"Ruta\"\n",
    "sin_ruta = aviones_db.loc[aviones_db[\"Ruta\"] == \"Sin Dato\"]\n",
    "sin_ruta.head()"
   ]
  },
  {
   "attachments": {},
   "cell_type": "markdown",
   "metadata": {},
   "source": [
    "Observamos que les faltan varios datos y que son vuelos de mucha antiguedad, por lo que los vamos a eliminar."
   ]
  },
  {
   "cell_type": "code",
   "execution_count": 62,
   "metadata": {},
   "outputs": [],
   "source": [
    "# Eliminamos los registros de la columna \"Ruta\" que sean iguales a \"Sin Dato\"\n",
    "aviones_db.drop(aviones_db[aviones_db[\"Ruta\"] == \"Sin Dato\"].index, inplace=True)"
   ]
  },
  {
   "attachments": {},
   "cell_type": "markdown",
   "metadata": {},
   "source": [
    "Columna \"HORA declarada\".\n",
    "Vamos a definir si fue nocturno o diurno. \n",
    "Desde las 07:00 hasta las 18:59 sera considerado diurno, desde las 19:00 a las 06:59 sera nocturno. "
   ]
  },
  {
   "cell_type": "code",
   "execution_count": 63,
   "metadata": {},
   "outputs": [],
   "source": [
    "#Creamos la nueva columna con el horario\n",
    "aviones_db[\"horario\"] = np.where(\n",
    "    aviones_db[\"HORA declarada\"].isna(),  # Verificar si el valor es nulo\n",
    "    \"Sin Dato\",  # Valor a asignar si es nulo\n",
    "    np.where(\n",
    "        aviones_db[\"HORA declarada\"].between(pd.to_datetime(\"07:00:00\").time(), pd.to_datetime(\"18:59:00\").time()),\n",
    "        \"Diurno\",\n",
    "        np.where(\n",
    "            aviones_db[\"HORA declarada\"].between(pd.to_datetime(\"19:00:00\").time(), pd.to_datetime(\"23:59:59\").time()) |\n",
    "            aviones_db[\"HORA declarada\"].between(pd.to_datetime(\"00:00:00\").time(), pd.to_datetime(\"06:59:00\").time()),\n",
    "            \"Nocturno\",\n",
    "            \"\"\n",
    "        )\n",
    "    )\n",
    ")"
   ]
  },
  {
   "cell_type": "code",
   "execution_count": 64,
   "metadata": {},
   "outputs": [],
   "source": [
    "#Eliminamos la columna hora\n",
    "aviones_db.drop([\"HORA declarada\"], axis=1, inplace=True)"
   ]
  },
  {
   "cell_type": "code",
   "execution_count": 65,
   "metadata": {},
   "outputs": [
    {
     "data": {
      "text/html": [
       "<div>\n",
       "<style scoped>\n",
       "    .dataframe tbody tr th:only-of-type {\n",
       "        vertical-align: middle;\n",
       "    }\n",
       "\n",
       "    .dataframe tbody tr th {\n",
       "        vertical-align: top;\n",
       "    }\n",
       "\n",
       "    .dataframe thead th {\n",
       "        text-align: right;\n",
       "    }\n",
       "</style>\n",
       "<table border=\"1\" class=\"dataframe\">\n",
       "  <thead>\n",
       "    <tr style=\"text-align: right;\">\n",
       "      <th></th>\n",
       "      <th>fecha</th>\n",
       "      <th>Ruta</th>\n",
       "      <th>OperadOR</th>\n",
       "      <th>ac_type</th>\n",
       "      <th>registration</th>\n",
       "      <th>all_aboard</th>\n",
       "      <th>cantidad de fallecidos</th>\n",
       "      <th>ground</th>\n",
       "      <th>summary</th>\n",
       "      <th>militar</th>\n",
       "      <th>horario</th>\n",
       "    </tr>\n",
       "  </thead>\n",
       "  <tbody>\n",
       "    <tr>\n",
       "      <th>0</th>\n",
       "      <td>1908-09-17</td>\n",
       "      <td>Fort Myer, Virginia</td>\n",
       "      <td>Military - U.S. Army</td>\n",
       "      <td>Wright Flyer III</td>\n",
       "      <td>Sin Dato</td>\n",
       "      <td>2</td>\n",
       "      <td>1</td>\n",
       "      <td>0</td>\n",
       "      <td>During a demonstration flight, a U.S. Army fly...</td>\n",
       "      <td>1</td>\n",
       "      <td>Diurno</td>\n",
       "    </tr>\n",
       "    <tr>\n",
       "      <th>1</th>\n",
       "      <td>1909-09-07</td>\n",
       "      <td>Juvisy-sur-Orge, France</td>\n",
       "      <td>Sin Dato</td>\n",
       "      <td>Wright Byplane</td>\n",
       "      <td>SC1</td>\n",
       "      <td>1</td>\n",
       "      <td>1</td>\n",
       "      <td>0</td>\n",
       "      <td>Eugene Lefebvre was the first pilot to ever be...</td>\n",
       "      <td>0</td>\n",
       "      <td>Sin Dato</td>\n",
       "    </tr>\n",
       "    <tr>\n",
       "      <th>2</th>\n",
       "      <td>1912-07-12</td>\n",
       "      <td>Atlantic City, New Jersey</td>\n",
       "      <td>Military - U.S. Navy</td>\n",
       "      <td>Dirigible</td>\n",
       "      <td>Sin Dato</td>\n",
       "      <td>5</td>\n",
       "      <td>5</td>\n",
       "      <td>0</td>\n",
       "      <td>First U.S. dirigible Akron exploded just offsh...</td>\n",
       "      <td>1</td>\n",
       "      <td>Nocturno</td>\n",
       "    </tr>\n",
       "    <tr>\n",
       "      <th>3</th>\n",
       "      <td>1913-08-06</td>\n",
       "      <td>Victoria, British Columbia, Canada</td>\n",
       "      <td>Private</td>\n",
       "      <td>Curtiss seaplane</td>\n",
       "      <td>Sin Dato</td>\n",
       "      <td>1</td>\n",
       "      <td>1</td>\n",
       "      <td>0</td>\n",
       "      <td>The first fatal airplane accident in Canada oc...</td>\n",
       "      <td>0</td>\n",
       "      <td>Sin Dato</td>\n",
       "    </tr>\n",
       "    <tr>\n",
       "      <th>4</th>\n",
       "      <td>1913-09-09</td>\n",
       "      <td>Over the North Sea</td>\n",
       "      <td>Military - German Navy</td>\n",
       "      <td>Zeppelin L-1 (airship)</td>\n",
       "      <td>Sin Dato</td>\n",
       "      <td>20</td>\n",
       "      <td>14</td>\n",
       "      <td>0</td>\n",
       "      <td>The airship flew into a thunderstorm and encou...</td>\n",
       "      <td>1</td>\n",
       "      <td>Diurno</td>\n",
       "    </tr>\n",
       "  </tbody>\n",
       "</table>\n",
       "</div>"
      ],
      "text/plain": [
       "       fecha                                Ruta                OperadOR  \\\n",
       "0 1908-09-17                 Fort Myer, Virginia    Military - U.S. Army   \n",
       "1 1909-09-07             Juvisy-sur-Orge, France                Sin Dato   \n",
       "2 1912-07-12           Atlantic City, New Jersey    Military - U.S. Navy   \n",
       "3 1913-08-06  Victoria, British Columbia, Canada                 Private   \n",
       "4 1913-09-09                  Over the North Sea  Military - German Navy   \n",
       "\n",
       "                  ac_type registration  all_aboard  cantidad de fallecidos  \\\n",
       "0        Wright Flyer III     Sin Dato           2                       1   \n",
       "1          Wright Byplane          SC1           1                       1   \n",
       "2               Dirigible     Sin Dato           5                       5   \n",
       "3        Curtiss seaplane     Sin Dato           1                       1   \n",
       "4  Zeppelin L-1 (airship)     Sin Dato          20                      14   \n",
       "\n",
       "   ground                                            summary  militar  \\\n",
       "0       0  During a demonstration flight, a U.S. Army fly...        1   \n",
       "1       0  Eugene Lefebvre was the first pilot to ever be...        0   \n",
       "2       0  First U.S. dirigible Akron exploded just offsh...        1   \n",
       "3       0  The first fatal airplane accident in Canada oc...        0   \n",
       "4       0  The airship flew into a thunderstorm and encou...        1   \n",
       "\n",
       "    horario  \n",
       "0    Diurno  \n",
       "1  Sin Dato  \n",
       "2  Nocturno  \n",
       "3  Sin Dato  \n",
       "4    Diurno  "
      ]
     },
     "execution_count": 65,
     "metadata": {},
     "output_type": "execute_result"
    }
   ],
   "source": [
    "aviones_db.head()"
   ]
  },
  {
   "attachments": {},
   "cell_type": "markdown",
   "metadata": {},
   "source": [
    "Columna \"fecha\".\n",
    "Le extraeremos el año y el mes, para luego eliminarla. "
   ]
  },
  {
   "cell_type": "code",
   "execution_count": 66,
   "metadata": {},
   "outputs": [],
   "source": [
    "#Creamo la nueva columna \"año\" con el año de la fecha \n",
    "aviones_db[\"año\"] = pd.to_datetime(aviones_db[\"fecha\"]).dt.year"
   ]
  },
  {
   "cell_type": "code",
   "execution_count": 67,
   "metadata": {},
   "outputs": [],
   "source": [
    "#Creamo la nueva columna \"mes\" con el mes de la fecha \n",
    "aviones_db[\"mes\"] = pd.to_datetime(aviones_db[\"fecha\"]).dt.month_name()"
   ]
  },
  {
   "cell_type": "code",
   "execution_count": 68,
   "metadata": {},
   "outputs": [],
   "source": [
    "#Creamo la nueva columna \"dia\" con el mes de la fecha \n",
    "aviones_db[\"dia\"] = pd.to_datetime(aviones_db[\"fecha\"]).dt.day_name()"
   ]
  },
  {
   "cell_type": "code",
   "execution_count": 69,
   "metadata": {},
   "outputs": [],
   "source": [
    "#Eliminamos la columna fecha\n",
    "aviones_db.drop([\"fecha\"], axis=1, inplace=True)"
   ]
  },
  {
   "attachments": {},
   "cell_type": "markdown",
   "metadata": {},
   "source": [
    "Columna \"Ruta\""
   ]
  },
  {
   "cell_type": "code",
   "execution_count": 72,
   "metadata": {},
   "outputs": [],
   "source": [
    "#Extraemos el país de la columna \"Ruta\"\n",
    "def obtener_pais(row):\n",
    "    partes = row[\"Ruta\"].split(\", \")\n",
    "    if len(partes) == 1:\n",
    "        return partes[0]\n",
    "    elif len(partes) == 2:\n",
    "        return partes[1]\n",
    "    elif len(partes) >= 3:\n",
    "        return partes[2]\n",
    "\n",
    "#Aplicamos la función a la columna \"Ruta\" y asignamos los resultados a una nueva columna \"Pais\"\n",
    "aviones_db[\"Pais\"] = aviones_db.apply(obtener_pais, axis=1)"
   ]
  },
  {
   "cell_type": "code",
   "execution_count": 162,
   "metadata": {},
   "outputs": [],
   "source": [
    "#Tratamos el caso especial de Estados Unidos\n",
    "reemplazos = {\n",
    "    'Alaska': 'United States',\n",
    "    'Alaksa': 'United States',\n",
    "    'Alabama': 'United States',\n",
    "    'Arkansas': 'United States',\n",
    "    'Arizona': 'United States',\n",
    "    'California': 'United States',\n",
    "    'Californiia': 'United States',\n",
    "    'Cailifornia': 'United States',\n",
    "    'Colorado': 'United States',\n",
    "    'Columbia': 'United States',\n",
    "    'Connecticut': 'United States',\n",
    "    'Delaware': 'United States',\n",
    "    'Florida': 'United States',\n",
    "    'Georgia': 'United States',\n",
    "    'Hawaii': 'United States',\n",
    "    'Idaho': 'United States',\n",
    "    'Illinois': 'United States',\n",
    "    'Ilinois': 'United States',\n",
    "    'Indiana': 'United States',\n",
    "    'Iowa': 'United States',\n",
    "    'Kansas': 'United States',\n",
    "    'Kentucky': 'United States',\n",
    "    'Louisiana': 'United States',\n",
    "    'Maine': 'United States',\n",
    "    'Maryland': 'United States',\n",
    "    'Massachusetts': 'United States',\n",
    "    'Michigan': 'United States',\n",
    "    'Minnesota': 'United States',\n",
    "    'Minnisota': 'United States',\n",
    "    'Mississipi': 'United States',\n",
    "    'Missouri': 'United States',\n",
    "    'Montana': 'United States',\n",
    "    'Nebraska': 'United States',\n",
    "    'Nevada': 'United States',\n",
    "    'New Hampshire': 'United States',\n",
    "    'New Jersey': 'United States',\n",
    "    'Jersey': 'United States',\n",
    "    'New Mexico': 'United States',\n",
    "    'New York': 'United States',\n",
    "    'NY': 'United States',\n",
    "    'North Carolina': 'United States',\n",
    "    'North Dakota': 'United States',\n",
    "    'Ohio': 'United States',\n",
    "    'Oklahoma': 'United States',\n",
    "    'Oregon': 'United States',\n",
    "    'Pennsylvania': 'United States',\n",
    "    'Rhode Island': 'United States',\n",
    "    'South Carolina': 'United States',\n",
    "    'South Dakota': 'United States',\n",
    "    'Tennessee': 'United States',\n",
    "    'Texas': 'United States',\n",
    "    'Utah': 'United States',\n",
    "    'Vermont': 'United States',\n",
    "    'Virginia': 'United States',\n",
    "    'Washington': 'United States',\n",
    "    'West Virginia': 'United States',\n",
    "    'Wisconsin': 'United States',\n",
    "    'Wyoming': 'United States',\n",
    "    'WY': 'United States'\n",
    "}\n",
    "\n",
    "aviones_db['Pais'] = aviones_db['Pais'].replace(reemplazos)"
   ]
  },
  {
   "cell_type": "code",
   "execution_count": 141,
   "metadata": {},
   "outputs": [],
   "source": [
    "#Tratamos el caso especial de inglaterra\n",
    "aviones_db['Pais'] = aviones_db['Pais'].replace('England', 'UK')\n",
    "aviones_db.loc[aviones_db['Pais'].str.contains('United Kingdom', case=False), 'Pais'] = 'UK'\n",
    "aviones_db.loc[aviones_db['Pais'].str.contains('Unied Kingdom', case=False), 'Pais'] = 'UK'\n",
    "aviones_db.loc[aviones_db['Pais'].str.contains('Scotland', case=False), 'Pais'] = 'UK'"
   ]
  },
  {
   "cell_type": "code",
   "execution_count": 97,
   "metadata": {},
   "outputs": [],
   "source": [
    "#Tratamos el caso especial de Ontario\n",
    "aviones_db['Pais'] = aviones_db['Pais'].replace('Ontario', 'Canada')"
   ]
  },
  {
   "cell_type": "code",
   "execution_count": 108,
   "metadata": {},
   "outputs": [],
   "source": [
    "#Caso Brazil\n",
    "aviones_db.loc[aviones_db['Pais'].str.contains('Brazil', case=False), 'Pais'] = 'Brazil'"
   ]
  },
  {
   "cell_type": "code",
   "execution_count": 110,
   "metadata": {},
   "outputs": [],
   "source": [
    "#Caso Francia\n",
    "aviones_db.loc[aviones_db['Pais'].str.contains('France', case=False), 'Pais'] = 'France'"
   ]
  },
  {
   "cell_type": "code",
   "execution_count": 114,
   "metadata": {},
   "outputs": [],
   "source": [
    "#Caso Francia\n",
    "aviones_db.loc[aviones_db['Pais'].str.contains('Spain', case=False), 'Pais'] = 'Spain'"
   ]
  },
  {
   "cell_type": "code",
   "execution_count": 115,
   "metadata": {},
   "outputs": [],
   "source": [
    "#Caso Francia\n",
    "aviones_db.loc[aviones_db['Pais'].str.contains('Germany', case=False), 'Pais'] = 'Germany'"
   ]
  },
  {
   "cell_type": "code",
   "execution_count": 137,
   "metadata": {},
   "outputs": [],
   "source": [
    "#Caso Malta\n",
    "aviones_db.loc[aviones_db['Pais'].str.contains('Malta', case=False), 'Pais'] = 'Malta'"
   ]
  },
  {
   "cell_type": "code",
   "execution_count": 121,
   "metadata": {},
   "outputs": [],
   "source": [
    "#Caso Holanda\n",
    "aviones_db.loc[aviones_db['Pais'].str.contains('Netherlands', case=False), 'Pais'] = 'Netherlands'\n",
    "aviones_db.loc[aviones_db['Pais'].str.contains('Amsterdam', case=False), 'Pais'] = 'Netherlands'"
   ]
  },
  {
   "cell_type": "code",
   "execution_count": 123,
   "metadata": {},
   "outputs": [],
   "source": [
    "#Caso Morocco\n",
    "aviones_db.loc[aviones_db['Pais'].str.contains('Morocco', case=False), 'Pais'] = 'Morocco'"
   ]
  },
  {
   "cell_type": "code",
   "execution_count": 145,
   "metadata": {},
   "outputs": [],
   "source": [
    "#Caso Croatia\n",
    "aviones_db.loc[aviones_db['Pais'].str.contains('Croatia', case=False), 'Pais'] = 'Croatia'\n",
    "aviones_db.loc[aviones_db['Pais'].str.contains('Coatia', case=False), 'Pais'] = 'Croatia'"
   ]
  },
  {
   "cell_type": "code",
   "execution_count": 133,
   "metadata": {},
   "outputs": [],
   "source": [
    "#Caso Portugal\n",
    "aviones_db.loc[aviones_db['Pais'].str.contains('Lisbon', case=False), 'Pais'] = 'Portugal'"
   ]
  },
  {
   "cell_type": "code",
   "execution_count": 149,
   "metadata": {},
   "outputs": [],
   "source": [
    "#Caso Australia\n",
    "aviones_db.loc[aviones_db['Pais'].str.contains('Australia', case=False), 'Pais'] = 'Australia'\n",
    "aviones_db.loc[aviones_db['Pais'].str.contains('Australila', case=False), 'Pais'] = 'Australia'"
   ]
  },
  {
   "cell_type": "code",
   "execution_count": 151,
   "metadata": {},
   "outputs": [],
   "source": [
    "#Caso Australia\n",
    "aviones_db.loc[aviones_db['Pais'].str.contains('Sweden', case=False), 'Pais'] = 'Sweden'\n",
    "aviones_db.loc[aviones_db['Pais'].str.contains('Swden', case=False), 'Pais'] = 'Sweden'"
   ]
  },
  {
   "cell_type": "code",
   "execution_count": 160,
   "metadata": {},
   "outputs": [],
   "source": [
    "#Caso Australia\n",
    "aviones_db.loc[aviones_db['Pais'].str.contains('Bulgaria', case=False), 'Pais'] = 'Bulgaria'\n",
    "aviones_db.loc[aviones_db['Pais'].str.contains('bulgaria', case=False), 'Pais'] = 'Bulgaria'\n",
    "aviones_db.loc[aviones_db['Pais'].str.contains('bulgeria', case=False), 'Pais'] = 'Bulgaria'"
   ]
  },
  {
   "cell_type": "code",
   "execution_count": 155,
   "metadata": {},
   "outputs": [],
   "source": [
    "#Caso Russia\n",
    "aviones_db.loc[aviones_db['Pais'].str.contains('Rusia', case=False), 'Pais'] = 'Rusia'\n",
    "aviones_db.loc[aviones_db['Pais'].str.contains('USSR', case=False), 'Pais'] = 'Rusia'\n",
    "aviones_db.loc[aviones_db['Pais'].str.contains('Yugoslavia', case=False), 'Pais'] = 'Rusia'"
   ]
  },
  {
   "cell_type": "code",
   "execution_count": 181,
   "metadata": {},
   "outputs": [],
   "source": [
    "#Caso Dinamarca\n",
    "aviones_db.loc[aviones_db['Pais'].str.contains('Denmark', case=False), 'Pais'] = 'Denmark'"
   ]
  },
  {
   "cell_type": "code",
   "execution_count": 175,
   "metadata": {},
   "outputs": [],
   "source": [
    "#Caso Ma del Norte\n",
    "aviones_db.loc[aviones_db['Pais'].str.contains('North Sea', case=False), 'Pais'] = 'North Sea'"
   ]
  },
  {
   "cell_type": "code",
   "execution_count": 182,
   "metadata": {},
   "outputs": [
    {
     "name": "stdout",
     "output_type": "stream",
     "text": [
      "['United States' 'France' 'Canada' 'North Sea' 'Germany' 'Belgium'\n",
      " 'Bulgaria' 'UK' 'Denmark' 'Over the Mediterranean' 'Italy' 'Kent' 'Spain'\n",
      " 'Off Gibraltar' 'Australia' 'North Atlantic Ocean' 'China' 'Morocco'\n",
      " 'Romania' 'Russia' 'Over the Mediterranean Sea'\n",
      " 'Over the English Channel' 'Colombia' 'Rusia' 'Hungary' 'Mauritania'\n",
      " 'English Channel' 'Czechoslovakia' 'Algeria' 'Atlantic Ocean'\n",
      " 'Over the Gulf of Finland' 'Uruguay' 'Ariège' 'Brazil' 'Netherlands'\n",
      " 'Greece' 'Mexico' ' Pest Hungary' 'Algiers' 'Cuba' 'Iran' 'East Sardinia'\n",
      " 'Madagascar' 'Argentina' 'New Zealand' 'Burma' 'South Africa' 'Thailand'\n",
      " 'Off Algiers' 'Iraq' 'Chile' 'Lebanon' 'Bolivia' 'Aegean Sea' 'Peru'\n",
      " 'Syria' 'Pakistan' 'Egypt' 'Honduras' 'Switzerland' 'Panama'\n",
      " 'Gulf of Finland' 'Poland' 'Boliva' 'South Atlantic Ocean' 'Trinidad'\n",
      " 'Sweden' 'Norway' 'Croatia' 'Tajikistan' 'Ciudad Serdan,Mexico' 'Libya'\n",
      " 'French West Africa' 'Gambia' 'Desertores Island Región de Los Lagos'\n",
      " 'New Guinea' 'Sudan' 'Papua New Guinea' 'Off Western Africa' 'U.S. Samoa'\n",
      " 'Mediterranean Sea' 'India' 'Tanzania' 'Andes' 'Kenya'\n",
      " 'Pacific Ocean between Manila and Guam' 'Japan' 'Okinawa'\n",
      " 'Atlantic Ocean between N.Y. and Bermuda' 'Mozambique' 'Ecuador'\n",
      " 'South of Gibraltar' 'Malta' 'Indonesia' 'Gulf of Oman' 'Estonia'\n",
      " 'Gulf of Tonkin' 'Sea of Japan' 'Puerto Rico' 'Turkmenistan' 'Kazakhstan'\n",
      " 'Timor' 'Indian Ocean' 'Off West Africa' 'Newfoundland' 'Austria'\n",
      " 'Portugal' 'Dutch Guyana' ' Atlantic Ocean' ' New Caledonia' 'Gibraltar'\n",
      " 'Ireland' 'Eastern Libya' 'Pacific Ocean' 'Bosnia' 'Nicaragua' 'Ukraine'\n",
      " 'Washington D.C.' 'Ivory Coast' 'Martinique' 'Himalayas' 'Philippines'\n",
      " 'Near Jacquinot Bay  New Guinea' 'Off the Florida coast' 'Bahamas'\n",
      " 'French Equatorial Africa' 'Tasmania' 'Northern Ireland'\n",
      " 'Pindi-Khut ,India' 'Nigeria' 'Off Malaya' 'Off the Panama coast'\n",
      " 'Near Hong Kong International Airport' 'Malaya' 'North Pacific Ocean'\n",
      " 'Costa Rica' 'Hong Kong' 'Sri Lanka' 'Venezuela' 'Senegal' 'Iceland'\n",
      " 'Gulf of Karkinitsky' 'French Cameroons' 'Persian Gulf'\n",
      " '800 miles east of Newfoundland' 'Labrador' 'Dominican Republic'\n",
      " 'NE of Bermuda' ' Italy' 'Territory of New Guinea' 'Near Irkutsk Russia'\n",
      " 'Belgian Congo (Zaire)' 'Isle of Man' 'French Indo-China'\n",
      " 'Pacific Ocean between Hong Kong and Macao' 'Belgium Congo' 'Taiwan'\n",
      " 'off Bermuda' 'off the Philippine island of Elalat' 'Oman' 'Manitoba'\n",
      " 'Zaire' 'Azores' 'D.C.' 'Iloilo,Philippines' 'Yukon Territory' 'Vietnam'\n",
      " 'Wales' 'Turkey' 'Atlantic Ocean off Florida' 'Off Bahrain' 'Bahrain'\n",
      " 'South Korea' 'Angola' 'Malaysia' 'Marshall Islands' 'Bhutan'\n",
      " 'Besar,Thailand' 'British Cameroons' 'Over the North Atlantic' 'Liberia'\n",
      " 'Mali' 'Near Tachikawa Air Base' 'North Atlantic' 'Guatemala'\n",
      " 'Belgian Congo' 'Cameroon' ' India' 'Baltic Sea' 'West Pakistan' 'Chad'\n",
      " 'Bugaria' 'Bermuda' 'Tanganyika' 'Jamaica'\n",
      " '325 miles east of Wake Island' 'North Korea' 'United Arab Emirates'\n",
      " 'Off Irish coast' 'Mariana Islands' 'Afghanistan' 'Czech Republic'\n",
      " 'Singapore' 'Laos' 'Slovenia' 'South Dekota' 'Slovakia' ' Zimbabwe'\n",
      " 'Mexic' 'Off the Oregon coast' 'Sarawak' 'Cameroons' 'Paraguay' 'Nepal'\n",
      " 'Burma (Myanmar)' 'HI)' 'Washingon' 'Korat ,Thailand' 'Jordan'\n",
      " 'Over the Pacific Ocean' 'Saudi Arabia' 'Over the North Pacific Ocean'\n",
      " 'Greenland' 'Taiwan (Formosa)' ' Uruguay' 'French Polynesia'\n",
      " 'Baangladesh' 'Off Guam' 'Washington DC' ' Newfoundland' 'Uzbekstan'\n",
      " 'Zimbabwe)' 'Central African Republic' 'Aregntina' '20 miles NW of Milan'\n",
      " 'Kuwait' 'Suriname' 'Gulf of Mexico' 'Gulf of Sirte' 'Jamacia' ' Ukraine'\n",
      " 'Taipei,Taiwan' 'Ethiopia' 'Quebec Canada' 'Finland'\n",
      " 'New York (Idlewild)' 'Midway Island Naval Air Station' 'Zambia'\n",
      " 'Guernsey' 'Off Puerto Rico' 'Zimbabwe' 'Sao Tomé' 'Caranavi ,Bolivia'\n",
      " 'Philippine Sea' 'Near Hong Kong' 'West Indies' ' Katanga'\n",
      " 'South Vietnam' 'Sao Tomé & Principe' 'Syktyvkar ,Russia' 'Tennesee'\n",
      " 'Northeast Laos' 'Deleware' 'Near Chicago Illinois' 'Massachutes'\n",
      " 'Somalia' 'Sibuco Point ,Philippines' 'Saudia Arabia'\n",
      " 'Democratic Republic of the Congo' 'Mt. Helmos. Greece' 'Azerbaijan'\n",
      " 'Virgin Islands' 'Phillipines' 'Montserrat' 'French Somaliland'\n",
      " 'Canary Islands' 'Uzbekistan' 'Haiti' 'Indian' 'Yemen' 'UAR' 'Cyprus'\n",
      " 'Northwest Territories Canada' 'Malagasy Republic' 'Latvia'\n",
      " 'Comoro Islands' 'Northern India' 'Reunion'\n",
      " 'South-West  Africa (Namibia)' 'Off Chili' 'Surrey' 'East Pakistan'\n",
      " 'Ghana' 'Kyrgyzstan' 'Ontario ,Canada' 'Near Villia Greece'\n",
      " 'Western Samoa' 'Congo' ' New Guinea' 'US Virgin Islands' 'Alakska'\n",
      " 'Guadeloupe' 'Bangladesh' ' Pakistan' 'South Yemen' 'Cambodia'\n",
      " 'Off the Alaska coast' 'Vanuatu' ' Canary Islands' ' Switzerland'\n",
      " 'Tahiti' 'HI' 'Boston,: Massachusetts' ' New Mexico' 'American Samoa'\n",
      " 'Crete' ' Bolivia' 'Botswana' ' Colombia' 'Khmer Republic' 'Upper Volta'\n",
      " 'Hunary' 'Southeastern Bolivia' 'Philipines' 'Equatorial Guinea' 'Guam'\n",
      " 'Uganda' 'Barbados' 'Niger' 'Off Wake Island' 'Off Hong Kong' ' Malaysia'\n",
      " 'Guinea' 'Rhodesia (Zimbabwe)' 'AK' 'Myanmar' 'Solomon Islands' 'Coloado'\n",
      " 'Rhodesia' 'Qatar' 'Fiji' 'British Columbia Canada' 'Antarctica'\n",
      " 'Over the Atlantic Ocean' ' Indonesia' 'Mauretania'\n",
      " 'Off Tabones Island  Philippines' 'Armenia' 'Russian'\n",
      " 'U.S. Virgin Islands' 'Saint Lucia Island' 'Corsica' 'Brunei' 'Djbouti'\n",
      " 'Gulf of Thailand' 'Gabon' 'Luxembourg' 'Off Taiwan'\n",
      " 'Barquisimeto Venezuela' 'UAE' 'El Salvador' 'Off  Bimini'\n",
      " '110 miles West of Ireland' 'Soviet Union' 'Djibouti' 'Islay Island'\n",
      " 'Leeward Islands' 'Malawi' 'Over the Andaman Sea' 'Rwanda'\n",
      " 'Eugene Island' 'Central Mozambique' 'Northern Afghanistan' 'Surinam'\n",
      " ' Cameroon' 'Centeral Afghanistan\\rAfghanistan' ' Canada'\n",
      " 'Semyonovka ,Ukraine' 'Lesotho' 'Albania' 'Milford Sound' 'Mongolia'\n",
      " 'Sierre Leone' 'Santiago de Cuba' 'CA' ' Uzbekistan' 'Airzona'\n",
      " 'Great Inagua' 'Cook Islands' 'Djibouti\\rDjibouti City' 'NWT,Canada'\n",
      " 'Macedonia' 'Democratic Republic Congo' 'Near Nag' 'Northern Iraq'\n",
      " 'Inodnesia' 'Kirghizia' 'Domincan Republic' 'Hati' 'Manmar' 'Canada2'\n",
      " 'Yugosalvia' 'Comoros' 'Samoa' 'Northern Israel' 'Africa' 'off Angola'\n",
      " 'Eritrea' 'Morroco' 'Cape Verde' ' Democratic Republic Congo'\n",
      " 'Cape Verde Islands' 'Kosovo' 'Azores (Portugal)' 'Calilfornia'\n",
      " 'Pepa ,Congo' 'Guyana' 'Republic of Georgia' 'BO' 'French West Indies'\n",
      " 'Virginia.' 'Republic of Djibouti' 'Tunisia' 'Chechnya' 'Comoros Islands'\n",
      " 'East Timor' 'Namibia' 'Sao Gabriel de Cachoeria' 'Benin'\n",
      " 'Bosnia-Herzegovina' 'Sierra Leone' 'British Virgin Islands' 'Afghanstan'\n",
      " 'Democtratic Republic Congo' 'Democratic Republic Cogo' 'Near Karkov'\n",
      " 'Wisconson' 'Saskatchewan' 'Off São Tomé Island' 'Napal' 'DR Congo'\n",
      " 'Moldova' 'Black Sea' 'Off Turks and Caicos Islands'\n",
      " 'Near Houma Louisiana' 'Democratic Republic of Congo' 'South Kazakistan'\n",
      " 'Congo Democratic Republic' 'Fox Glacier Airstrip' 'South Korean'\n",
      " 'Antigua' 'Uttarakhand State' 'Borneo' 'Nambia' 'Near Petreasa Romania'\n",
      " 'South Indian Ocean' 'Java Sea' 'Papua' 'South Sudan'\n",
      " '175 miles off the Egyptian coast' 'Guizhou Province' 'Micronesia']\n"
     ]
    }
   ],
   "source": [
    "#Visualizamos los distintos paises\n",
    "distintos_paises = aviones_db['Pais'].unique()\n",
    "print(distintos_paises)"
   ]
  },
  {
   "cell_type": "code",
   "execution_count": 105,
   "metadata": {},
   "outputs": [],
   "source": [
    "#Eliminamos la columna \"Ruta\"\n",
    "aviones_db.drop([\"Ruta\"], axis=1, inplace=True)"
   ]
  },
  {
   "cell_type": "code",
   "execution_count": 169,
   "metadata": {},
   "outputs": [],
   "source": [
    "#Eliminamos la columna \"Malta\" que en algun momento creamos por error\n",
    "aviones_db.drop([\"Malta\"], axis=1, inplace=True)"
   ]
  },
  {
   "cell_type": "code",
   "execution_count": 183,
   "metadata": {},
   "outputs": [],
   "source": [
    "# Crear la nueva columna \"mar\" con valores 1 o 0\n",
    "aviones_db['mar'] = aviones_db['Pais'].str.contains('Sea|Ocean|Channel|Gulf|Off', case=False, na=False).astype(int)"
   ]
  },
  {
   "cell_type": "code",
   "execution_count": 185,
   "metadata": {},
   "outputs": [
    {
     "data": {
      "text/html": [
       "<div>\n",
       "<style scoped>\n",
       "    .dataframe tbody tr th:only-of-type {\n",
       "        vertical-align: middle;\n",
       "    }\n",
       "\n",
       "    .dataframe tbody tr th {\n",
       "        vertical-align: top;\n",
       "    }\n",
       "\n",
       "    .dataframe thead th {\n",
       "        text-align: right;\n",
       "    }\n",
       "</style>\n",
       "<table border=\"1\" class=\"dataframe\">\n",
       "  <thead>\n",
       "    <tr style=\"text-align: right;\">\n",
       "      <th></th>\n",
       "      <th>OperadOR</th>\n",
       "      <th>ac_type</th>\n",
       "      <th>registration</th>\n",
       "      <th>all_aboard</th>\n",
       "      <th>cantidad de fallecidos</th>\n",
       "      <th>ground</th>\n",
       "      <th>summary</th>\n",
       "      <th>militar</th>\n",
       "      <th>horario</th>\n",
       "      <th>año</th>\n",
       "      <th>mes</th>\n",
       "      <th>dia</th>\n",
       "      <th>Pais</th>\n",
       "      <th>mar</th>\n",
       "    </tr>\n",
       "  </thead>\n",
       "  <tbody>\n",
       "    <tr>\n",
       "      <th>0</th>\n",
       "      <td>Military - U.S. Army</td>\n",
       "      <td>Wright Flyer III</td>\n",
       "      <td>Sin Dato</td>\n",
       "      <td>2</td>\n",
       "      <td>1</td>\n",
       "      <td>0</td>\n",
       "      <td>During a demonstration flight, a U.S. Army fly...</td>\n",
       "      <td>1</td>\n",
       "      <td>Diurno</td>\n",
       "      <td>1908</td>\n",
       "      <td>September</td>\n",
       "      <td>Thursday</td>\n",
       "      <td>United States</td>\n",
       "      <td>0</td>\n",
       "    </tr>\n",
       "    <tr>\n",
       "      <th>1</th>\n",
       "      <td>Sin Dato</td>\n",
       "      <td>Wright Byplane</td>\n",
       "      <td>SC1</td>\n",
       "      <td>1</td>\n",
       "      <td>1</td>\n",
       "      <td>0</td>\n",
       "      <td>Eugene Lefebvre was the first pilot to ever be...</td>\n",
       "      <td>0</td>\n",
       "      <td>Sin Dato</td>\n",
       "      <td>1909</td>\n",
       "      <td>September</td>\n",
       "      <td>Tuesday</td>\n",
       "      <td>France</td>\n",
       "      <td>0</td>\n",
       "    </tr>\n",
       "    <tr>\n",
       "      <th>2</th>\n",
       "      <td>Military - U.S. Navy</td>\n",
       "      <td>Dirigible</td>\n",
       "      <td>Sin Dato</td>\n",
       "      <td>5</td>\n",
       "      <td>5</td>\n",
       "      <td>0</td>\n",
       "      <td>First U.S. dirigible Akron exploded just offsh...</td>\n",
       "      <td>1</td>\n",
       "      <td>Nocturno</td>\n",
       "      <td>1912</td>\n",
       "      <td>July</td>\n",
       "      <td>Friday</td>\n",
       "      <td>United States</td>\n",
       "      <td>0</td>\n",
       "    </tr>\n",
       "    <tr>\n",
       "      <th>3</th>\n",
       "      <td>Private</td>\n",
       "      <td>Curtiss seaplane</td>\n",
       "      <td>Sin Dato</td>\n",
       "      <td>1</td>\n",
       "      <td>1</td>\n",
       "      <td>0</td>\n",
       "      <td>The first fatal airplane accident in Canada oc...</td>\n",
       "      <td>0</td>\n",
       "      <td>Sin Dato</td>\n",
       "      <td>1913</td>\n",
       "      <td>August</td>\n",
       "      <td>Wednesday</td>\n",
       "      <td>Canada</td>\n",
       "      <td>0</td>\n",
       "    </tr>\n",
       "    <tr>\n",
       "      <th>4</th>\n",
       "      <td>Military - German Navy</td>\n",
       "      <td>Zeppelin L-1 (airship)</td>\n",
       "      <td>Sin Dato</td>\n",
       "      <td>20</td>\n",
       "      <td>14</td>\n",
       "      <td>0</td>\n",
       "      <td>The airship flew into a thunderstorm and encou...</td>\n",
       "      <td>1</td>\n",
       "      <td>Diurno</td>\n",
       "      <td>1913</td>\n",
       "      <td>September</td>\n",
       "      <td>Tuesday</td>\n",
       "      <td>North Sea</td>\n",
       "      <td>1</td>\n",
       "    </tr>\n",
       "  </tbody>\n",
       "</table>\n",
       "</div>"
      ],
      "text/plain": [
       "                 OperadOR                 ac_type registration  all_aboard  \\\n",
       "0    Military - U.S. Army        Wright Flyer III     Sin Dato           2   \n",
       "1                Sin Dato          Wright Byplane          SC1           1   \n",
       "2    Military - U.S. Navy               Dirigible     Sin Dato           5   \n",
       "3                 Private        Curtiss seaplane     Sin Dato           1   \n",
       "4  Military - German Navy  Zeppelin L-1 (airship)     Sin Dato          20   \n",
       "\n",
       "   cantidad de fallecidos  ground  \\\n",
       "0                       1       0   \n",
       "1                       1       0   \n",
       "2                       5       0   \n",
       "3                       1       0   \n",
       "4                      14       0   \n",
       "\n",
       "                                             summary  militar   horario   año  \\\n",
       "0  During a demonstration flight, a U.S. Army fly...        1    Diurno  1908   \n",
       "1  Eugene Lefebvre was the first pilot to ever be...        0  Sin Dato  1909   \n",
       "2  First U.S. dirigible Akron exploded just offsh...        1  Nocturno  1912   \n",
       "3  The first fatal airplane accident in Canada oc...        0  Sin Dato  1913   \n",
       "4  The airship flew into a thunderstorm and encou...        1    Diurno  1913   \n",
       "\n",
       "         mes        dia           Pais  mar  \n",
       "0  September   Thursday  United States    0  \n",
       "1  September    Tuesday         France    0  \n",
       "2       July     Friday  United States    0  \n",
       "3     August  Wednesday         Canada    0  \n",
       "4  September    Tuesday      North Sea    1  "
      ]
     },
     "execution_count": 185,
     "metadata": {},
     "output_type": "execute_result"
    }
   ],
   "source": [
    "#Visualizacion final\n",
    "aviones_db.head(5)"
   ]
  },
  {
   "cell_type": "code",
   "execution_count": 186,
   "metadata": {},
   "outputs": [
    {
     "data": {
      "text/html": [
       "<div>\n",
       "<style scoped>\n",
       "    .dataframe tbody tr th:only-of-type {\n",
       "        vertical-align: middle;\n",
       "    }\n",
       "\n",
       "    .dataframe tbody tr th {\n",
       "        vertical-align: top;\n",
       "    }\n",
       "\n",
       "    .dataframe thead th {\n",
       "        text-align: right;\n",
       "    }\n",
       "</style>\n",
       "<table border=\"1\" class=\"dataframe\">\n",
       "  <thead>\n",
       "    <tr style=\"text-align: right;\">\n",
       "      <th></th>\n",
       "      <th>OperadOR</th>\n",
       "      <th>ac_type</th>\n",
       "      <th>registration</th>\n",
       "      <th>all_aboard</th>\n",
       "      <th>cantidad de fallecidos</th>\n",
       "      <th>ground</th>\n",
       "      <th>summary</th>\n",
       "      <th>militar</th>\n",
       "      <th>horario</th>\n",
       "      <th>año</th>\n",
       "      <th>mes</th>\n",
       "      <th>dia</th>\n",
       "      <th>Pais</th>\n",
       "      <th>mar</th>\n",
       "    </tr>\n",
       "  </thead>\n",
       "  <tbody>\n",
       "    <tr>\n",
       "      <th>5003</th>\n",
       "      <td>Soloy Helicopters</td>\n",
       "      <td>Eurocopter AS350B3 Ecureuil</td>\n",
       "      <td>N351SH</td>\n",
       "      <td>6</td>\n",
       "      <td>5</td>\n",
       "      <td>0</td>\n",
       "      <td>The sightseeing helicopter crashed after missi...</td>\n",
       "      <td>0</td>\n",
       "      <td>Diurno</td>\n",
       "      <td>2021</td>\n",
       "      <td>March</td>\n",
       "      <td>Sunday</td>\n",
       "      <td>United States</td>\n",
       "      <td>0</td>\n",
       "    </tr>\n",
       "    <tr>\n",
       "      <th>5004</th>\n",
       "      <td>Military - Nigerian Air Force</td>\n",
       "      <td>Beechcraft B300 King Air 350i</td>\n",
       "      <td>NAF203</td>\n",
       "      <td>11</td>\n",
       "      <td>11</td>\n",
       "      <td>0</td>\n",
       "      <td>While on final approach, in poor weather condi...</td>\n",
       "      <td>1</td>\n",
       "      <td>Diurno</td>\n",
       "      <td>2021</td>\n",
       "      <td>May</td>\n",
       "      <td>Friday</td>\n",
       "      <td>Nigeria</td>\n",
       "      <td>0</td>\n",
       "    </tr>\n",
       "    <tr>\n",
       "      <th>5005</th>\n",
       "      <td>Military - Myanmar Air Force</td>\n",
       "      <td>Beechcraft 1900D</td>\n",
       "      <td>4610</td>\n",
       "      <td>14</td>\n",
       "      <td>12</td>\n",
       "      <td>0</td>\n",
       "      <td>The plane was carrying military personnel and ...</td>\n",
       "      <td>1</td>\n",
       "      <td>Diurno</td>\n",
       "      <td>2021</td>\n",
       "      <td>June</td>\n",
       "      <td>Thursday</td>\n",
       "      <td>Myanmar</td>\n",
       "      <td>0</td>\n",
       "    </tr>\n",
       "    <tr>\n",
       "      <th>5006</th>\n",
       "      <td>Military - Philippine Air Force</td>\n",
       "      <td>Lockheed C-130H Hercules</td>\n",
       "      <td>5125</td>\n",
       "      <td>96</td>\n",
       "      <td>50</td>\n",
       "      <td>3</td>\n",
       "      <td>While attempting to land at Jolo Airport, the ...</td>\n",
       "      <td>1</td>\n",
       "      <td>Sin Dato</td>\n",
       "      <td>2021</td>\n",
       "      <td>July</td>\n",
       "      <td>Sunday</td>\n",
       "      <td>Philippines</td>\n",
       "      <td>0</td>\n",
       "    </tr>\n",
       "    <tr>\n",
       "      <th>5007</th>\n",
       "      <td>Kamchatka Aviation Enterprise</td>\n",
       "      <td>Antonov An 26B-100</td>\n",
       "      <td>RA-26085</td>\n",
       "      <td>28</td>\n",
       "      <td>28</td>\n",
       "      <td>0</td>\n",
       "      <td>The passenger plane crashed into the top of a ...</td>\n",
       "      <td>0</td>\n",
       "      <td>Diurno</td>\n",
       "      <td>2021</td>\n",
       "      <td>July</td>\n",
       "      <td>Tuesday</td>\n",
       "      <td>Russia</td>\n",
       "      <td>0</td>\n",
       "    </tr>\n",
       "  </tbody>\n",
       "</table>\n",
       "</div>"
      ],
      "text/plain": [
       "                             OperadOR                        ac_type  \\\n",
       "5003                Soloy Helicopters    Eurocopter AS350B3 Ecureuil   \n",
       "5004    Military - Nigerian Air Force  Beechcraft B300 King Air 350i   \n",
       "5005     Military - Myanmar Air Force               Beechcraft 1900D   \n",
       "5006  Military - Philippine Air Force       Lockheed C-130H Hercules   \n",
       "5007    Kamchatka Aviation Enterprise             Antonov An 26B-100   \n",
       "\n",
       "     registration  all_aboard  cantidad de fallecidos  ground  \\\n",
       "5003       N351SH           6                       5       0   \n",
       "5004       NAF203          11                      11       0   \n",
       "5005         4610          14                      12       0   \n",
       "5006         5125          96                      50       3   \n",
       "5007     RA-26085          28                      28       0   \n",
       "\n",
       "                                                summary  militar   horario  \\\n",
       "5003  The sightseeing helicopter crashed after missi...        0    Diurno   \n",
       "5004  While on final approach, in poor weather condi...        1    Diurno   \n",
       "5005  The plane was carrying military personnel and ...        1    Diurno   \n",
       "5006  While attempting to land at Jolo Airport, the ...        1  Sin Dato   \n",
       "5007  The passenger plane crashed into the top of a ...        0    Diurno   \n",
       "\n",
       "       año    mes       dia           Pais  mar  \n",
       "5003  2021  March    Sunday  United States    0  \n",
       "5004  2021    May    Friday        Nigeria    0  \n",
       "5005  2021   June  Thursday        Myanmar    0  \n",
       "5006  2021   July    Sunday    Philippines    0  \n",
       "5007  2021   July   Tuesday         Russia    0  "
      ]
     },
     "execution_count": 186,
     "metadata": {},
     "output_type": "execute_result"
    }
   ],
   "source": [
    "#Visualizacion inal\n",
    "aviones_db.tail(5)"
   ]
  },
  {
   "cell_type": "code",
   "execution_count": 188,
   "metadata": {},
   "outputs": [],
   "source": [
    "#Exportamos\n",
    "aviones_db.to_csv('/Users/tobiasolivapinto/Desktop/Proyecto Individual 2 - Henry/AccidentesAviones_ETL.csv', index=False)"
   ]
  },
  {
   "cell_type": "code",
   "execution_count": null,
   "metadata": {},
   "outputs": [],
   "source": []
  }
 ],
 "metadata": {
  "kernelspec": {
   "display_name": "Python 3",
   "language": "python",
   "name": "python3"
  },
  "language_info": {
   "codemirror_mode": {
    "name": "ipython",
    "version": 3
   },
   "file_extension": ".py",
   "mimetype": "text/x-python",
   "name": "python",
   "nbconvert_exporter": "python",
   "pygments_lexer": "ipython3",
   "version": "3.11.1"
  },
  "orig_nbformat": 4
 },
 "nbformat": 4,
 "nbformat_minor": 2
}
